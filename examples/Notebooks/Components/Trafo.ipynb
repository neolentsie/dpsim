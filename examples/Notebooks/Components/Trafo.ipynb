{
 "cells": [
  {
   "cell_type": "markdown",
   "metadata": {},
   "source": [
    "# Trafo Tests"
   ]
  },
  {
   "cell_type": "code",
   "execution_count": null,
   "metadata": {},
   "outputs": [],
   "source": [
    "import villas.dataprocessing.readtools as rt\n",
    "from villas.dataprocessing.timeseries import TimeSeries as ts\n",
    "import matplotlib.pyplot as plt\n",
    "import numpy as np\n",
    "import dpsimpy\n",
    "\n",
    "# %matplotlib widget\n",
    "\n",
    "epsilon = 1e-12\n",
    "\n",
    "PEAK1PH_TO_RMS3PH = np.sqrt(3/2)"
   ]
  },
  {
   "cell_type": "markdown",
   "metadata": {},
   "source": [
    "## SP Trafo Elements Simulation"
   ]
  },
  {
   "cell_type": "code",
   "execution_count": null,
   "metadata": {},
   "outputs": [],
   "source": [
    "time_step = 0.00005\n",
    "final_time = 1\n",
    "sim_name = 'SP_Trafo_Elements'\n",
    "frequency = 50\n",
    "omega = 2 * np.pi * frequency\n",
    "dpsimpy.Logger.set_log_dir('logs/' + sim_name)\n",
    "\n",
    "voltage_hv_side = 100000\n",
    "voltage_mv_side = 10000\n",
    "trafo_resistance = 1\n",
    "trafo_inductance = 0.1\n",
    "trafo_power = 1e6\n",
    "load_resistance_hv_side = 10000\n",
    "ratio = voltage_hv_side / voltage_mv_side\n",
    "\n",
    "n1 = dpsimpy.sp.SimNode('n1')\n",
    "n2 = dpsimpy.sp.SimNode('n2')\n",
    "vn1 = dpsimpy.sp.SimNode('vn1')\n",
    "gnd = dpsimpy.sp.SimNode.gnd\n",
    "\n",
    "vs = dpsimpy.sp.ph1.VoltageSource('v_1')\n",
    "trafo_res = dpsimpy.sp.ph1.Resistor('trafo_res')\n",
    "trafo_ind = dpsimpy.sp.ph1.Inductor('trafo_ind')\n",
    "load_res = dpsimpy.sp.ph1.Resistor('r_1')\n",
    "\n",
    "vs.connect([gnd, n1])\n",
    "trafo_res.connect([n1, vn1])\n",
    "trafo_ind.connect([vn1, n2])\n",
    "load_res.connect([n2, gnd])\n",
    "\n",
    "vs.set_parameters(complex(voltage_hv_side, 0))\n",
    "trafo_res.set_parameters(trafo_resistance)\n",
    "trafo_ind.set_parameters(trafo_inductance)\n",
    "load_res.set_parameters(load_resistance_hv_side)\n",
    "\n",
    "sys = dpsimpy.SystemTopology(50, [n1, n2, vn1], [vs, trafo_res, trafo_ind, load_res])\n",
    "\n",
    "logger = dpsimpy.Logger(sim_name)\n",
    "logger.log_attribute('v1', 'v', n1)\n",
    "logger.log_attribute('v2', 'v', n2)\n",
    "logger.log_attribute('itrafo', 'i_intf', trafo_ind)\n",
    "\n",
    "sim = dpsimpy.Simulation(sim_name)\n",
    "sim.set_system(sys)\n",
    "sim.set_time_step(time_step)\n",
    "sim.set_final_time(final_time)\n",
    "sim.add_logger(logger)\n",
    "sim.set_domain(dpsimpy.Domain.SP)\n",
    "\n",
    "sim.run()"
   ]
  },
  {
   "cell_type": "markdown",
   "metadata": {},
   "source": [
    "## SP Trafo Component Simulation"
   ]
  },
  {
   "cell_type": "code",
   "execution_count": null,
   "metadata": {},
   "outputs": [],
   "source": [
    "time_step = 0.00005\n",
    "final_time = 1\n",
    "sim_name = 'SP_Trafo_Component'\n",
    "dpsimpy.Logger.set_log_dir('logs/' + sim_name)\n",
    "\n",
    "voltage_hv_side = 100000\n",
    "voltage_mv_side = 10000\n",
    "trafo_resistance = 1\n",
    "trafo_inductance = 0.1\n",
    "load_resistance_hv_side = 10000\n",
    "ratio = voltage_hv_side / voltage_mv_side\n",
    "load_resistance_mv_side = load_resistance_hv_side / ratio**2\n",
    "\n",
    "n1 = dpsimpy.sp.SimNode('n1')\n",
    "n2 = dpsimpy.sp.SimNode('n2')\n",
    "gnd = dpsimpy.sp.SimNode.gnd\n",
    "\n",
    "vs = dpsimpy.sp.ph1.VoltageSource('v_1', dpsimpy.LogLevel.debug)\n",
    "trafo = dpsimpy.sp.ph1.Transformer('trafo', 'trafo', dpsimpy.LogLevel.debug)\n",
    "load_res = dpsimpy.sp.ph1.Resistor('r_1', dpsimpy.LogLevel.debug)\n",
    "\n",
    "vs.connect([gnd, n1])\n",
    "trafo.connect([n1, n2])\n",
    "load_res.connect([n2, gnd])\n",
    "\n",
    "vs.set_parameters(complex(voltage_hv_side, 0))\n",
    "trafo.set_parameters(voltage_hv_side, voltage_mv_side, trafo_power, ratio, 0,\n",
    "    trafo_resistance, trafo_inductance)\n",
    "load_res.set_parameters(load_resistance_mv_side)\n",
    "\n",
    "sys = dpsimpy.SystemTopology(50, [n1, n2], [vs, trafo, load_res])\n",
    "\n",
    "logger = dpsimpy.Logger(sim_name)\n",
    "logger.log_attribute('v1', 'v', n1)\n",
    "logger.log_attribute('v2', 'v', n2)\n",
    "logger.log_attribute('itrafo', 'i_intf', trafo)\n",
    "\n",
    "sim = dpsimpy.Simulation(sim_name)\n",
    "sim.set_system(sys)\n",
    "sim.set_time_step(time_step)\n",
    "sim.set_final_time(final_time)\n",
    "sim.add_logger(logger)\n",
    "sim.set_domain(dpsimpy.Domain.SP)\n",
    "\n",
    "sim.run()"
   ]
  },
  {
   "cell_type": "markdown",
   "metadata": {},
   "source": [
    "## DP Trafo Elements Simulation"
   ]
  },
  {
   "cell_type": "code",
   "execution_count": null,
   "metadata": {},
   "outputs": [],
   "source": [
    "time_step = 0.00005\n",
    "final_time = 1\n",
    "sim_name = 'DP_Trafo_Elements'\n",
    "frequency = 50\n",
    "omega = 2 * np.pi * frequency\n",
    "dpsimpy.Logger.set_log_dir('logs/' + sim_name)\n",
    "\n",
    "voltage_hv_side = 100000\n",
    "voltage_mv_side = 10000\n",
    "trafo_resistance = 1\n",
    "trafo_inductance = 0.1\n",
    "trafo_power = 1e6\n",
    "p_snub = dpsimpy.P_SNUB_TRANSFORMER * trafo_power\n",
    "q_snub = dpsimpy.Q_SNUB_TRANSFORMER * trafo_power\n",
    "load_resistance_hv_side = 10000\n",
    "ratio = voltage_hv_side / voltage_mv_side\n",
    "snubber_resistance_hv_side = np.abs(voltage_hv_side)**2 / p_snub\n",
    "snubber_resistance_mv_side_to_hv_side = ratio**2 * np.abs(voltage_mv_side)**2 / p_snub\n",
    "snubber_capacitance_mv_side_to_hv_side = 1/(omega * ratio**2 * np.abs(voltage_mv_side)**2 / q_snub) \n",
    "\n",
    "n1 = dpsimpy.dp.SimNode('n1')\n",
    "n2 = dpsimpy.dp.SimNode('n2')\n",
    "vn1 = dpsimpy.dp.SimNode('vn1')\n",
    "gnd = dpsimpy.dp.SimNode.gnd\n",
    "\n",
    "vs = dpsimpy.dp.ph1.VoltageSource('v_1')\n",
    "trafo_res = dpsimpy.dp.ph1.Resistor('trafo_res')\n",
    "trafo_snubber_res_hv_side = dpsimpy.dp.ph1.Resistor('trafo_snub_res_mv') ##FIXME: Is the naming correct here?\n",
    "trafo_snubber_res_mv_side = dpsimpy.dp.ph1.Resistor('trafo_snub_res_hv')\n",
    "trafo_snubber_cap_mv_side = dpsimpy.dp.ph1.Capacitor('trafo_snub_cap_mv')\n",
    "trafo_ind = dpsimpy.dp.ph1.Inductor('trafo_ind')\n",
    "load_res = dpsimpy.dp.ph1.Resistor('r_1')\n",
    "\n",
    "vs.connect([gnd, n1])\n",
    "trafo_res.connect([n1, vn1])\n",
    "trafo_ind.connect([vn1, n2])\n",
    "trafo_snubber_res_hv_side.connect([n1, gnd])\n",
    "trafo_snubber_res_mv_side.connect([n2, gnd])\n",
    "trafo_snubber_cap_mv_side.connect([n2, gnd])\n",
    "load_res.connect([n2, gnd])\n",
    "\n",
    "vs.set_parameters(complex(voltage_hv_side, 0))\n",
    "trafo_res.set_parameters(trafo_resistance)\n",
    "trafo_ind.set_parameters(trafo_inductance)\n",
    "trafo_snubber_res_hv_side.set_parameters(snubber_resistance_hv_side)\n",
    "trafo_snubber_res_mv_side.set_parameters(snubber_resistance_mv_side_to_hv_side)\n",
    "trafo_snubber_cap_mv_side.set_parameters(snubber_capacitance_mv_side_to_hv_side)\n",
    "load_res.set_parameters(load_resistance_hv_side)\n",
    "\n",
    "sys = dpsimpy.SystemTopology(50, [n1, n2, vn1], [vs, trafo_res, trafo_ind, trafo_snubber_res_hv_side, trafo_snubber_res_mv_side, trafo_snubber_cap_mv_side, load_res])\n",
    "\n",
    "logger = dpsimpy.Logger(sim_name)\n",
    "logger.log_attribute('v1', 'v', n1)\n",
    "logger.log_attribute('v2', 'v', n2)\n",
    "logger.log_attribute('itrafo', 'i_intf', trafo_ind)\n",
    "\n",
    "sim = dpsimpy.Simulation(sim_name)\n",
    "sim.set_system(sys)\n",
    "sim.set_time_step(time_step)\n",
    "sim.set_final_time(final_time)\n",
    "sim.add_logger(logger)\n",
    "sim.set_domain(dpsimpy.Domain.DP)\n",
    "\n",
    "sim.run()"
   ]
  },
  {
   "cell_type": "markdown",
   "metadata": {},
   "source": [
    "## DP Trafo Component Simulation"
   ]
  },
  {
   "cell_type": "code",
   "execution_count": null,
   "metadata": {},
   "outputs": [],
   "source": [
    "time_step = 0.00005\n",
    "final_time = 1\n",
    "sim_name = 'DP_Trafo_Component'\n",
    "dpsimpy.Logger.set_log_dir('logs/' + sim_name)\n",
    "\n",
    "voltage_hv_side = 100000\n",
    "voltage_mv_side = 10000\n",
    "trafo_resistance = 1\n",
    "trafo_inductance = 0.1\n",
    "load_resistance_hv_side = 10000\n",
    "ratio = voltage_hv_side / voltage_mv_side\n",
    "load_resistance_mv_side = load_resistance_hv_side / ratio**2\n",
    "\n",
    "n1 = dpsimpy.dp.SimNode('n1')\n",
    "n2 = dpsimpy.dp.SimNode('n2')\n",
    "gnd = dpsimpy.dp.SimNode.gnd\n",
    "\n",
    "vs = dpsimpy.dp.ph1.VoltageSource('v_1', dpsimpy.LogLevel.debug)\n",
    "trafo = dpsimpy.dp.ph1.Transformer('trafo', 'trafo', dpsimpy.LogLevel.debug, with_resistive_losses=True)\n",
    "load_res = dpsimpy.dp.ph1.Resistor('r_1', dpsimpy.LogLevel.debug)\n",
    "\n",
    "vs.connect([gnd, n1])\n",
    "trafo.connect([n1, n2])\n",
    "load_res.connect([n2, gnd])\n",
    "\n",
    "vs.set_parameters(complex(voltage_hv_side, 0))\n",
    "trafo.set_parameters(voltage_hv_side, voltage_mv_side, trafo_power, ratio, 0,\n",
    "    trafo_resistance, trafo_inductance)\n",
    "load_res.set_parameters(load_resistance_mv_side)\n",
    "\n",
    "sys = dpsimpy.SystemTopology(50, [n1, n2], [vs, trafo, load_res])\n",
    "\n",
    "logger = dpsimpy.Logger(sim_name)\n",
    "logger.log_attribute('v1', 'v', n1)\n",
    "logger.log_attribute('v2', 'v', n2)\n",
    "logger.log_attribute('itrafo', 'i_intf', trafo)\n",
    "\n",
    "sim = dpsimpy.Simulation(sim_name)\n",
    "sim.set_system(sys)\n",
    "sim.set_time_step(time_step)\n",
    "sim.set_final_time(final_time)\n",
    "sim.add_logger(logger)\n",
    "sim.set_domain(dpsimpy.Domain.DP)\n",
    "\n",
    "sim.run()"
   ]
  },
  {
   "cell_type": "markdown",
   "metadata": {},
   "source": [
    "## EMT Trafo Elements Simulation"
   ]
  },
  {
   "cell_type": "code",
   "execution_count": null,
   "metadata": {},
   "outputs": [],
   "source": [
    "time_step = 0.00005\n",
    "final_time = 1\n",
    "sim_name = 'EMT_Trafo_Elements'\n",
    "frequency = 50\n",
    "omega = 2 * np.pi * frequency\n",
    "dpsimpy.Logger.set_log_dir('logs/' + sim_name)\n",
    "\n",
    "voltage_hv_side = 100000\n",
    "voltage_mv_side = 10000\n",
    "trafo_resistance = 1\n",
    "trafo_inductance = 0.1\n",
    "trafo_power = 1e6\n",
    "p_snub = dpsimpy.P_SNUB_TRANSFORMER * trafo_power\n",
    "q_snub = dpsimpy.Q_SNUB_TRANSFORMER * trafo_power\n",
    "load_resistance_hv_side = 10000\n",
    "ratio = voltage_hv_side / voltage_mv_side\n",
    "snubber_resistance_hv_side = np.abs(voltage_hv_side)**2 / p_snub\n",
    "snubber_resistance_mv_side_to_hv_side = ratio**2 * np.abs(voltage_mv_side)**2 / p_snub\n",
    "snubber_capacitance_mv_side_to_hv_side = 1/(omega * ratio**2 * np.abs(voltage_mv_side)**2 / q_snub) \n",
    "\n",
    "\n",
    "n1 = dpsimpy.emt.SimNode('n1', dpsimpy.PhaseType.ABC)\n",
    "n2 = dpsimpy.emt.SimNode('n2', dpsimpy.PhaseType.ABC)\n",
    "vn1 = dpsimpy.emt.SimNode('vn1', dpsimpy.PhaseType.ABC)\n",
    "gnd = dpsimpy.emt.SimNode.gnd\n",
    "\n",
    "vs = dpsimpy.emt.ph3.VoltageSource('v_1')\n",
    "trafo_res = dpsimpy.emt.ph3.Resistor('trafo_res')\n",
    "trafo_snubber_res_hv_side = dpsimpy.emt.ph3.Resistor('trafo_snub_res_mv') ##FIXME: Is the naming correct here?\n",
    "trafo_snubber_res_mv_side = dpsimpy.emt.ph3.Resistor('trafo_snub_res_hv')\n",
    "trafo_snubber_cap_mv_side = dpsimpy.emt.ph3.Capacitor('trafo_snub_cap_mv')\n",
    "trafo_ind = dpsimpy.emt.ph3.Inductor('trafo_ind')\n",
    "load_res = dpsimpy.emt.ph3.Resistor('r_1')\n",
    "\n",
    "vs.connect([gnd, n1])\n",
    "trafo_res.connect([n1, vn1])\n",
    "trafo_ind.connect([vn1, n2])\n",
    "trafo_snubber_res_hv_side.connect([n1, gnd])\n",
    "trafo_snubber_res_mv_side.connect([n2, gnd])\n",
    "trafo_snubber_cap_mv_side.connect([n2, gnd])\n",
    "load_res.connect([n2, gnd])\n",
    "\n",
    "vs.set_parameters(dpsimpy.Math.single_phase_variable_to_three_phase(complex(voltage_hv_side, 0)), 50)\n",
    "trafo_res.set_parameters(dpsimpy.Math.single_phase_parameter_to_three_phase(trafo_resistance))\n",
    "trafo_ind.set_parameters(dpsimpy.Math.single_phase_parameter_to_three_phase(trafo_inductance))\n",
    "trafo_snubber_res_hv_side.set_parameters(dpsimpy.Math.single_phase_parameter_to_three_phase(snubber_resistance_hv_side))\n",
    "trafo_snubber_res_mv_side.set_parameters(dpsimpy.Math.single_phase_parameter_to_three_phase(snubber_resistance_mv_side_to_hv_side))\n",
    "trafo_snubber_cap_mv_side.set_parameters(dpsimpy.Math.single_phase_parameter_to_three_phase(snubber_capacitance_mv_side_to_hv_side))\n",
    "load_res.set_parameters(dpsimpy.Math.single_phase_parameter_to_three_phase(load_resistance_hv_side))\n",
    "\n",
    "sys = dpsimpy.SystemTopology(50, [n1, n2, vn1], [vs, trafo_res, trafo_ind, trafo_snubber_res_hv_side, trafo_snubber_res_mv_side, trafo_snubber_cap_mv_side, load_res])\n",
    "\n",
    "logger = dpsimpy.Logger(sim_name)\n",
    "logger.log_attribute('v1', 'v', n1)\n",
    "logger.log_attribute('v2', 'v', n2)\n",
    "logger.log_attribute('itrafo', 'i_intf', trafo_ind)\n",
    "\n",
    "sim = dpsimpy.Simulation(sim_name)\n",
    "sim.set_system(sys)\n",
    "sim.set_time_step(time_step)\n",
    "sim.set_final_time(final_time)\n",
    "sim.add_logger(logger)\n",
    "sim.set_domain(dpsimpy.Domain.EMT)\n",
    "\n",
    "sim.run()"
   ]
  },
  {
   "cell_type": "markdown",
   "metadata": {},
   "source": [
    "## EMT Trafo Component Simulation"
   ]
  },
  {
   "cell_type": "code",
   "execution_count": null,
   "metadata": {},
   "outputs": [],
   "source": [
    "time_step = 0.00005\n",
    "final_time = 1\n",
    "sim_name = 'EMT_Trafo_Component'\n",
    "dpsimpy.Logger.set_log_dir('logs/' + sim_name)\n",
    "\n",
    "voltage_hv_side = 100000\n",
    "voltage_mv_side = 10000\n",
    "trafo_resistance = 1\n",
    "trafo_inductance = 0.1\n",
    "load_resistance_hv_side = 10000\n",
    "ratio = voltage_hv_side / voltage_mv_side\n",
    "load_resistance_mv_side = load_resistance_hv_side / ratio**2\n",
    "\n",
    "n1 = dpsimpy.emt.SimNode('n1', dpsimpy.PhaseType.ABC)\n",
    "n2 = dpsimpy.emt.SimNode('n2', dpsimpy.PhaseType.ABC)\n",
    "gnd = dpsimpy.emt.SimNode.gnd\n",
    "\n",
    "vs = dpsimpy.emt.ph3.VoltageSource('v_1', dpsimpy.LogLevel.debug)\n",
    "trafo = dpsimpy.emt.ph3.Transformer('trafo', 'trafo', dpsimpy.LogLevel.debug, with_resistive_losses=True)\n",
    "load_res = dpsimpy.emt.ph3.Resistor('r_1', dpsimpy.LogLevel.debug)\n",
    "\n",
    "vs.connect([gnd, n1])\n",
    "trafo.connect([n1, n2])\n",
    "load_res.connect([n2, gnd])\n",
    "\n",
    "vs.set_parameters(dpsimpy.Math.single_phase_variable_to_three_phase(complex(voltage_hv_side, 0)), 50)\n",
    "trafo.set_parameters(voltage_hv_side, voltage_mv_side, trafo_power, ratio, 0,\n",
    "    dpsimpy.Math.single_phase_parameter_to_three_phase(trafo_resistance),\n",
    "    dpsimpy.Math.single_phase_parameter_to_three_phase(trafo_inductance))\n",
    "load_res.set_parameters(dpsimpy.Math.single_phase_parameter_to_three_phase(load_resistance_mv_side))\n",
    "\n",
    "sys = dpsimpy.SystemTopology(50, [n1, n2], [vs, trafo, load_res])\n",
    "\n",
    "logger = dpsimpy.Logger(sim_name)\n",
    "logger.log_attribute('v1', 'v', n1)\n",
    "logger.log_attribute('v2', 'v', n2)\n",
    "logger.log_attribute('itrafo', 'i_intf', trafo)\n",
    "\n",
    "sim = dpsimpy.Simulation(sim_name)\n",
    "sim.set_system(sys)\n",
    "sim.set_time_step(time_step)\n",
    "sim.set_final_time(final_time)\n",
    "sim.add_logger(logger)\n",
    "sim.set_domain(dpsimpy.Domain.EMT)\n",
    "\n",
    "sim.run()"
   ]
  },
  {
   "attachments": {},
   "cell_type": "markdown",
   "metadata": {},
   "source": [
    "## SP Trafo with elements"
   ]
  },
  {
   "cell_type": "code",
   "execution_count": null,
   "metadata": {},
   "outputs": [],
   "source": [
    "work_dir = 'logs/SP_Trafo_Elements/'\n",
    "log_name = 'SP_Trafo_Elements'\n",
    "print(work_dir + log_name + '.csv')\n",
    "trafo_elements = rt.read_timeseries_dpsim(work_dir + log_name + '.csv')\n",
    "trafo_elements_sp_shifted = ts.frequency_shift_list(trafo_elements, 50)"
   ]
  },
  {
   "cell_type": "code",
   "execution_count": null,
   "metadata": {},
   "outputs": [],
   "source": [
    "plt.figure()\n",
    "plt.plot(trafo_elements_sp_shifted['v1_shift'].time, trafo_elements_sp_shifted['v1_shift'].values, label='v1_shift')\n",
    "plt.legend()\n",
    "plt.show()"
   ]
  },
  {
   "cell_type": "code",
   "execution_count": null,
   "metadata": {},
   "outputs": [],
   "source": [
    "plt.figure()\n",
    "plt.plot(trafo_elements_sp_shifted['itrafo_shift'].time, trafo_elements_sp_shifted['itrafo_shift'].values, label='itrafo_shift')\n",
    "plt.legend()\n",
    "plt.show()"
   ]
  },
  {
   "cell_type": "markdown",
   "metadata": {},
   "source": [
    "## SP Trafo composite model"
   ]
  },
  {
   "cell_type": "code",
   "execution_count": null,
   "metadata": {},
   "outputs": [],
   "source": [
    "work_dir = 'logs/SP_Trafo_Component/'\n",
    "log_name = 'SP_Trafo_Component'\n",
    "print(work_dir + log_name + '.csv')\n",
    "trafo_component = rt.read_timeseries_dpsim(work_dir + log_name + '.csv')\n",
    "trafo_component_sp_shifted = ts.frequency_shift_list(trafo_component, 50)\n",
    "trafo_component_sp_shifted['itrafo_shift'].values = -trafo_component_sp_shifted['itrafo_shift'].values"
   ]
  },
  {
   "cell_type": "code",
   "execution_count": null,
   "metadata": {},
   "outputs": [],
   "source": [
    "plt.figure()\n",
    "plt.plot(trafo_component_sp_shifted['v1_shift'].time, trafo_component_sp_shifted['v1_shift'].values, label='v1_shift')\n",
    "plt.legend()\n",
    "plt.show()"
   ]
  },
  {
   "cell_type": "code",
   "execution_count": null,
   "metadata": {},
   "outputs": [],
   "source": [
    "plt.figure()\n",
    "plt.plot(trafo_component_sp_shifted['itrafo_shift'].time, trafo_component_sp_shifted['itrafo_shift'].values, label='itrafo_shift')\n",
    "plt.legend()\n",
    "plt.show()"
   ]
  },
  {
   "cell_type": "markdown",
   "metadata": {},
   "source": [
    "## Error for SP Trafo"
   ]
  },
  {
   "cell_type": "code",
   "execution_count": null,
   "metadata": {},
   "outputs": [],
   "source": [
    "plt.figure()\n",
    "for name in ['v1_shift', 'itrafo_shift']:\n",
    "    plt.plot(trafo_elements_sp_shifted[name].time, trafo_elements_sp_shifted[name].values - trafo_component_sp_shifted[name].values, label=name+'_error')\n",
    "plt.legend()\n",
    "plt.show()"
   ]
  },
  {
   "cell_type": "markdown",
   "metadata": {},
   "source": [
    "## Assertion for SP Trafo"
   ]
  },
  {
   "cell_type": "code",
   "execution_count": null,
   "metadata": {},
   "outputs": [],
   "source": [
    "errors_sp_shifted = []\n",
    "for name in ['v1_shift', 'itrafo_shift']:\n",
    "    errors_sp_shifted.append(np.absolute(trafo_elements_sp_shifted[name].values - trafo_component_sp_shifted[name].values).max())\n",
    "    print(name + ': ' + str(errors_sp_shifted[-1]))\n",
    "assert np.max(errors_sp_shifted) < epsilon"
   ]
  },
  {
   "cell_type": "markdown",
   "metadata": {},
   "source": [
    "## DP Trafo with elements"
   ]
  },
  {
   "cell_type": "code",
   "execution_count": null,
   "metadata": {},
   "outputs": [],
   "source": [
    "work_dir = 'logs/DP_Trafo_Elements/'\n",
    "log_name = 'DP_Trafo_Elements'\n",
    "print(work_dir + log_name + '.csv')\n",
    "trafo_elements = rt.read_timeseries_dpsim(work_dir + log_name + '.csv')\n",
    "trafo_elements_dp_shifted = ts.frequency_shift_list(trafo_elements, 50)"
   ]
  },
  {
   "cell_type": "code",
   "execution_count": null,
   "metadata": {},
   "outputs": [],
   "source": [
    "plt.figure()\n",
    "plt.plot(trafo_elements_dp_shifted['v1_shift'].time, trafo_elements_dp_shifted['v1_shift'].values, label='v1_shift')\n",
    "plt.legend()\n",
    "plt.show()"
   ]
  },
  {
   "cell_type": "code",
   "execution_count": null,
   "metadata": {},
   "outputs": [],
   "source": [
    "plt.figure()\n",
    "plt.plot(trafo_elements_dp_shifted['itrafo_shift'].time, trafo_elements_dp_shifted['itrafo_shift'].values, label='itrafo_shift')\n",
    "plt.legend()\n",
    "plt.show()"
   ]
  },
  {
   "cell_type": "markdown",
   "metadata": {},
   "source": [
    "## DP Trafo composite model"
   ]
  },
  {
   "cell_type": "code",
   "execution_count": null,
   "metadata": {},
   "outputs": [],
   "source": [
    "work_dir = 'logs/DP_Trafo_Component/'\n",
    "log_name = 'DP_Trafo_Component'\n",
    "print(work_dir + log_name + '.csv')\n",
    "trafo_component = rt.read_timeseries_dpsim(work_dir + log_name + '.csv')\n",
    "trafo_component_dp_shifted = ts.frequency_shift_list(trafo_component, 50)"
   ]
  },
  {
   "cell_type": "code",
   "execution_count": null,
   "metadata": {},
   "outputs": [],
   "source": [
    "plt.figure()\n",
    "plt.plot(trafo_component_dp_shifted['v1_shift'].time, trafo_component_dp_shifted['v1_shift'].values, label='v1_shift')\n",
    "plt.legend()\n",
    "plt.show()"
   ]
  },
  {
   "cell_type": "code",
   "execution_count": null,
   "metadata": {},
   "outputs": [],
   "source": [
    "plt.figure()\n",
    "plt.plot(trafo_component_dp_shifted['itrafo_shift'].time, trafo_component_dp_shifted['itrafo_shift'].values, label='itrafo_shift')\n",
    "plt.legend()\n",
    "plt.show()"
   ]
  },
  {
   "cell_type": "markdown",
   "metadata": {},
   "source": [
    "## Error for DP Trafo"
   ]
  },
  {
   "cell_type": "code",
   "execution_count": null,
   "metadata": {},
   "outputs": [],
   "source": [
    "plt.figure()\n",
    "for name in ['v1_shift', 'itrafo_shift']:\n",
    "    plt.plot(trafo_elements_dp_shifted[name].time, trafo_elements_dp_shifted[name].values - trafo_component_dp_shifted[name].values, label=name+'_error')\n",
    "plt.legend()\n",
    "plt.show()"
   ]
  },
  {
   "cell_type": "markdown",
   "metadata": {},
   "source": [
    "## Assertion for DP Trafo"
   ]
  },
  {
   "cell_type": "code",
   "execution_count": null,
   "metadata": {},
   "outputs": [],
   "source": [
    "errors_dp_shifted = []\n",
    "for name in ['v1_shift', 'itrafo_shift']:\n",
    "    errors_dp_shifted.append(np.absolute(trafo_elements_dp_shifted[name].values - trafo_component_dp_shifted[name].values).max())\n",
    "    print(name + ': ' + str(errors_dp_shifted[-1]))\n",
    "assert np.max(errors_dp_shifted) < epsilon"
   ]
  },
  {
   "cell_type": "markdown",
   "metadata": {},
   "source": [
    "## EMT Trafo with elements"
   ]
  },
  {
   "cell_type": "code",
   "execution_count": null,
   "metadata": {},
   "outputs": [],
   "source": [
    "work_dir = 'logs/EMT_Trafo_Elements/'\n",
    "log_name = 'EMT_Trafo_Elements'\n",
    "print(work_dir + log_name + '.csv')\n",
    "trafo_elements_emt = rt.read_timeseries_dpsim(work_dir + log_name + '.csv')"
   ]
  },
  {
   "cell_type": "code",
   "execution_count": null,
   "metadata": {},
   "outputs": [],
   "source": [
    "plt.figure()\n",
    "plt.plot(trafo_elements_emt['v1_0'].time, PEAK1PH_TO_RMS3PH*trafo_elements_emt['v1_0'].values, label='v1_0')\n",
    "plt.legend()\n",
    "plt.show()"
   ]
  },
  {
   "cell_type": "code",
   "execution_count": null,
   "metadata": {},
   "outputs": [],
   "source": [
    "plt.figure()\n",
    "plt.plot(trafo_elements_emt['itrafo_0'].time, PEAK1PH_TO_RMS3PH*trafo_elements_emt['itrafo_0'].values, label='itrafo_0')\n",
    "plt.legend()\n",
    "plt.show()"
   ]
  },
  {
   "cell_type": "markdown",
   "metadata": {},
   "source": [
    "## EMT Trafo composite model"
   ]
  },
  {
   "cell_type": "code",
   "execution_count": null,
   "metadata": {},
   "outputs": [],
   "source": [
    "work_dir = 'logs/EMT_Trafo_Component/'\n",
    "log_name = 'EMT_Trafo_Component'\n",
    "print(work_dir + log_name + '.csv')\n",
    "trafo_component_emt = rt.read_timeseries_dpsim(work_dir + log_name + '.csv')"
   ]
  },
  {
   "cell_type": "code",
   "execution_count": null,
   "metadata": {},
   "outputs": [],
   "source": [
    "plt.figure()\n",
    "plt.plot(trafo_component_emt['v1_0'].time, PEAK1PH_TO_RMS3PH*trafo_component_emt['v1_0'].values, label='v1_0')\n",
    "plt.plot(trafo_component_emt['v1_1'].time, PEAK1PH_TO_RMS3PH*trafo_component_emt['v1_1'].values, label='v1_1')\n",
    "plt.plot(trafo_component_emt['v1_2'].time, PEAK1PH_TO_RMS3PH*trafo_component_emt['v1_2'].values, label='v1_2')\n",
    "plt.legend()\n",
    "plt.show()"
   ]
  },
  {
   "cell_type": "code",
   "execution_count": null,
   "metadata": {},
   "outputs": [],
   "source": [
    "plt.figure()\n",
    "plt.plot(trafo_component_emt['itrafo_0'].time, PEAK1PH_TO_RMS3PH*trafo_component_emt['itrafo_0'].values, label='itrafo_0')\n",
    "plt.plot(trafo_component_emt['itrafo_1'].time, PEAK1PH_TO_RMS3PH*trafo_component_emt['itrafo_1'].values, label='itrafo_1')\n",
    "plt.plot(trafo_component_emt['itrafo_2'].time, PEAK1PH_TO_RMS3PH*trafo_component_emt['itrafo_2'].values, label='itrafo_2')\n",
    "plt.legend()\n",
    "plt.show()"
   ]
  },
  {
   "cell_type": "markdown",
   "metadata": {},
   "source": [
    "## Error for EMT Trafo"
   ]
  },
  {
   "cell_type": "code",
   "execution_count": null,
   "metadata": {},
   "outputs": [],
   "source": [
    "plt.figure()\n",
    "for name in ['v1_0', 'v1_1', 'v1_1', 'itrafo_0', 'itrafo_1', 'itrafo_2']:\n",
    "    plt.plot(trafo_elements_emt[name].time, trafo_elements_emt[name].values - trafo_component_emt[name].values, label=name+'_error')\n",
    "plt.legend()\n",
    "plt.show()"
   ]
  },
  {
   "cell_type": "markdown",
   "metadata": {},
   "source": [
    "## Assertion for EMT Trafo"
   ]
  },
  {
   "cell_type": "code",
   "execution_count": null,
   "metadata": {},
   "outputs": [],
   "source": [
    "errors_emt = []\n",
    "for name in ['v1_0', 'v1_1', 'v1_1', 'itrafo_0', 'itrafo_1', 'itrafo_2']:\n",
    "    errors_emt.append(np.absolute(trafo_elements_emt[name].values - trafo_component_emt[name].values).max())\n",
    "    print(name + ': ' + str(errors_emt[-1]))\n",
    "assert np.max(errors_emt) < epsilon"
   ]
  },
  {
   "cell_type": "markdown",
   "metadata": {},
   "source": [
    "### Comparison SP vs. DP"
   ]
  },
  {
   "cell_type": "code",
   "execution_count": null,
   "metadata": {},
   "outputs": [],
   "source": [
    "plt.figure()\n",
    "for name in [('v1_shift', 'v1_shift')]:\n",
    "    plt.plot(trafo_component_sp_shifted[name[0]].time, trafo_component_sp_shifted[name[0]].values - trafo_component_dp_shifted[name[1]].values, label=name[0]+' (SP) vs. '+name[1]+' (DP)')\n",
    "plt.legend()\n",
    "plt.show()"
   ]
  },
  {
   "cell_type": "code",
   "execution_count": null,
   "metadata": {},
   "outputs": [],
   "source": [
    "plt.figure()\n",
    "for name in [('itrafo_shift', 'itrafo_shift')]:\n",
    "    plt.plot(trafo_component_sp_shifted[name[0]].time, trafo_component_sp_shifted[name[0]].values - trafo_component_dp_shifted[name[1]].values, label=name[0]+' (SP) vs. '+name[1]+' (DP)')\n",
    "plt.legend()\n",
    "plt.show()"
   ]
  },
  {
   "cell_type": "markdown",
   "metadata": {},
   "source": [
    "### Assertion SP vs. DP"
   ]
  },
  {
   "cell_type": "code",
   "execution_count": null,
   "metadata": {},
   "outputs": [],
   "source": [
    "compare_errors_abs = []\n",
    "compare_errors_rel = []\n",
    "for name in [('v1_shift', 'v1_shift'), ('itrafo_shift', 'itrafo_shift')]:\n",
    "    compare_errors_abs.append(np.absolute(trafo_component_sp_shifted[name[0]].values - trafo_component_dp_shifted[name[1]].values).max())\n",
    "    compare_errors_rel.append(np.absolute(trafo_component_sp_shifted[name[0]].values - trafo_component_dp_shifted[name[1]].values).max()/trafo_component_dp_shifted[name[1]].values.max())\n",
    "    print(name[0]+' vs. '+name[1] + ' (abs): ' + str(compare_errors_abs[-1]))\n",
    "    print(name[0]+' vs. '+name[1] + ' (rel): ' + str(compare_errors_rel[-1]))\n",
    "print('Max rel error: '+ '{:.2}'.format(np.max(compare_errors_rel)*100) +'%')\n",
    "assert np.max(compare_errors_rel) < 3e-1"
   ]
  },
  {
   "cell_type": "markdown",
   "metadata": {},
   "source": [
    "### Comparison EMT vs. DP"
   ]
  },
  {
   "cell_type": "code",
   "execution_count": null,
   "metadata": {},
   "outputs": [],
   "source": [
    "plt.figure()\n",
    "for name in [('v1_0', 'v1_shift')]:\n",
    "    plt.plot(trafo_component_emt[name[0]].time, PEAK1PH_TO_RMS3PH*trafo_component_emt[name[0]].values - trafo_component_dp_shifted[name[1]].values, label=name[0]+' vs. '+name[1])\n",
    "plt.legend()\n",
    "plt.show()"
   ]
  },
  {
   "cell_type": "code",
   "execution_count": null,
   "metadata": {},
   "outputs": [],
   "source": [
    "plt.figure()\n",
    "for name in [('itrafo_0', 'itrafo_shift')]:\n",
    "    plt.plot(trafo_component_emt[name[0]].time, PEAK1PH_TO_RMS3PH*trafo_component_emt[name[0]].values - trafo_component_dp_shifted[name[1]].values, label=name[0]+' vs. '+name[1])\n",
    "plt.legend()\n",
    "plt.show()"
   ]
  },
  {
   "cell_type": "markdown",
   "metadata": {},
   "source": [
    "### Assertion EMT vs. DP"
   ]
  },
  {
   "cell_type": "code",
   "execution_count": null,
   "metadata": {},
   "outputs": [],
   "source": [
    "compare_errors_abs = []\n",
    "compare_errors_rel = []\n",
    "for name in [('v1_0', 'v1_shift'), ('itrafo_0', 'itrafo_shift')]:\n",
    "    compare_errors_abs.append(np.absolute(PEAK1PH_TO_RMS3PH*trafo_component_emt[name[0]].values - trafo_component_dp_shifted[name[1]].values).max())\n",
    "    compare_errors_rel.append(np.absolute(PEAK1PH_TO_RMS3PH*trafo_component_emt[name[0]].values - trafo_component_dp_shifted[name[1]].values).max()/trafo_component_dp_shifted[name[1]].values.max())\n",
    "    print(name[0]+' vs. '+name[1] + ' (abs): ' + str(compare_errors_abs[-1]))\n",
    "    print(name[0]+' vs. '+name[1] + ' (rel): ' + str(compare_errors_rel[-1]))\n",
    "print('Max rel error: '+ '{:.2}'.format(np.max(compare_errors_rel)*100) +'%')\n",
    "assert np.max(compare_errors_rel) < 1e-4"
   ]
  }
 ],
 "metadata": {
  "interpreter": {
   "hash": "31f2aee4e71d21fbe5cf8b01ff0e069b9275f58929596ceb00d14d90e3e16cd6"
  },
  "kernelspec": {
   "display_name": "Python 3.9.6 64-bit",
   "name": "python3"
  },
  "language_info": {
   "codemirror_mode": {
    "name": "ipython",
    "version": 3
   },
   "file_extension": ".py",
   "mimetype": "text/x-python",
   "name": "python",
   "nbconvert_exporter": "python",
   "pygments_lexer": "ipython3",
   "version": "3.9.7"
  }
 },
 "nbformat": 4,
 "nbformat_minor": 4
}
