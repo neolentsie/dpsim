{
 "cells": [
  {
   "cell_type": "markdown",
   "metadata": {},
   "source": [
    "# Synchronous Generator - Classic Transient Stability Model"
   ]
  },
  {
   "cell_type": "code",
   "execution_count": null,
   "metadata": {},
   "outputs": [],
   "source": [
    "import villas.dataprocessing.readtools as rt\n",
    "import villas.dataprocessing.plottools as pt\n",
    "from villas.dataprocessing.timeseries import TimeSeries as ts\n",
    "import matplotlib.pyplot as plt\n",
    "import dpsimpy\n",
    "import numpy as np"
   ]
  },
  {
   "cell_type": "markdown",
   "metadata": {},
   "source": [
    "## Steady State"
   ]
  },
  {
   "cell_type": "code",
   "execution_count": null,
   "metadata": {},
   "outputs": [],
   "source": [
    "# FIXME: Why does this have to run in a seperate function for the simulation to produce the Left- and RightVector log files?\n",
    "def DpSynGenTrStab_SteadyState():\n",
    "    # Define simulation parameters\n",
    "    time_step = 0.0005\n",
    "    final_time = 0.03\n",
    "    sim_name = 'DP_SynGen_TrStab_SteadyState'\n",
    "    dpsimpy.Logger.set_log_dir('logs/' + sim_name)\n",
    "\n",
    "    # Define machine parameters in per unit\n",
    "    nom_power = 555e6\n",
    "    nom_ph_ph_volt_rms = 24e3\n",
    "    nom_freq = 60\n",
    "    H = 3.7\n",
    "    Ll = 0.15\n",
    "    Lmd = 1.6599\n",
    "    Llfd = 0.1648\n",
    "\n",
    "    # Initialization parameters\n",
    "    init_elec_power = complex(300e6, 0)\n",
    "    init_terminal_volt = 24000\n",
    "    init_volt_angle = 0\n",
    "    init_voltage = init_terminal_volt * np.exp(init_volt_angle * 1j)\n",
    "    mech_power = 300e6\n",
    "\n",
    "    # Define grid parameters\n",
    "    R_load = 1.92\n",
    "\n",
    "    # Nodes\n",
    "    n1 = dpsimpy.dp.SimNode('n1', dpsimpy.PhaseType.Single, [init_voltage])\n",
    "\n",
    "    # Components\n",
    "    gen = dpsimpy.dp.ph1.SynchronGeneratorTrStab('SynGen', dpsimpy.LogLevel.debug)\n",
    "    gen.set_fundamental_parameters_PU(nom_power, nom_ph_ph_volt_rms, nom_freq, Ll, Lmd, Llfd, H)\n",
    "    gen.connect([n1])\n",
    "    gen.set_initial_values(init_elec_power, mech_power)\n",
    "\n",
    "    res = dpsimpy.dp.ph1.Resistor('Rl', dpsimpy.LogLevel.debug)\n",
    "    res.set_parameters(R_load)\n",
    "    res.connect([dpsimpy.dp.SimNode.gnd, n1])\n",
    "\n",
    "    # System\n",
    "    sys = dpsimpy.SystemTopology(60, [n1], [gen, res])\n",
    "\n",
    "    # Logging\n",
    "    logger = dpsimpy.Logger(sim_name)\n",
    "    logger.log_attribute('v1', 'v', n1)\n",
    "    logger.log_attribute('i_gen', 'i_intf', gen)\n",
    "    logger.log_attribute('i_load', 'i_intf', res)\n",
    "    logger.log_attribute('wr_gen', 'w_r', gen)\n",
    "\n",
    "    # Simulation\n",
    "    sim = dpsimpy.Simulation(sim_name, dpsimpy.LogLevel.trace)\n",
    "    sim.set_solver(dpsimpy.Solver.MNA)\n",
    "    sim.set_system(sys)\n",
    "    sim.set_time_step(time_step)\n",
    "    sim.set_final_time(final_time)\n",
    "    sim.set_domain(dpsimpy.Domain.DP)\n",
    "    sim.add_logger(logger)\n",
    "    sim.run()\n"
   ]
  },
  {
   "cell_type": "code",
   "execution_count": null,
   "metadata": {},
   "outputs": [],
   "source": [
    "DpSynGenTrStab_SteadyState()"
   ]
  },
  {
   "cell_type": "code",
   "execution_count": null,
   "metadata": {},
   "outputs": [],
   "source": [
    "# read log file\n",
    "work_dir = 'logs/DP_SynGen_TrStab_SteadyState/'\n",
    "logName_ststate = 'DP_SynGen_TrStab_SteadyState_LeftVector'\n",
    "print(work_dir + logName_ststate + '.csv')\n",
    "ts_dpsim_ststate = rt.read_timeseries_dpsim(work_dir + logName_ststate + '.csv')\n",
    "ts_dpsim_ststate_emt = ts.frequency_shift_list(ts_dpsim_ststate, 60)\n",
    "phasors_ststate = ts.phasors(ts_dpsim_ststate)"
   ]
  },
  {
   "cell_type": "code",
   "execution_count": null,
   "metadata": {},
   "outputs": [],
   "source": [
    "for node, phasor in phasors_ststate.items():\n",
    "    print(node + ': ' + str(phasor['abs'].values[0]) + '<' + str(phasor['phase'].values[0]))"
   ]
  },
  {
   "cell_type": "code",
   "execution_count": null,
   "metadata": {},
   "outputs": [],
   "source": [
    "pt.plot_timeseries(1, ts_dpsim_ststate_emt['n00000f00_shift'])\n",
    "pt.plot_timeseries(1, ts_dpsim_ststate_emt['n00001f00_shift'])"
   ]
  },
  {
   "cell_type": "code",
   "execution_count": null,
   "metadata": {},
   "outputs": [],
   "source": [
    "# read log file\n",
    "work_dir = './logs/DP_SynGen_TrStab_SteadyState/'\n",
    "logName_ststate = 'DP_SynGen_TrStab_SteadyState'\n",
    "print(work_dir + logName_ststate + '.csv')\n",
    "ts_dpsim_ststate = rt.read_timeseries_dpsim(work_dir + logName_ststate + '.csv')\n",
    "ts_dpsim_ststate_emt = ts.frequency_shift_list(ts_dpsim_ststate, 60)\n",
    "phasors_ststate = ts.phasors(ts_dpsim_ststate)"
   ]
  },
  {
   "cell_type": "code",
   "execution_count": null,
   "metadata": {},
   "outputs": [],
   "source": [
    "print('v1' + ': ' + str(phasors_ststate['v1']['abs'].values[0]) + '<' + str(phasors_ststate['v1']['phase'].values[0]))"
   ]
  },
  {
   "cell_type": "code",
   "execution_count": null,
   "metadata": {},
   "outputs": [],
   "source": [
    "pt.plot_timeseries(1, ts_dpsim_ststate['wr_gen'])\n",
    "plt.ylim([375,380])"
   ]
  },
  {
   "cell_type": "code",
   "execution_count": null,
   "metadata": {},
   "outputs": [],
   "source": [
    "import numpy as np\n",
    "assert np.max(ts_dpsim_ststate['wr_gen'].values[0] - ts_dpsim_ststate['wr_gen'].values[-1]) < 0.001"
   ]
  },
  {
   "cell_type": "markdown",
   "metadata": {},
   "source": [
    "## Load Step"
   ]
  },
  {
   "cell_type": "code",
   "execution_count": null,
   "metadata": {},
   "outputs": [],
   "source": [
    "# Define simulation parameters\n",
    "time_step = 0.0005\n",
    "final_time = 0.1\n",
    "sim_name = 'DP_SynGen_TrStab_LoadStep'\n",
    "dpsimpy.Logger.set_log_dir('logs/' + sim_name)\n",
    "\n",
    "# Define machine parameters in per unit\n",
    "nom_power = 555e6\n",
    "nom_ph_ph_volt_rms = 24e3\n",
    "nom_freq = 60\n",
    "H = 3.7\n",
    "Ll = 0.15\n",
    "Lmd = 1.6599\n",
    "Llfd = 0.1648\n",
    "\n",
    "# Initialization parameters\n",
    "init_elec_power = complex(300e6, 0)\n",
    "init_terminal_volt = 24000\n",
    "init_volt_angle = 0\n",
    "init_voltage = init_terminal_volt * np.exp(init_volt_angle * 1j)\n",
    "mech_power = 300e6\n",
    "\n",
    "# Define grid parameters\n",
    "R_load = 1.92\n",
    "R_load_step = 0.7\n",
    "\n",
    "# Nodes\n",
    "n1 = dpsimpy.dp.SimNode('n1', dpsimpy.PhaseType.Single, [init_voltage])\n",
    "\n",
    "# Components\n",
    "gen = dpsimpy.dp.ph1.SynchronGeneratorTrStab('SynGen', dpsimpy.LogLevel.debug)\n",
    "gen.set_fundamental_parameters_PU(nom_power, nom_ph_ph_volt_rms, nom_freq, Ll, Lmd, Llfd, H)\n",
    "gen.connect([n1])\n",
    "gen.set_initial_values(init_elec_power, mech_power)\n",
    "\n",
    "load = dpsimpy.dp.ph1.Switch('StepLoad', dpsimpy.LogLevel.debug)\n",
    "load.set_parameters(R_load, R_load_step)\n",
    "load.connect([dpsimpy.dp.SimNode.gnd, n1])\n",
    "load.open()\n",
    "\n",
    "# System\n",
    "sys = dpsimpy.SystemTopology(60, [n1], [gen, load])\n",
    "\n",
    "# Logging\n",
    "logger = dpsimpy.Logger(sim_name)\n",
    "logger.log_attribute('v1', 'v', n1)\n",
    "logger.log_attribute('i_gen', 'i_intf', gen)\n",
    "logger.log_attribute('i_load', 'i_intf', load)\n",
    "logger.log_attribute('wr_gen', 'w_r', gen)\n",
    "\n",
    "# Simulation\n",
    "sim = dpsimpy.Simulation(sim_name, dpsimpy.LogLevel.info)\n",
    "sim.set_solver(dpsimpy.Solver.MNA)\n",
    "sim.set_system(sys)\n",
    "sim.set_time_step(time_step)\n",
    "sim.set_final_time(final_time)\n",
    "sim.set_domain(dpsimpy.Domain.DP)\n",
    "sim.add_logger(logger)\n",
    "\n",
    "# Events\n",
    "sw1 = dpsimpy.event.SwitchEvent(0.05, load, True)\n",
    "sim.add_event(sw1)\n",
    "\n",
    "sim.run()\n"
   ]
  },
  {
   "cell_type": "code",
   "execution_count": null,
   "metadata": {},
   "outputs": [],
   "source": [
    "# read log file\n",
    "work_dir = 'logs/DP_SynGen_TrStab_LoadStep/'\n",
    "logName = 'DP_SynGen_TrStab_LoadStep'\n",
    "print(work_dir + logName + '.csv')\n",
    "ts_dpsim_loadstep= rt.read_timeseries_dpsim(work_dir + logName + '.csv')\n",
    "ts_dpsim_loadstep_emt = ts.frequency_shift_list(ts_dpsim_loadstep, 60)\n",
    "phasors_loadstep = ts.phasors(ts_dpsim_loadstep)"
   ]
  },
  {
   "cell_type": "code",
   "execution_count": null,
   "metadata": {},
   "outputs": [],
   "source": [
    "print('v1' + ': ' + str(phasors_loadstep['v1']['abs'].values[0]) + '<' + str(phasors_loadstep['v1']['phase'].values[0]))"
   ]
  },
  {
   "cell_type": "code",
   "execution_count": null,
   "metadata": {},
   "outputs": [],
   "source": [
    "pt.plot_timeseries(2, ts_dpsim_loadstep_emt['v1_shift'])\n",
    "plt.xlim(0.03, 0.07)  "
   ]
  },
  {
   "cell_type": "code",
   "execution_count": null,
   "metadata": {},
   "outputs": [],
   "source": [
    "pt.plot_timeseries(3, ts_dpsim_loadstep['wr_gen'])"
   ]
  },
  {
   "cell_type": "code",
   "execution_count": null,
   "metadata": {},
   "outputs": [],
   "source": [
    "assert np.max(ts_dpsim_loadstep['wr_gen'].values[0] - ts_dpsim_loadstep['wr_gen'].values[-1]) < 5"
   ]
  }
 ],
 "metadata": {
  "kernelspec": {
   "display_name": "Python 3 (ipykernel)",
   "language": "python",
   "name": "python3"
  },
  "language_info": {
   "codemirror_mode": {
    "name": "ipython",
    "version": 3
   },
   "file_extension": ".py",
   "mimetype": "text/x-python",
   "name": "python",
   "nbconvert_exporter": "python",
   "pygments_lexer": "ipython3",
   "version": "3.9.13"
  }
 },
 "nbformat": 4,
 "nbformat_minor": 4
}
