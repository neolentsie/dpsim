{
 "cells": [
  {
   "cell_type": "markdown",
   "id": "a5bc84d9-327b-4cf9-943c-9c39278dd446",
   "metadata": {},
   "source": [
    "# Testing KLU versus SparseLU in Fault Simulation "
   ]
  },
  {
   "cell_type": "code",
   "execution_count": null,
   "id": "bbce1a11-c744-42b8-bc38-a3ca6f7dba11",
   "metadata": {},
   "outputs": [],
   "source": [
    "import villas.dataprocessing.readtools as rt\n",
    "from villas.dataprocessing.timeseries import TimeSeries as ts\n",
    "import matplotlib.pyplot as plt\n",
    "import re\n",
    "import numpy as np\n",
    "import math\n",
    "import os\n",
    "import dpsimpy\n",
    "import glob\n",
    "import requests\n",
    "\n",
    "# %matplotlib widget"
   ]
  },
  {
   "cell_type": "markdown",
   "id": "84667f6f-937c-4378-94a6-b6eaf3888ad0",
   "metadata": {},
   "source": [
    "## Configure Simulation Scenario"
   ]
  },
  {
   "cell_type": "code",
   "execution_count": null,
   "id": "63f7fa14-041e-4870-8aff-92d3d781500d",
   "metadata": {},
   "outputs": [],
   "source": [
    "example_name = \"DP_WSCC9bus_SGReducedOrderVBR\"\n",
    "\n",
    "final_time = 2.0\n",
    "time_step = 100e-6\n",
    "with_fault = True\n",
    "start_time_fault = 1.2\n",
    "end_time_fault = 1.3\n",
    "\n",
    "sg_type = \"4\"\n",
    "fault_bus_name = \"BUS6\"\n",
    "log_dir = \"logs\"\n",
    "\n",
    "log_level = dpsimpy.LogLevel.trace\n",
    "\n",
    "def download_grid_data(name, url):\n",
    "    with open(name, 'wb') as out_file:\n",
    "        content = requests.get(url, stream=True).content\n",
    "        out_file.write(content)\n",
    "\n",
    "filename = 'WSCC-09_Dyn_Fourth'\n",
    "\n",
    "url = 'https://raw.githubusercontent.com/dpsim-simulator/cim-grid-data/master/WSCC-09/WSCC-09_Dyn_Fourth/WSCC-09_Dyn_Fourth'\n",
    "download_grid_data(filename+'_EQ.xml', url+'_EQ.xml')\n",
    "download_grid_data(filename+'_TP.xml', url+'_TP.xml')\n",
    "download_grid_data(filename+'_SV.xml', url+'_SV.xml')\n",
    "download_grid_data(filename+'_DI.xml', url+'_DI.xml')\n",
    "    \n",
    "files = glob.glob(filename+'_*.xml')"
   ]
  },
  {
   "cell_type": "markdown",
   "id": "c59593b1-2746-47bd-a000-34d271875a33",
   "metadata": {},
   "source": [
    "## Run Powerflow Simulation"
   ]
  },
  {
   "cell_type": "code",
   "execution_count": null,
   "id": "42d1f218-ea41-4767-b1e4-485807eda01e",
   "metadata": {},
   "outputs": [],
   "source": [
    "sim_name_pf = example_name + \"_PF\"\n",
    "\n",
    "dpsimpy.Logger.set_log_dir(log_dir+\"/\"+sim_name_pf)\n",
    "reader = dpsimpy.CIMReader(sim_name_pf, log_level, log_level)\n",
    "\n",
    "system_pf = reader.loadCIM(60, files, dpsimpy.Domain.SP, dpsimpy.PhaseType.Single, dpsimpy.GeneratorType.PVNode)\n",
    "system_pf.component('GEN1').modify_power_flow_bus_type(dpsimpy.PowerflowBusType.VD)\n",
    "logger_pf = dpsimpy.Logger(sim_name_pf)\n",
    "for node in system_pf.nodes:\n",
    "    logger_pf.log_attribute(node.name() + \".V\", node.attr(\"v\"))\n",
    "    \n",
    "sim_pf = dpsimpy.Simulation(sim_name_pf, log_level)\n",
    "sim_pf.set_system(system_pf)\n",
    "sim_pf.set_time_step(final_time)\n",
    "sim_pf.set_final_time(2*final_time)\n",
    "sim_pf.set_domain(dpsimpy.Domain.SP)\n",
    "sim_pf.set_solver(dpsimpy.Solver.NRP)\n",
    "sim_pf.set_solver_component_behaviour(dpsimpy.SolverBehaviour.Initialization)\n",
    "sim_pf.do_init_from_nodes_and_terminals(True)\n",
    "sim_pf.add_logger(logger_pf)\n",
    "sim_pf.run()"
   ]
  },
  {
   "cell_type": "markdown",
   "id": "e87ba677-069e-4672-8054-85f87b618a2e",
   "metadata": {},
   "source": [
    "## Define Dynamic Simulation Function"
   ]
  },
  {
   "cell_type": "code",
   "execution_count": null,
   "id": "4b4193b9-5c4e-4334-bc47-b7d197254395",
   "metadata": {},
   "outputs": [],
   "source": [
    "def run_simulation(sim_name, implementation, model_syngens_as_norton, config = dpsimpy.DirectLinearSolverConfiguration()):\n",
    "   \n",
    "    dpsimpy.Logger.set_log_dir(log_dir+\"/\"+sim_name)\n",
    "    reader2 = dpsimpy.CIMReader(sim_name, log_level, log_level)\n",
    "    if sg_type == \"3\":\n",
    "        sys = reader2.loadCIM(60, files, dpsimpy.Domain.DP, dpsimpy.PhaseType.Single, dpsimpy.GeneratorType.SG3OrderVBR)\n",
    "    elif sg_type == \"4\":\n",
    "        sys = reader2.loadCIM(60, files, dpsimpy.Domain.DP, dpsimpy.PhaseType.Single, dpsimpy.GeneratorType.SG4OrderVBR)\n",
    "    elif sg_type == \"6b\":\n",
    "        sys = reader2.loadCIM(60, files, dpsimpy.Domain.DP, dpsimpy.PhaseType.Single, dpsimpy.GeneratorType.SG6bOrderVBR)\n",
    "    else:\n",
    "        raise Exception(\"Unsupported reduced-order SG type!\")\n",
    "\n",
    "    fault_dp = dpsimpy.sp.ph1.Switch(\"Fault\", log_level)\n",
    "\n",
    "    if with_fault == True:\n",
    "        n1_dp = dpsimpy.dp.SimNode(fault_bus_name, dpsimpy.PhaseType.Single)\n",
    "        fault_dp.set_parameters(1e12, 0.02*529)\n",
    "        fault_dp.connect([dpsimpy.dp.SimNode.gnd, n1_dp])\n",
    "        fault_dp.open()\n",
    "        sys.add(fault_dp)\n",
    "\n",
    "    sys.init_with_powerflow(system_pf)\n",
    "    \n",
    "    for comp in sys.components:\n",
    "       if comp.__class__ == dpsimpy.dp.ph1.SynchronGenerator4OrderVBR:\n",
    "           gen_pf = system_pf.component(comp.name())\n",
    "           comp.get_terminal(index=0).set_power(- gen_pf.get_apparent_power())\n",
    "           comp.set_model_as_norton_source(model_syngens_as_norton)\n",
    "\n",
    "    logger = dpsimpy.Logger(sim_name)\n",
    "    for node in sys.nodes:\n",
    "        logger.log_attribute(node.name() + \".V\", node.attr(\"v\"))\n",
    "\n",
    "    for comp in sys.components:\n",
    "        if comp.__class__ == dpsimpy.dp.ph1.SynchronGenerator4OrderVBR:\n",
    "            logger.log_attribute(comp.name() + \".Tm\", comp.attr(\"Tm\"))\n",
    "            logger.log_attribute(comp.name() + \".Te\", comp.attr(\"Te\"))\n",
    "            logger.log_attribute(comp.name() + \".omega\", comp.attr(\"w_r\"))\n",
    "            logger.log_attribute(comp.name() + \".delta\", comp.attr(\"delta\"))\n",
    "\n",
    "    sim = dpsimpy.Simulation(sim_name, log_level)\n",
    "    sim.set_system(sys)\n",
    "    sim.set_domain(dpsimpy.Domain.DP)\n",
    "    sim.set_solver(dpsimpy.Solver.MNA)\n",
    "    sim.set_time_step(time_step)\n",
    "    sim.set_final_time(final_time)\n",
    "    sim.do_system_matrix_recomputation(True)\n",
    "    sim.set_direct_solver_implementation(implementation)\n",
    "    sim.set_direct_linear_solver_configuration(config)\n",
    "    sim.add_logger(logger)\n",
    "\n",
    "    if with_fault:\n",
    "        fault_event1 = dpsimpy.event.SwitchEvent(start_time_fault, fault_dp, True)\n",
    "        fault_event2 = dpsimpy.event.SwitchEvent(end_time_fault, fault_dp, False)\n",
    "        sim.add_event(fault_event1)\n",
    "        sim.add_event(fault_event2)\n",
    "\n",
    "    sim.run()"
   ]
  },
  {
   "cell_type": "markdown",
   "id": "8c763f3a-75cc-4e78-8e55-dac93dccbacd",
   "metadata": {
    "tags": []
   },
   "source": [
    "## Run Dynamic Simulation with SparseLU"
   ]
  },
  {
   "cell_type": "markdown",
   "id": "ef1b1ada-984e-4f06-b73d-0617a9ad1944",
   "metadata": {
    "tags": []
   },
   "source": [
    "- thevenin"
   ]
  },
  {
   "cell_type": "code",
   "execution_count": null,
   "id": "9ce0470c-825b-487d-9a2c-fa8edff6c0be",
   "metadata": {
    "tags": []
   },
   "outputs": [],
   "source": [
    "%%capture\n",
    "sim_name_lu_thevenin = example_name+'_SparseLU_thevenin'\n",
    "run_simulation(sim_name_lu_thevenin,dpsimpy.DirectLinearSolverImpl.SparseLU,False)\n",
    "ts_dpsim_sparse_thevenin = rt.read_timeseries_dpsim(dpsimpy.Logger.get_log_dir()+\"/\"+sim_name_lu_thevenin+\".csv\")\n",
    "ts_dpsim_sparse_thevenin_rhs = rt.read_timeseries_dpsim(dpsimpy.Logger.get_log_dir()+\"/\"+sim_name_lu_thevenin+\"_RightVector.csv\")\n",
    "ts_dpsim_sparse_thevenin_lhs = rt.read_timeseries_dpsim(dpsimpy.Logger.get_log_dir()+\"/\"+sim_name_lu_thevenin+\"_LeftVector.csv\")"
   ]
  },
  {
   "cell_type": "markdown",
   "id": "c2a8eead-409f-4cce-a422-260c9335be7c",
   "metadata": {
    "tags": []
   },
   "source": [
    "- norton"
   ]
  },
  {
   "cell_type": "code",
   "execution_count": null,
   "id": "c004283f-196a-48ed-a3e7-cccefb330b5f",
   "metadata": {
    "tags": []
   },
   "outputs": [],
   "source": [
    "%%capture\n",
    "sim_name_lu_norton = example_name+'_SparseLU_norton'\n",
    "run_simulation(sim_name_lu_norton,dpsimpy.DirectLinearSolverImpl.SparseLU,True)\n",
    "ts_dpsim_sparse_norton = rt.read_timeseries_dpsim(dpsimpy.Logger.get_log_dir()+\"/\"+sim_name_lu_norton+\".csv\")\n",
    "ts_dpsim_sparse_norton_rhs = rt.read_timeseries_dpsim(dpsimpy.Logger.get_log_dir()+\"/\"+sim_name_lu_norton+\"_RightVector.csv\")\n",
    "ts_dpsim_sparse_norton_lhs = rt.read_timeseries_dpsim(dpsimpy.Logger.get_log_dir()+\"/\"+sim_name_lu_norton+\"_LeftVector.csv\")"
   ]
  },
  {
   "cell_type": "markdown",
   "id": "1153c819-7dad-499a-9e81-9648a4c24f86",
   "metadata": {},
   "source": [
    "## Run Dynamic Simulation with KLU with partial refactorization\n",
    "\n",
    "- Model syngens as Thevenin"
   ]
  },
  {
   "cell_type": "code",
   "execution_count": null,
   "id": "0de4c22e-c7ae-4d70-810c-0229c04c9530",
   "metadata": {},
   "outputs": [],
   "source": [
    "%%capture\n",
    "sim_name_klu_pf_thevenin = example_name+'_KLU_pf_thevenin'\n",
    "run_simulation(sim_name_klu_pf_thevenin,dpsimpy.DirectLinearSolverImpl.KLU,False)\n",
    "ts_dpsim_klu_pf_thevenin = rt.read_timeseries_dpsim(dpsimpy.Logger.get_log_dir()+\"/\"+sim_name_klu_pf_thevenin+\".csv\")\n",
    "ts_dpsim_klu_pf_thevenin_rhs = rt.read_timeseries_dpsim(dpsimpy.Logger.get_log_dir()+\"/\"+sim_name_klu_pf_thevenin+\"_RightVector.csv\")\n",
    "ts_dpsim_klu_pf_thevenin_lhs = rt.read_timeseries_dpsim(dpsimpy.Logger.get_log_dir()+\"/\"+sim_name_klu_pf_thevenin+\"_LeftVector.csv\")"
   ]
  },
  {
   "cell_type": "markdown",
   "id": "21495ae2-3266-42a6-a31b-9af2e5c39305",
   "metadata": {},
   "source": [
    "- Model syngens as Norton"
   ]
  },
  {
   "cell_type": "code",
   "execution_count": null,
   "id": "c802c11f-fe02-4131-9db9-86de05338dbe",
   "metadata": {},
   "outputs": [],
   "source": [
    "%%capture\n",
    "sim_name_klu_pf_norton = example_name+'_KLU_pf_norton'\n",
    "run_simulation(sim_name_klu_pf_norton,dpsimpy.DirectLinearSolverImpl.KLU,True)\n",
    "ts_dpsim_klu_pf_norton = rt.read_timeseries_dpsim(dpsimpy.Logger.get_log_dir()+\"/\"+sim_name_klu_pf_norton+\".csv\")\n",
    "ts_dpsim_klu_pf_norton_rhs = rt.read_timeseries_dpsim(dpsimpy.Logger.get_log_dir()+\"/\"+sim_name_klu_pf_norton+\"_RightVector.csv\")\n",
    "ts_dpsim_klu_pf_norton_lhs = rt.read_timeseries_dpsim(dpsimpy.Logger.get_log_dir()+\"/\"+sim_name_klu_pf_norton+\"_LeftVector.csv\")"
   ]
  },
  {
   "cell_type": "markdown",
   "id": "b2bc1d28-380d-4149-b047-bed3e87dabf8",
   "metadata": {
    "tags": []
   },
   "source": [
    "## Run Dynamic Simulation with KLU with complete refactorization\n",
    "\n",
    "- Model syngens as Thevenin"
   ]
  },
  {
   "cell_type": "code",
   "execution_count": null,
   "id": "7d234c6a-c746-41f3-8cb3-67fb4205c22d",
   "metadata": {
    "tags": []
   },
   "outputs": [],
   "source": [
    "%%capture\n",
    "config = dpsimpy.DirectLinearSolverConfiguration()\n",
    "config.set_partial_refactorization_method(dpsimpy.partial_refactorization_method.no_partial_refactorization)\n",
    "sim_name_klu_cf_thevenin = example_name+'_KLU_cf_thevenin'\n",
    "run_simulation(sim_name_klu_cf_thevenin, dpsimpy.DirectLinearSolverImpl.KLU, False, config)\n",
    "ts_dpsim_klu_cf_thevenin = rt.read_timeseries_dpsim(dpsimpy.Logger.get_log_dir()+\"/\"+sim_name_klu_cf_thevenin+\".csv\")\n",
    "ts_dpsim_klu_cf_thevenin_rhs = rt.read_timeseries_dpsim(dpsimpy.Logger.get_log_dir()+\"/\"+sim_name_klu_cf_thevenin+\"_RightVector.csv\")\n",
    "ts_dpsim_klu_cf_thevenin_lhs = rt.read_timeseries_dpsim(dpsimpy.Logger.get_log_dir()+\"/\"+sim_name_klu_cf_thevenin+\"_LeftVector.csv\")"
   ]
  },
  {
   "cell_type": "markdown",
   "id": "98ddbfbc-64ab-46b6-931a-53b28e0ba6cf",
   "metadata": {
    "tags": []
   },
   "source": [
    "- Model syngens as Norton"
   ]
  },
  {
   "cell_type": "code",
   "execution_count": null,
   "id": "41abfde7-ddf0-4fd2-8fba-1dc31c979a29",
   "metadata": {
    "tags": []
   },
   "outputs": [],
   "source": [
    "%%capture\n",
    "config = dpsimpy.DirectLinearSolverConfiguration()\n",
    "config.set_partial_refactorization_method(dpsimpy.partial_refactorization_method.no_partial_refactorization)\n",
    "sim_name_klu_cf_norton = example_name+'_KLU_cf_norton'\n",
    "run_simulation(sim_name_klu_cf_norton, dpsimpy.DirectLinearSolverImpl.KLU, True, config)\n",
    "ts_dpsim_klu_cf_norton = rt.read_timeseries_dpsim(dpsimpy.Logger.get_log_dir()+\"/\"+sim_name_klu_cf_norton+\".csv\")\n",
    "ts_dpsim_klu_cf_norton_rhs = rt.read_timeseries_dpsim(dpsimpy.Logger.get_log_dir()+\"/\"+sim_name_klu_cf_norton+\"_RightVector.csv\")\n",
    "ts_dpsim_klu_cf_norton_lhs = rt.read_timeseries_dpsim(dpsimpy.Logger.get_log_dir()+\"/\"+sim_name_klu_cf_norton+\"_LeftVector.csv\")"
   ]
  },
  {
   "cell_type": "markdown",
   "id": "40ed549b-3e55-4332-82bb-82b9d2bc73f6",
   "metadata": {
    "tags": []
   },
   "source": [
    "## Plot Comparison of G3 Torque"
   ]
  },
  {
   "cell_type": "code",
   "execution_count": null,
   "id": "4734f42f-8050-401f-bd4e-621b6bcb2ffc",
   "metadata": {},
   "outputs": [],
   "source": [
    "# var_name = 'GEN3.Te'\n",
    "# plt.figure()\n",
    "# plt.plot(ts_dpsim_sparse_thevenin[var_name].time, ts_dpsim_sparse_thevenin[var_name].values)\n",
    "# plt.plot(ts_dpsim_klu_pf_thevenin[var_name].time, ts_dpsim_klu_pf_thevenin[var_name].values, linestyle='--')"
   ]
  },
  {
   "cell_type": "markdown",
   "id": "1a7a7ca4-4657-4cf3-8f0a-3eb606b9aa7d",
   "metadata": {},
   "source": [
    "## Define function for evaluation of relative error"
   ]
  },
  {
   "cell_type": "code",
   "execution_count": null,
   "id": "bc7501b2-b7ad-4011-879c-8f2b65e86961",
   "metadata": {},
   "outputs": [],
   "source": [
    "# Constants\n",
    "close_to_zero_tolerance = 1e-12\n",
    "\n",
    "# Helper function relative error (relative to vector1)\n",
    "def relative_error(vector1: np.ndarray, vector2: np.ndarray) -> (np.ndarray, float, int):\n",
    "    N = len(vector1)\n",
    "    rel_error = np.zeros(N, dtype=float)\n",
    "    for i in range(0, N - 1):\n",
    "        if abs(vector1[i]) > close_to_zero_tolerance:\n",
    "            rel_error[i] = abs(vector1[i] - vector2[i]) / abs(vector1[i])\n",
    "    return rel_error, np.max(rel_error), np.argmax(rel_error)\n",
    "\n",
    "\n",
    "def evaluation_func(sparse_r_vec, sparse_l_vec, klu_r_vec, klu_l_vec):\n",
    "    # [RV, LV]\n",
    "    maxerror = [0.0, 0.0]\n",
    "    maxerror_timestamp = [0, 0]\n",
    "    maxerror_entry = ['', '']\n",
    "\n",
    "\n",
    "    # Relative error in right vector\n",
    "    print('Maximum relative error in right vector for each entry (when > 0)')\n",
    "    for entry in sparse_r_vec:\n",
    "        sparse_values = sparse_r_vec[entry].values\n",
    "        klu_values = klu_r_vec[entry].values\n",
    "\n",
    "        relative_error_klu_sparse, max_error_rv, max_error_rv_timestamp = relative_error(sparse_values, klu_values)\n",
    "        if max_error_rv > maxerror[0]:\n",
    "            maxerror[0] = max_error_rv\n",
    "            maxerror_timestamp[0] = max_error_rv_timestamp\n",
    "            maxerror_entry[0] = entry\n",
    "        if max_error_rv > close_to_zero_tolerance:\n",
    "            print('Entry {}: {:.3e} at {}s'.format(entry, max_error_rv, max_error_rv_timestamp / 1000.0))\n",
    "    print('Maximum relative error in right vector: {} {:.3e} {}s'.format(maxerror_entry[0], maxerror[0], maxerror_timestamp[0] / 1000.0))\n",
    "\n",
    "\n",
    "    # Relative error in left vector\n",
    "    print('\\nMaximum relative error in left vector for each entry (when > 0)')\n",
    "    for entry in sparse_l_vec:\n",
    "        sparse_values = sparse_l_vec[entry].values\n",
    "        klu_values = klu_l_vec[entry].values\n",
    "\n",
    "        relative_error_klu_sparse, max_error_lv, max_error_lv_timestamp = relative_error(sparse_values, klu_values)\n",
    "        if max_error_lv > maxerror[1]:\n",
    "            maxerror[1] = max_error_lv\n",
    "            maxerror_timestamp[1] = max_error_lv_timestamp\n",
    "            maxerror_entry[1] = entry\n",
    "        if max_error_lv > close_to_zero_tolerance:\n",
    "            print('Entry {}: {:.3e} at {}s'.format(entry, max_error_lv, max_error_lv_timestamp / 1000.0))\n",
    "    print('Maximum relative error in left vector: {} {:.3e} {}s'.format(maxerror_entry[1], maxerror[1], maxerror_timestamp[1] / 1000.0))\n",
    "\n",
    "    _rvlv = ['right', 'left']\n",
    "    print('\\nMaximum relative error in all values: {:.3e} at {}s at entry {} in {} vector'.format(\n",
    "        max(maxerror),\n",
    "        maxerror_timestamp[np.argmax(maxerror)] / 1000.0,\n",
    "        maxerror_entry[np.argmax(maxerror)],\n",
    "        _rvlv[np.argmax(maxerror)])\n",
    "         )\n",
    "    return max(maxerror)"
   ]
  },
  {
   "cell_type": "markdown",
   "id": "5608327a-8d43-4b92-a24b-f35a6c46ce14",
   "metadata": {
    "tags": []
   },
   "source": [
    "## Calculate maximum relative error between all solver configurations"
   ]
  },
  {
   "cell_type": "code",
   "execution_count": null,
   "id": "50ceaf61-5205-4196-ab80-e33921cb12a1",
   "metadata": {},
   "outputs": [],
   "source": [
    "max_rel_error = 3e-07"
   ]
  },
  {
   "cell_type": "code",
   "execution_count": null,
   "id": "8b7fd53f-0650-4524-a208-b434fd03dbef",
   "metadata": {},
   "outputs": [],
   "source": [
    "# KLU partial refactorization / SparseLU, thevenin equivalent\n",
    "max_error = evaluation_func(\n",
    "    ts_dpsim_sparse_thevenin_rhs, ts_dpsim_sparse_thevenin_lhs,\n",
    "    ts_dpsim_klu_pf_thevenin_rhs, ts_dpsim_klu_pf_thevenin_lhs\n",
    ")\n",
    "\n",
    "assert(max_error < max_rel_error)"
   ]
  },
  {
   "cell_type": "code",
   "execution_count": null,
   "id": "3d43ec4b-bd55-4ad6-9647-b3274d7477a3",
   "metadata": {},
   "outputs": [],
   "source": [
    "# KLU partial refactorization / SparseLU, norton equivalent\n",
    "max_error = evaluation_func(\n",
    "    ts_dpsim_sparse_norton_rhs, ts_dpsim_sparse_norton_lhs,\n",
    "    ts_dpsim_klu_pf_norton_rhs, ts_dpsim_klu_pf_norton_lhs\n",
    ")\n",
    "\n",
    "assert(max_error < max_rel_error)"
   ]
  },
  {
   "cell_type": "code",
   "execution_count": null,
   "id": "ad587e65-3d21-450d-b369-cc9eed49bf10",
   "metadata": {},
   "outputs": [],
   "source": [
    "# KLU complete refactorization / SparseLU, thevenin equivalent\n",
    "max_error = evaluation_func(\n",
    "    ts_dpsim_sparse_thevenin_rhs, ts_dpsim_sparse_thevenin_lhs,\n",
    "    ts_dpsim_klu_cf_thevenin_rhs, ts_dpsim_klu_cf_thevenin_lhs\n",
    ")\n",
    "\n",
    "assert(max_error < max_rel_error)"
   ]
  },
  {
   "cell_type": "code",
   "execution_count": null,
   "id": "0878d123-1705-43da-9ce1-5f39beecd0dd",
   "metadata": {},
   "outputs": [],
   "source": [
    "# KLU complete refactorization / SparseLU, norton equivalent\n",
    "max_error = evaluation_func(\n",
    "    ts_dpsim_sparse_norton_rhs, ts_dpsim_sparse_norton_lhs,\n",
    "    ts_dpsim_klu_cf_norton_rhs, ts_dpsim_klu_cf_norton_lhs\n",
    ")\n",
    "\n",
    "assert(max_error < max_rel_error)"
   ]
  },
  {
   "cell_type": "code",
   "execution_count": null,
   "id": "2c782a01-10da-4688-a559-7ed8f6aad11e",
   "metadata": {},
   "outputs": [],
   "source": [
    "# KLU complete refactorization / KLU partial refactorization, thevenin equivalent\n",
    "max_error = evaluation_func(\n",
    "    ts_dpsim_klu_pf_thevenin_rhs, ts_dpsim_klu_pf_thevenin_lhs,\n",
    "    ts_dpsim_klu_cf_thevenin_rhs, ts_dpsim_klu_cf_thevenin_lhs\n",
    ")\n",
    "\n",
    "assert(max_error < max_rel_error)"
   ]
  },
  {
   "cell_type": "code",
   "execution_count": null,
   "id": "e90b1739-37ee-407e-bfdf-759c21a28f19",
   "metadata": {},
   "outputs": [],
   "source": [
    "# KLU complete refactorization / KLU partial refactorization, norton equivalent\n",
    "max_error = evaluation_func(\n",
    "    ts_dpsim_klu_pf_norton_rhs, ts_dpsim_klu_pf_norton_lhs,\n",
    "    ts_dpsim_klu_cf_norton_rhs, ts_dpsim_klu_cf_norton_lhs\n",
    ")\n",
    "\n",
    "assert(max_error < max_rel_error)"
   ]
  }
 ],
 "metadata": {
  "kernelspec": {
   "display_name": "Python 3 (ipykernel)",
   "language": "python",
   "name": "python3"
  },
  "language_info": {
   "codemirror_mode": {
    "name": "ipython",
    "version": 3
   },
   "file_extension": ".py",
   "mimetype": "text/x-python",
   "name": "python",
   "nbconvert_exporter": "python",
   "pygments_lexer": "ipython3",
   "version": "3.9.13"
  },
  "tests": {
   "skip": false
  },
  "vscode": {
   "interpreter": {
    "hash": "e7370f93d1d0cde622a1f8e1c04877d8463912d04d973331ad4851f04de6915a"
   }
  }
 },
 "nbformat": 4,
 "nbformat_minor": 5
}
