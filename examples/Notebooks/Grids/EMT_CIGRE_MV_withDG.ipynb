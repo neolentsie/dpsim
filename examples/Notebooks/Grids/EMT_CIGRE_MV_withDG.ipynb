{
 "cells": [
  {
   "attachments": {},
   "cell_type": "markdown",
   "metadata": {},
   "source": [
    "# EMT Simulation of CIGRE MV with PV Inverters"
   ]
  },
  {
   "attachments": {},
   "cell_type": "markdown",
   "metadata": {},
   "source": [
    "### Run simulation"
   ]
  },
  {
   "cell_type": "code",
   "execution_count": null,
   "metadata": {},
   "outputs": [],
   "source": [
    "import requests\n",
    "import glob\n",
    "\n",
    "def download_grid_data(name, url):\n",
    "    with open(name, 'wb') as out_file:\n",
    "        content = requests.get(url, stream=True).content\n",
    "        out_file.write(content)\n",
    "\n",
    "url = 'https://raw.githubusercontent.com/dpsim-simulator/cim-grid-data/master/CIGRE_MV/NEPLAN/CIGRE_MV_no_tapchanger_noLoad1_LeftFeeder_With_LoadFlow_Results/Rootnet_FULL_NE_28J17h'\n",
    "filename = 'CIGRE-MV'\n",
    "download_grid_data(filename+'_EQ.xml', url+'_EQ.xml')\n",
    "download_grid_data(filename+'_TP.xml', url+'_TP.xml')\n",
    "download_grid_data(filename+'_SV.xml', url+'_SV.xml')\n",
    "\n",
    "files = glob.glob(filename+'_*.xml')\n",
    "print(files)"
   ]
  },
  {
   "cell_type": "code",
   "execution_count": null,
   "metadata": {},
   "outputs": [],
   "source": [
    "from villas.dataprocessing.readtools import *\n",
    "from villas.dataprocessing.timeseries import *\n",
    "import matplotlib.pyplot as plt\n",
    "import dpsimpy"
   ]
  },
  {
   "cell_type": "code",
   "execution_count": null,
   "metadata": {},
   "outputs": [],
   "source": [
    "time_step = 1e-3\n",
    "final_time = 3.0"
   ]
  },
  {
   "cell_type": "code",
   "execution_count": null,
   "metadata": {},
   "outputs": [],
   "source": [
    "sim_name = 'EMT_CIGRE_MV_withDG'\n",
    "sim_name_pf = sim_name + \"_Powerflow\""
   ]
  },
  {
   "attachments": {},
   "cell_type": "markdown",
   "metadata": {},
   "source": [
    "### Powerflow for Initialization"
   ]
  },
  {
   "cell_type": "code",
   "execution_count": null,
   "metadata": {},
   "outputs": [],
   "source": [
    "dpsimpy.Logger.set_log_dir('logs/' + sim_name_pf)\n",
    "reader = dpsimpy.CIMReader(sim_name_pf, dpsimpy.LogLevel.debug, dpsimpy.LogLevel.debug)\n",
    "system_pf = reader.loadCIM(50, files, dpsimpy.Domain.SP, dpsimpy.PhaseType.Single, dpsimpy.GeneratorType.PVNode)\n",
    "pv_active_power = 50e3 * int(int(4319.1e3 / 50e3) / 9)\n",
    "pv_reactive_power = np.sqrt(np.power(pv_active_power / 1, 2) - np.power(pv_active_power, 2))\n",
    "\n",
    "for n in range(3, 12):\n",
    "    connection_node = system_pf.node('N' + str(n))\n",
    "    pv = dpsimpy.sp.ph1.AvVoltageSourceInverterDQ('pv_' + connection_node.name(), 'pv_' + connection_node.name(), dpsimpy.LogLevel.debug, True)\n",
    "    pv.set_parameters(sys_omega=2 * np.pi * 50, sys_volt_nom=1500, p_ref=pv_active_power, q_ref=pv_reactive_power)\n",
    "    pv.set_controller_parameters(Kp_pll=0.25 / 10, Ki_pll=2 / 1000,\n",
    "                                Kp_power_ctrl=0.001 / 10, Ki_power_ctrl=0.08 / 1000 ,\n",
    "                                Kp_curr_ctrl=0.3 / 10, Ki_curr_ctrl=10 / 1000, omega_cutoff=2*np.pi*50)\n",
    "    pv.set_filter_parameters(Lf=0.002,Cf=789.3e-6,Rf=0.1,Rc=0.1)\n",
    "    pv.set_transformer_parameters(nom_voltage_end_1=20e3, nom_voltage_end_2=1500, rated_power = 5e6,\n",
    "                                ratio_abs=20e3 / 1500, ratio_phase=0,resistance=0, inductance=0.928e-3)\n",
    "    pv.set_initial_state_values(p_init=450000.716605, q_init=-0.577218, phi_d_init=3854.197405 * 1000, phi_q_init=-0.003737 * 1000, gamma_d_init=128.892668 * 1000, gamma_q_init=23.068682 * 1000)\n",
    "    system_pf.add(pv)\n",
    "    system_pf.connect_component(pv, [connection_node])\n",
    "\n",
    "\n",
    "logger_pf = dpsimpy.Logger(sim_name_pf)\n",
    "for node in system_pf.nodes:\n",
    "    logger_pf.log_attribute(node.name() + '.V', 'v', node)\n",
    "\n",
    "sim_pf = dpsimpy.Simulation(sim_name_pf, dpsimpy.LogLevel.debug)\n",
    "sim_pf.set_system(system_pf)\n",
    "sim_pf.set_time_step(1.0)\n",
    "sim_pf.set_final_time(2.0)\n",
    "sim_pf.set_domain(dpsimpy.Domain.SP)\n",
    "sim_pf.set_solver(dpsimpy.Solver.NRP)\n",
    "sim_pf.set_solver_component_behaviour(dpsimpy.SolverBehaviour.Initialization)\n",
    "sim_pf.do_init_from_nodes_and_terminals(True)\n",
    "\n",
    "sim_pf.add_logger(logger_pf)\n",
    "sim_pf.run()\n"
   ]
  },
  {
   "attachments": {},
   "cell_type": "markdown",
   "metadata": {},
   "source": [
    "### Dynamic simulation"
   ]
  },
  {
   "cell_type": "code",
   "execution_count": null,
   "metadata": {},
   "outputs": [],
   "source": [
    "dpsimpy.Logger.set_log_dir('logs/' + sim_name)\n",
    "reader2 = dpsimpy.CIMReader(sim_name, dpsimpy.LogLevel.info, dpsimpy.LogLevel.debug)\n",
    "system_emt = reader2.loadCIM(50, files, dpsimpy.Domain.EMT, dpsimpy.PhaseType.ABC, dpsimpy.GeneratorType.NONE)\n",
    "\n",
    "pv_active_power = 50e3 * int(int(4319.1e3 / 50e3) / 9)\n",
    "pv_reactive_power = np.sqrt(np.power(pv_active_power / 1, 2) - np.power(pv_active_power, 2))\n",
    "\n",
    "for n in range(3, 12):\n",
    "    connection_node = system_emt.node('N' + str(n))\n",
    "    pv = dpsimpy.emt.ph3.AvVoltageSourceInverterDQ('pv_' + connection_node.name(), 'pv_' + connection_node.name(), dpsimpy.LogLevel.debug, True)\n",
    "    pv.set_parameters(sys_omega=2 * np.pi * 50, sys_volt_nom=1500, p_ref=pv_active_power, q_ref=pv_reactive_power)\n",
    "    pv.set_controller_parameters(Kp_pll=0.25 / 10, Ki_pll=2 / 1000,\n",
    "                                Kp_power_ctrl=0.001 / 10, Ki_power_ctrl=0.08 / 1000 ,\n",
    "                                Kp_curr_ctrl=0.3 / 10, Ki_curr_ctrl=10 / 1000, omega_cutoff=2*np.pi*50)\n",
    "    pv.set_filter_parameters(Lf=0.002,Cf=789.3e-6,Rf=0.1,Rc=0.1)\n",
    "    pv.set_transformer_parameters(nom_voltage_end_1=20e3, nom_voltage_end_2=1500, rated_power=5e6,\n",
    "                                ratio_abs=20e3 / 1500, ratio_phase=0,resistance=0, inductance=0.928e-3, omega = 2 * np.pi * 50)\n",
    "    pv.set_initial_state_values(p_init=450000.716605, q_init=-0.577218, phi_d_init=3854.197405 * 1000, phi_q_init=-0.003737 * 1000, gamma_d_init=128.892668 * 1000, gamma_q_init=23.068682 * 1000)\n",
    "    system_emt.add(pv)\n",
    "    system_emt.connect_component(pv, [connection_node])\n",
    "\n",
    "system_emt.init_with_powerflow(system_pf, dpsimpy.Domain.EMT)\n",
    "\n",
    "# log node voltages\n",
    "logger_emt= dpsimpy.Logger(sim_name)\n",
    "for node in system_emt.nodes:\n",
    "    logger_emt.log_attribute(node.name() + '.V', 'v', node)\n",
    "\n",
    "# log line and load currents\n",
    "for comp in system_emt.components:\n",
    "    if isinstance(comp, dpsimpy.emt.ph3.PiLine):\n",
    "        logger_emt.log_attribute(comp.name() + '.I', 'i_intf', comp)\n",
    "    if isinstance(comp, dpsimpy.emt.ph3.RXLoad):\n",
    "        logger_emt.log_attribute(comp.name() + '.I', 'i_intf', comp)\n",
    "\n",
    "# log output of PV connected at N11\n",
    "pv_name = 'pv_N11'\n",
    "pv = system_emt.component(pv_name)\n",
    "input_names = [\n",
    "    \"pv_powerctrl_input_pref\", \"pv_powerctrl_input_qref\", \"pv_powerctrl_input_vcd\",\n",
    "    \"pv_powerctrl_input_vcq\", \"pv_powerctrl_input_ircd\", \"pv_powerctrl_input_ircq\"\n",
    "]\n",
    "logger_emt.log_attribute(input_names, 'powerctrl_inputs', pv)\n",
    "\n",
    "state_names = [\n",
    "    \"pv_powerctrl_state_p\", \"pv_powerctrl_state_q\", \"pv_powerctrl_state_phid\",\n",
    "    \"pv_powerctrl_state_phiq\", \"pv_powerctrl_state_gammad\", \"pv_powerctrl_state_gammaq\"\n",
    "]\n",
    "logger_emt.log_attribute(state_names, 'powerctrl_states', pv)\n",
    "\n",
    "output_names = [\n",
    "    \"pv_powerctrl_output_vsd\", \"pv_powerctrl_output_vsq\"\n",
    "]\n",
    "\n",
    "logger_emt.log_attribute(output_names, 'powerctrl_outputs', pv)\n",
    "\n",
    "logger_emt.log_attribute(pv_name + '_v_intf', 'v_intf', pv)\n",
    "logger_emt.log_attribute(pv_name + '_i_intf', 'i_intf', pv)\n",
    "logger_emt.log_attribute(pv_name + '_pll_output', 'pll_output', pv)\n",
    "logger_emt.log_attribute(pv_name + '_vsref', 'Vsref', pv)\n",
    "logger_emt.log_attribute(pv_name + '_vs', 'Vs', pv)\n",
    "\n",
    "sim_emt = dpsimpy.Simulation(sim_name, dpsimpy.LogLevel.debug)\n",
    "sim_emt.set_system(system_emt)\n",
    "sim_emt.set_time_step(time_step)\n",
    "sim_emt.set_final_time(final_time)\n",
    "sim_emt.set_domain(dpsimpy.Domain.EMT)\n",
    "sim_emt.set_solver(dpsimpy.Solver.MNA)\n",
    "sim_emt.do_steady_state_init(False)\n",
    "sim_emt.do_init_from_nodes_and_terminals(True)\n",
    "\n",
    "sim_emt.add_logger(logger_emt)\n",
    "sim_emt.run()"
   ]
  },
  {
   "attachments": {},
   "cell_type": "markdown",
   "metadata": {},
   "source": [
    "## Powerflow"
   ]
  },
  {
   "attachments": {},
   "cell_type": "markdown",
   "metadata": {},
   "source": [
    "### Read results"
   ]
  },
  {
   "cell_type": "code",
   "execution_count": null,
   "metadata": {},
   "outputs": [],
   "source": [
    "time_step = 0.001\n",
    "num_steps_window = int(0.02/time_step)\n",
    "\n",
    "modelName = 'EMT_CIGRE_MV_withDG_Powerflow'\n",
    "path = 'logs/' + modelName + '/'\n",
    "dpsim_result_file = path + modelName + '.csv'\n",
    "\n",
    "ts_dpsim_powerflow = read_timeseries_csv(dpsim_result_file)"
   ]
  },
  {
   "attachments": {},
   "cell_type": "markdown",
   "metadata": {},
   "source": [
    "### Plot results"
   ]
  },
  {
   "cell_type": "code",
   "execution_count": null,
   "metadata": {},
   "outputs": [],
   "source": [
    "plt.figure(figsize=(12,8))\n",
    "for ts_name, ts_obj  in ts_dpsim_powerflow.items():\n",
    "    if ts_name != 'N0.V':\n",
    "        plt.plot(ts_obj.time, ts_obj.abs().values, label=ts_name)\n",
    "plt.legend()\n",
    "plt.show()"
   ]
  },
  {
   "attachments": {},
   "cell_type": "markdown",
   "metadata": {},
   "source": [
    "### Node voltages"
   ]
  },
  {
   "cell_type": "code",
   "execution_count": null,
   "metadata": {},
   "outputs": [],
   "source": [
    "for ts_name, ts_obj  in ts_dpsim_powerflow.items():\n",
    "    print(ts_name + ': ' + str(ts_obj.abs().values[0]) + ', ' + str(ts_obj.phase().values[0]))"
   ]
  },
  {
   "attachments": {},
   "cell_type": "markdown",
   "metadata": {},
   "source": [
    "## EMT"
   ]
  },
  {
   "attachments": {},
   "cell_type": "markdown",
   "metadata": {},
   "source": [
    "### Read results"
   ]
  },
  {
   "cell_type": "code",
   "execution_count": null,
   "metadata": {},
   "outputs": [],
   "source": [
    "modelName = 'EMT_CIGRE_MV_withDG'\n",
    "path = 'logs/' + modelName + '/'\n",
    "dpsim_result_file = path + modelName + '.csv'\n",
    "\n",
    "ts_dpsim = read_timeseries_csv(dpsim_result_file)"
   ]
  },
  {
   "attachments": {},
   "cell_type": "markdown",
   "metadata": {},
   "source": [
    "### Plot results"
   ]
  },
  {
   "attachments": {},
   "cell_type": "markdown",
   "metadata": {},
   "source": [
    "### All node voltages"
   ]
  },
  {
   "cell_type": "code",
   "execution_count": null,
   "metadata": {},
   "outputs": [],
   "source": [
    "plt.figure(figsize=(12,12))\n",
    "subplot_number = 1\n",
    "for ts_name, ts_obj  in ts_dpsim.items():\n",
    "    if ts_name[-3:] == 'V_0' and ts_name[:-2] != 'N0.V':\n",
    "        plt.subplot(4,3,subplot_number)\n",
    "        subplot_number += 1\n",
    "        plt.plot(ts_obj.time, ts_obj.values, label=ts_name)\n",
    "        plt.legend(loc='upper right')\n",
    "        plt.xlim([-0.03,1])\n",
    "plt.show()"
   ]
  },
  {
   "attachments": {},
   "cell_type": "markdown",
   "metadata": {},
   "source": [
    "## Voltages at first timestep"
   ]
  },
  {
   "cell_type": "code",
   "execution_count": null,
   "metadata": {},
   "outputs": [],
   "source": [
    "for ts_name, ts_obj  in ts_dpsim.items():\n",
    "    if ts_name[-3:] == 'V_0':\n",
    "        print(ts_name + ': ' + str(ts_obj.values[0]))"
   ]
  },
  {
   "attachments": {},
   "cell_type": "markdown",
   "metadata": {},
   "source": [
    "## Maximum voltage in last 20ms window"
   ]
  },
  {
   "cell_type": "code",
   "execution_count": null,
   "metadata": {},
   "outputs": [],
   "source": [
    "for ts_name, ts_obj  in ts_dpsim.items():\n",
    "    if ts_name[-3:] == 'V_0':\n",
    "        print(ts_name + ': ' + str(max(ts_obj.values[-num_steps_window:])))"
   ]
  },
  {
   "attachments": {},
   "cell_type": "markdown",
   "metadata": {},
   "source": [
    "## PV inverter"
   ]
  },
  {
   "attachments": {},
   "cell_type": "markdown",
   "metadata": {},
   "source": [
    "### States - Powers"
   ]
  },
  {
   "cell_type": "code",
   "execution_count": null,
   "metadata": {},
   "outputs": [],
   "source": [
    "plt.figure(figsize=(12,6))\n",
    "for ts_name, ts_obj  in ts_dpsim.items():\n",
    "    if ts_name[-7:]=='state_p' or ts_name[-7:]=='state_q':\n",
    "        plt.plot(ts_obj.time, ts_obj.abs().values, label=ts_name)\n",
    "plt.legend()\n",
    "plt.show()"
   ]
  },
  {
   "attachments": {},
   "cell_type": "markdown",
   "metadata": {},
   "source": [
    "### States - Others"
   ]
  },
  {
   "cell_type": "code",
   "execution_count": null,
   "metadata": {},
   "outputs": [],
   "source": [
    "plt.figure(figsize=(12,6))\n",
    "for ts_name, ts_obj  in ts_dpsim.items():\n",
    "    if ts_name[-7:]!='state_p' and ts_name[-7:]!='state_q' and  'state' in ts_name:\n",
    "        plt.plot(ts_obj.time, ts_obj.abs().values, label=ts_name)\n",
    "plt.legend()\n",
    "plt.show()"
   ]
  },
  {
   "attachments": {},
   "cell_type": "markdown",
   "metadata": {},
   "source": [
    "### States at first timestep"
   ]
  },
  {
   "cell_type": "code",
   "execution_count": null,
   "metadata": {},
   "outputs": [],
   "source": [
    "for ts_name, ts_obj  in ts_dpsim.items():\n",
    "    if 'state' in ts_name:\n",
    "        print(ts_name + ': ' + str(ts_obj.abs().values[0]) + ', ' + str(ts_obj.phase().values[0]))"
   ]
  },
  {
   "attachments": {},
   "cell_type": "markdown",
   "metadata": {},
   "source": [
    "### States at last timestep"
   ]
  },
  {
   "cell_type": "code",
   "execution_count": null,
   "metadata": {},
   "outputs": [],
   "source": [
    "for ts_name, ts_obj  in ts_dpsim.items():\n",
    "    if 'state' in ts_name:\n",
    "        print(ts_name + ': ' + str(ts_obj.abs().values[-1]) + ', ' + str(ts_obj.phase().values[-1]))"
   ]
  },
  {
   "attachments": {},
   "cell_type": "markdown",
   "metadata": {},
   "source": [
    "### Plot inputs"
   ]
  },
  {
   "cell_type": "code",
   "execution_count": null,
   "metadata": {},
   "outputs": [],
   "source": [
    "plt.figure(figsize=(12,6))\n",
    "for ts_name, ts_obj  in ts_dpsim.items():\n",
    "    if 'input' in ts_name:\n",
    "        plt.plot(ts_obj.time, ts_obj.abs().values, label=ts_name)\n",
    "plt.legend()\n",
    "plt.show()"
   ]
  },
  {
   "attachments": {},
   "cell_type": "markdown",
   "metadata": {},
   "source": [
    "### Inputs at first timestep"
   ]
  },
  {
   "cell_type": "code",
   "execution_count": null,
   "metadata": {},
   "outputs": [],
   "source": [
    "for ts_name, ts_obj  in ts_dpsim.items():\n",
    "    if 'input' in ts_name:\n",
    "        print(ts_name + ': ' + str(ts_obj.abs().values[0]) + ', ' + str(ts_obj.phase().values[0]))"
   ]
  },
  {
   "attachments": {},
   "cell_type": "markdown",
   "metadata": {},
   "source": [
    "### Inputs at last timestep"
   ]
  },
  {
   "cell_type": "code",
   "execution_count": null,
   "metadata": {},
   "outputs": [],
   "source": [
    "for ts_name, ts_obj  in ts_dpsim.items():\n",
    "    if 'input' in ts_name:\n",
    "        print(ts_name + ': ' + str(ts_obj.abs().values[-1]) + ', ' + str(ts_obj.phase().values[-1]))"
   ]
  },
  {
   "attachments": {},
   "cell_type": "markdown",
   "metadata": {},
   "source": [
    "### Plot outputs"
   ]
  },
  {
   "cell_type": "code",
   "execution_count": null,
   "metadata": {},
   "outputs": [],
   "source": [
    "plt.figure(figsize=(12,6))\n",
    "for ts_name, ts_obj  in ts_dpsim.items():\n",
    "    if 'output' in ts_name:\n",
    "        plt.plot(ts_obj.time, ts_obj.abs().values, label=ts_name)\n",
    "plt.legend()\n",
    "plt.show()"
   ]
  },
  {
   "attachments": {},
   "cell_type": "markdown",
   "metadata": {},
   "source": [
    "### Outputs at first timestep"
   ]
  },
  {
   "cell_type": "code",
   "execution_count": null,
   "metadata": {},
   "outputs": [],
   "source": [
    "for ts_name, ts_obj  in ts_dpsim.items():\n",
    "    if 'output' in ts_name:\n",
    "        print(ts_name + ': ' + str(ts_obj.abs().values[0]) + ', ' + str(ts_obj.phase().values[0]))"
   ]
  },
  {
   "attachments": {},
   "cell_type": "markdown",
   "metadata": {},
   "source": [
    "### Outputs at last timestep"
   ]
  },
  {
   "cell_type": "code",
   "execution_count": null,
   "metadata": {},
   "outputs": [],
   "source": [
    "for ts_name, ts_obj  in ts_dpsim.items():\n",
    "    if 'output' in ts_name:\n",
    "        print(ts_name + ': ' + str(ts_obj.abs().values[-1]) + ', ' + str(ts_obj.phase().values[-1]))"
   ]
  },
  {
   "attachments": {},
   "cell_type": "markdown",
   "metadata": {},
   "source": [
    "### Plot interface vars"
   ]
  },
  {
   "cell_type": "code",
   "execution_count": null,
   "metadata": {},
   "outputs": [],
   "source": [
    "plt.figure(figsize=(12,6))\n",
    "subplot_number = 1   \n",
    "for ts_name, ts_obj  in ts_dpsim.items():\n",
    "    if 'intf' in ts_name:\n",
    "        plt.subplot(2,3,subplot_number)\n",
    "        subplot_number += 1\n",
    "        plt.plot(ts_obj.time, ts_obj.values, label=ts_name)\n",
    "        plt.legend(loc='upper right')\n",
    "plt.show()"
   ]
  },
  {
   "attachments": {},
   "cell_type": "markdown",
   "metadata": {},
   "source": [
    "## Plot derived power"
   ]
  },
  {
   "cell_type": "code",
   "execution_count": null,
   "metadata": {},
   "outputs": [],
   "source": [
    "pv_N11_p_inst_intf = ts_dpsim['pv_N11_v_intf_0'].values*ts_dpsim['pv_N11_i_intf_0'].values+ts_dpsim['pv_N11_v_intf_1'].values*ts_dpsim['pv_N11_i_intf_1'].values+ts_dpsim['pv_N11_v_intf_2'].values*ts_dpsim['pv_N11_i_intf_2'].values\n",
    "plt.figure(figsize=(12,6))\n",
    "plt.plot(ts_dpsim['pv_N11_v_intf_0'].time, pv_N11_p_inst_intf, label='pv_N11_p_inst_intf')\n",
    "plt.legend()\n",
    "plt.show()\n"
   ]
  },
  {
   "attachments": {},
   "cell_type": "markdown",
   "metadata": {},
   "source": [
    "### Interface vars at first timestep"
   ]
  },
  {
   "cell_type": "code",
   "execution_count": null,
   "metadata": {},
   "outputs": [],
   "source": [
    "for ts_name, ts_obj  in ts_dpsim.items():\n",
    "    if 'intf' in ts_name:\n",
    "        print(ts_name + ': ' + str(ts_obj.values[0]))\n",
    "print('pv_N11_p_inst_intf' + ': ' + str(pv_N11_p_inst_intf[0]))"
   ]
  },
  {
   "attachments": {},
   "cell_type": "markdown",
   "metadata": {},
   "source": [
    "### Interface vars at last timestep"
   ]
  },
  {
   "cell_type": "code",
   "execution_count": null,
   "metadata": {},
   "outputs": [],
   "source": [
    "for ts_name, ts_obj  in ts_dpsim.items():\n",
    "    if 'intf' in ts_name:\n",
    "        print(ts_name + ': ' + str(ts_obj.values[-1]))\n",
    "print('pv_N11_p_inst_intf' + ': ' + str(pv_N11_p_inst_intf[-1:]))"
   ]
  }
 ],
 "metadata": {
  "interpreter": {
   "hash": "31f2aee4e71d21fbe5cf8b01ff0e069b9275f58929596ceb00d14d90e3e16cd6"
  },
  "kernelspec": {
   "display_name": "Python 3 (ipykernel)",
   "language": "python",
   "name": "python3"
  },
  "language_info": {
   "codemirror_mode": {
    "name": "ipython",
    "version": 3
   },
   "file_extension": ".py",
   "mimetype": "text/x-python",
   "name": "python",
   "nbconvert_exporter": "python",
   "pygments_lexer": "ipython3",
   "version": "3.9.12"
  },
  "tests": {
   "skip": false
  }
 },
 "nbformat": 4,
 "nbformat_minor": 4
}
