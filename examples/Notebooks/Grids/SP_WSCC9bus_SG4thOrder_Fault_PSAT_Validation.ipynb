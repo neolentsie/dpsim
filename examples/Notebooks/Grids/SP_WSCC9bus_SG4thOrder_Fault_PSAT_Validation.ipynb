{
 "cells": [
  {
   "attachments": {},
   "cell_type": "markdown",
   "metadata": {},
   "source": [
    "# SP Simulation of WSCC 9-bus System with 4th Order Synchronous Generator and PSAT Validation"
   ]
  },
  {
   "cell_type": "code",
   "execution_count": null,
   "metadata": {},
   "outputs": [],
   "source": [
    "import villas.dataprocessing.readtools as rt\n",
    "import villas.dataprocessing.plottools as pt\n",
    "from villas.dataprocessing.timeseries import TimeSeries as ts\n",
    "import matplotlib.pyplot as plt\n",
    "import numpy as np\n",
    "\n",
    "import re\n",
    "import math\n",
    "import os\n",
    "import subprocess\n",
    "import requests\n",
    "import urllib.request\n",
    "\n",
    "def download_grid_data(name, url):\n",
    "    with open(name, 'wb') as out_file:\n",
    "        content = requests.get(url, stream=True).content\n",
    "        out_file.write(content)\n",
    "\n",
    "#%matplotlib widget\n",
    "\n",
    "PEAK1PH_TO_RMS3PH=np.sqrt(3./2.)\n",
    "\n",
    "name_exec = 'SP_WSCC9bus_SGReducedOrderVBR'\n",
    "\n",
    "order_names_list = ['4th'] # ['3rd', '4th', '6th']\n",
    "order_options_list = ['sgType=4'] # ['sgType=3', 'sgType=4', 'sgType=6b']\n",
    "sim_names_list = [name_exec + '_' + order_name for order_name in order_names_list]\n",
    "num_orders = len(order_names_list)\n",
    "\n",
    "timestep = 1e-3\n",
    "duration = 30\n",
    "\n",
    "view_time_interval = [0.1,1.0]\n",
    "\n",
    "root_path = subprocess.Popen(['git', 'rev-parse', '--show-toplevel'], stdout=subprocess.PIPE).communicate()[0].rstrip().decode('utf-8')\n",
    "\n",
    "path_exec = root_path + '/build/dpsim/examples/cxx/'\n",
    "\n",
    "cim_file = 'WSCC-09_Dyn_Fourth'\n",
    "\n",
    "cim_url = 'https://raw.githubusercontent.com/dpsim-simulator/cim-grid-data/master/WSCC-09/WSCC-09_Dyn_Fourth/WSCC-09_Dyn_Fourth'\n",
    "download_grid_data(cim_file+'_EQ.xml', cim_url+'_EQ.xml')\n",
    "download_grid_data(cim_file+'_TP.xml', cim_url+'_TP.xml')\n",
    "download_grid_data(cim_file+'_SV.xml', cim_url+'_SV.xml')\n",
    "download_grid_data(cim_file+'_DI.xml', cim_url+'_DI.xml')\n",
    "\n",
    "psat_results_url = 'https://raw.githubusercontent.com/dpsim-simulator/reference-results/master/PSAT/WSCC-9bus/d_009_fault_dpsim_4th_order.out'\n",
    "psat_results_file = 'd_009_fault_dpsim_4th_order.out'\n",
    "urllib.request.urlretrieve(psat_results_url, psat_results_file) "
   ]
  },
  {
   "attachments": {},
   "cell_type": "markdown",
   "metadata": {},
   "source": [
    "## Run Simulation"
   ]
  },
  {
   "cell_type": "code",
   "execution_count": null,
   "metadata": {},
   "outputs": [],
   "source": [
    "for order_idx in range(num_orders):\n",
    "    sim = subprocess.Popen([path_exec+name_exec, '--name', sim_names_list[order_idx], '--timestep', str(timestep), '--duration', str(duration), cim_file +'_DI.xml', cim_file +'_EQ.xml', cim_file +'_SV.xml', cim_file +'_TP.xml', '--option', order_options_list[order_idx]], stdout=subprocess.PIPE, stderr=subprocess.STDOUT)\n",
    "    print(sim.communicate()[0].decode())"
   ]
  },
  {
   "attachments": {},
   "cell_type": "markdown",
   "metadata": {},
   "source": [
    "## Simulation"
   ]
  },
  {
   "cell_type": "code",
   "execution_count": null,
   "metadata": {},
   "outputs": [],
   "source": [
    "ts_dpsim = []\n",
    "for order_idx in range(num_orders):\n",
    "    path = 'logs/' + sim_names_list[order_idx] + '/'\n",
    "    logName = sim_names_list[order_idx]\n",
    "    logFilename = path + logName + '.csv'\n",
    "    print(logFilename)\n",
    "    ts_dpsim.append(rt.read_timeseries_dpsim(logFilename))"
   ]
  },
  {
   "attachments": {},
   "cell_type": "markdown",
   "metadata": {},
   "source": [
    "## Validation with PSAT"
   ]
  },
  {
   "cell_type": "code",
   "execution_count": null,
   "metadata": {},
   "outputs": [],
   "source": [
    "syngen_power_name_dpsim_list = ['GEN1.Te', 'GEN2.Te', 'GEN3.Te']\n",
    "syngen_power_name_psat_list = ['p_Syn_1', 'p_Syn_2', 'p_Syn_3']\n",
    "\n",
    "syngen_omega_name_dpsim_list = ['GEN1.omega', 'GEN2.omega', 'GEN3.omega']\n",
    "syngen_omega_name_psat_list = ['omega_Syn_1', 'omega_Syn_2', 'omega_Syn_3']\n",
    "\n",
    "syngen_delta_name_dpsim_list = ['GEN1.delta', 'GEN2.delta', 'GEN3.delta']\n",
    "syngen_delta_name_psat_list = ['delta_Syn_1', 'delta_Syn_2', 'delta_Syn_3']\n",
    "\n",
    "bus_volt_name_dpsim_list = ['BUS1.V', 'BUS2.V', 'BUS3.V', 'BUS4.V', 'BUS5.V', 'BUS6.V', 'BUS7.V', 'BUS8.V', 'BUS9.V']\n",
    "bus_volt_name_psat_list = ['V_Bus 1', 'V_Bus 2', 'V_Bus 3', 'V_Bus 4', 'V_Bus 5', 'V_Bus 6', 'V_Bus 7', 'V_Bus 8', 'V_Bus 9']\n",
    "bus_angle_name_psat_list = ['theta_Bus 1', 'theta_Bus 2', 'theta_Bus 3', 'theta_Bus 4', 'theta_Bus 5', 'theta_Bus 6', 'theta_Bus 7', 'theta_Bus 8', 'theta_Bus 9']\n",
    "\n",
    "timeseries_names_psat = syngen_power_name_psat_list+syngen_omega_name_psat_list+syngen_delta_name_psat_list+bus_volt_name_psat_list+bus_angle_name_psat_list\n",
    "\n",
    "ts_psat = []\n",
    "for order_idx in range(num_orders):\n",
    "    ts_psat.append(rt.read_timeseries_PSAT(psat_results_file, timeseries_names_psat))"
   ]
  },
  {
   "attachments": {},
   "cell_type": "markdown",
   "metadata": {},
   "source": [
    "## Rotor speeds"
   ]
  },
  {
   "cell_type": "code",
   "execution_count": null,
   "metadata": {},
   "outputs": [],
   "source": [
    "for order_idx in range(num_orders):\n",
    "    plt.figure(figsize=(12,9))\n",
    "    #plt.subplot(num_orders,1,order_idx+1)\n",
    "    for syngen_omega_name_dpsim in syngen_omega_name_dpsim_list:\n",
    "        plt.plot(ts_dpsim[order_idx][syngen_omega_name_dpsim].time, ts_dpsim[order_idx][syngen_omega_name_dpsim].values, label=syngen_omega_name_dpsim+', '+order_names_list[order_idx]+' (dpsim)')\n",
    "    for syngen_omega_name_psat in syngen_omega_name_psat_list:\n",
    "        plt.plot(ts_psat[order_idx][syngen_omega_name_psat].time, ts_psat[order_idx][syngen_omega_name_psat].values, label=syngen_omega_name_psat+', '+order_names_list[order_idx]+' (psat)', linestyle='--')\n",
    "    \n",
    "    #plt.ylim([0.99,1.02])\n",
    "    plt.xlim(view_time_interval)\n",
    "    \n",
    "    plt.xlabel('time (s)')\n",
    "    plt.ylabel('mechanical speed (p.u)')\n",
    "    plt.legend()"
   ]
  },
  {
   "attachments": {},
   "cell_type": "markdown",
   "metadata": {},
   "source": [
    "## Rotor angle"
   ]
  },
  {
   "cell_type": "code",
   "execution_count": null,
   "metadata": {},
   "outputs": [],
   "source": [
    "plt.figure(figsize=(12,9))\n",
    "for order_idx in range(num_orders):\n",
    "    plt.subplot(num_orders,1,order_idx+1)\n",
    "    for syngen_delta_name_dpsim in syngen_delta_name_dpsim_list:\n",
    "        plt.plot(ts_dpsim[order_idx][syngen_delta_name_dpsim].time, ts_dpsim[order_idx][syngen_delta_name_dpsim].values/np.pi*180, label=syngen_delta_name_dpsim+', '+order_names_list[order_idx]+' (dpsim)')\n",
    "    for syngen_delta_name_psat in syngen_delta_name_psat_list:\n",
    "        plt.plot(ts_psat[order_idx][syngen_delta_name_psat].time, ts_psat[order_idx][syngen_delta_name_psat].values/np.pi*180, label=syngen_delta_name_psat+', '+order_names_list[order_idx]+' (psat)', linestyle='--')\n",
    "    \n",
    "    plt.xlim(view_time_interval)\n",
    "    plt.xlabel('time (s)')\n",
    "    plt.ylabel('rotor angle (rad)')\n",
    "    plt.legend()"
   ]
  },
  {
   "attachments": {},
   "cell_type": "markdown",
   "metadata": {},
   "source": [
    "## Rotor angles with reference angle of GEN1"
   ]
  },
  {
   "cell_type": "code",
   "execution_count": null,
   "metadata": {},
   "outputs": [],
   "source": [
    "for order_idx in range(num_orders):\n",
    "    plt.figure(figsize=(12,9))\n",
    "    #plt.subplot(num_orders,1,order_idx+1)\n",
    "    for syngen_delta_name_dpsim in syngen_delta_name_dpsim_list:\n",
    "        plt.plot(ts_dpsim[order_idx][syngen_delta_name_dpsim].time, (ts_dpsim[order_idx][syngen_delta_name_dpsim].values-ts_dpsim[order_idx]['GEN1.delta'].values+ts_dpsim[order_idx]['GEN1.delta'].values[0])/np.pi*180, label=syngen_delta_name_dpsim+', '+order_names_list[order_idx]+' (dpsim)')\n",
    "    for syngen_delta_name_psat in syngen_delta_name_psat_list:\n",
    "        plt.plot(ts_psat[order_idx][syngen_delta_name_psat].time, (ts_psat[order_idx][syngen_delta_name_psat].values-ts_psat[order_idx]['delta_Syn_3'].values+ts_psat[order_idx]['delta_Syn_3'].values[0])/np.pi*180, label=syngen_delta_name_psat+', '+order_names_list[order_idx]+' (psat)', linestyle='--')\n",
    "    \n",
    "    plt.xlim(view_time_interval)\n",
    "    plt.xlabel('time (s)')\n",
    "    plt.ylabel('rotor angle (rad)')\n",
    "    plt.legend()"
   ]
  },
  {
   "attachments": {},
   "cell_type": "markdown",
   "metadata": {},
   "source": [
    "## Bus voltages"
   ]
  },
  {
   "cell_type": "code",
   "execution_count": null,
   "metadata": {},
   "outputs": [],
   "source": [
    "plt.figure(figsize=(12,12))\n",
    "for order_idx in range(num_orders):\n",
    "    plt.subplot(num_orders,1,order_idx+1)\n",
    "    for bus_volt_name_dpsim in bus_volt_name_dpsim_list:\n",
    "        if bus_volt_name_dpsim == 'BUS1.V':\n",
    "            plt.plot(ts_dpsim[order_idx][bus_volt_name_dpsim].time, ts_dpsim[order_idx][bus_volt_name_dpsim].abs().values/16.5e3, label=bus_volt_name_dpsim +', '+order_names_list[order_idx]+' (dpsim)', color='C'+str(bus_volt_name_dpsim_list.index(bus_volt_name_dpsim)))\n",
    "        elif bus_volt_name_dpsim == 'BUS2.V':\n",
    "            plt.plot(ts_dpsim[order_idx][bus_volt_name_dpsim].time, ts_dpsim[order_idx][bus_volt_name_dpsim].abs().values/18e3, label=bus_volt_name_dpsim +', '+order_names_list[order_idx]+' (dpsim)', color='C'+str(bus_volt_name_dpsim_list.index(bus_volt_name_dpsim)))\n",
    "        elif bus_volt_name_dpsim == 'BUS3.V':\n",
    "            plt.plot(ts_dpsim[order_idx][bus_volt_name_dpsim].time, ts_dpsim[order_idx][bus_volt_name_dpsim].abs().values/13.8e3, label=bus_volt_name_dpsim +', '+order_names_list[order_idx]+' (dpsim)', color='C'+str(bus_volt_name_dpsim_list.index(bus_volt_name_dpsim)))\n",
    "        else:\n",
    "            plt.plot(ts_dpsim[order_idx][bus_volt_name_dpsim].time, ts_dpsim[order_idx][bus_volt_name_dpsim].abs().values/230e3, label=bus_volt_name_dpsim +', '+order_names_list[order_idx]+' (dpsim)', color='C'+str(bus_volt_name_dpsim_list.index(bus_volt_name_dpsim)))\n",
    "    for bus_volt_name_psat in bus_volt_name_psat_list:\n",
    "            plt.plot(ts_psat[order_idx][bus_volt_name_psat].time, ts_psat[order_idx][bus_volt_name_psat].values, label=bus_volt_name_psat +', '+order_names_list[order_idx]+' (psat)', linestyle='--', color='C'+str(bus_volt_name_psat_list.index(bus_volt_name_psat)))\n",
    "    \n",
    "    plt.xlim(view_time_interval)\n",
    "    plt.xlabel('time (s)')\n",
    "    plt.ylabel('voltage (p.u.)')\n",
    "    plt.legend()"
   ]
  },
  {
   "attachments": {},
   "cell_type": "markdown",
   "metadata": {},
   "source": [
    "## Bus angles"
   ]
  },
  {
   "cell_type": "code",
   "execution_count": null,
   "metadata": {},
   "outputs": [],
   "source": [
    "plt.figure(figsize=(12,12))\n",
    "for order_idx in range(num_orders):\n",
    "    plt.subplot(num_orders,1,order_idx+1)\n",
    "    for bus_volt_name_dpsim in bus_volt_name_dpsim_list:\n",
    "        plt.plot(ts_dpsim[order_idx][bus_volt_name_dpsim].time, ts_dpsim[order_idx][bus_volt_name_dpsim].phase().values/180*np.pi-ts_dpsim[order_idx]['BUS1.V'].phase().values/180*np.pi, label=bus_volt_name_dpsim +', '+order_names_list[order_idx]+' (dpsim)', color='C'+str(bus_volt_name_dpsim_list.index(bus_volt_name_dpsim)))\n",
    "    for bus_angle_name_psat in bus_angle_name_psat_list:\n",
    "        plt.plot(ts_psat[order_idx][bus_angle_name_psat].time, ts_psat[order_idx][bus_angle_name_psat].values, label=bus_angle_name_psat +', '+order_names_list[order_idx]+' (psat)', linestyle='--', color='C'+str(bus_angle_name_psat_list.index(bus_angle_name_psat)))\n",
    "    \n",
    "    plt.xlim(view_time_interval)\n",
    "    plt.xlabel('time (s)')\n",
    "    plt.ylabel('angle (rad)')\n",
    "    plt.legend()"
   ]
  },
  {
   "attachments": {},
   "cell_type": "markdown",
   "metadata": {},
   "source": [
    "## SG active power"
   ]
  },
  {
   "cell_type": "code",
   "execution_count": null,
   "metadata": {},
   "outputs": [],
   "source": [
    "for order_idx in range(num_orders):\n",
    "    plt.figure(figsize=(12,9))\n",
    "    #plt.subplot(num_orders,1,order_idx+1)\n",
    "    for syngen_power_name_dpsim in syngen_power_name_dpsim_list:\n",
    "        plt.plot(ts_dpsim[order_idx][syngen_power_name_dpsim].time, ts_dpsim[order_idx][syngen_power_name_dpsim].values, label=syngen_power_name_dpsim+', '+order_names_list[order_idx]+' (dpsim)')\n",
    "    for syngen_power_name_psat in syngen_power_name_psat_list:\n",
    "        plt.plot(ts_psat[order_idx][syngen_power_name_psat].time, ts_psat[order_idx][syngen_power_name_psat].values, label=syngen_power_name_psat+', '+order_names_list[order_idx]+' (psat)', linestyle='--')\n",
    "    \n",
    "    plt.xlim(view_time_interval)\n",
    "    plt.xlabel('time (s)')\n",
    "    plt.ylabel('torque (p.u)')\n",
    "    plt.legend()"
   ]
  },
  {
   "attachments": {},
   "cell_type": "markdown",
   "metadata": {},
   "source": [
    "## Errors and Assertions"
   ]
  },
  {
   "cell_type": "code",
   "execution_count": null,
   "metadata": {},
   "outputs": [],
   "source": [
    "for order_idx in range(num_orders):\n",
    "    print('{} order:'.format(order_names_list[order_idx]))\n",
    "    \n",
    "    rmse_gen_1 = ts_psat[order_idx]['p_Syn_3'].rmse(ts_psat[order_idx]['p_Syn_3'],ts_dpsim[order_idx]['GEN1.Te'])\n",
    "    print('{}: {}'.format('GEN1',rmse_gen_1))\n",
    "    assert(rmse_gen_1 < 1e-2)\n",
    "    \n",
    "    rmse_gen_2 = ts_psat[order_idx]['p_Syn_1'].rmse(ts_psat[order_idx]['p_Syn_1'],ts_dpsim[order_idx]['GEN2.Te'])\n",
    "    print('{}: {}'.format('GEN2',rmse_gen_2))\n",
    "    assert(rmse_gen_2 < 1e-2)\n",
    "          \n",
    "    rmse_gen_3 = ts_psat[order_idx]['p_Syn_2'].rmse(ts_psat[order_idx]['p_Syn_2'],ts_dpsim[order_idx]['GEN3.Te'])\n",
    "    print('{}: {}'.format('GEN3',rmse_gen_3))\n",
    "    assert(rmse_gen_3 < 1e-2)"
   ]
  },
  {
   "cell_type": "code",
   "execution_count": null,
   "metadata": {},
   "outputs": [],
   "source": []
  }
 ],
 "metadata": {
  "kernelspec": {
   "display_name": "Python 3 (ipykernel)",
   "language": "python",
   "name": "python3"
  },
  "language_info": {
   "codemirror_mode": {
    "name": "ipython",
    "version": 3
   },
   "file_extension": ".py",
   "mimetype": "text/x-python",
   "name": "python",
   "nbconvert_exporter": "python",
   "pygments_lexer": "ipython3",
   "version": "3.9.13"
  }
 },
 "nbformat": 4,
 "nbformat_minor": 4
}
