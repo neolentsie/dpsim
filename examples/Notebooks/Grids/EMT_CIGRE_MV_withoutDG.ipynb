{
 "cells": [
  {
   "attachments": {},
   "cell_type": "markdown",
   "metadata": {},
   "source": [
    "# EMT Simulation of CIGRE MV without PV Inverters"
   ]
  },
  {
   "attachments": {},
   "cell_type": "markdown",
   "metadata": {},
   "source": [
    "### Run simulation"
   ]
  },
  {
   "cell_type": "code",
   "execution_count": null,
   "metadata": {},
   "outputs": [],
   "source": [
    "import requests\n",
    "import glob\n",
    "\n",
    "def download_grid_data(name, url):\n",
    "    with open(name, 'wb') as out_file:\n",
    "        content = requests.get(url, stream=True).content\n",
    "        out_file.write(content)\n",
    "\n",
    "url = 'https://raw.githubusercontent.com/dpsim-simulator/cim-grid-data/master/CIGRE_MV/NEPLAN/CIGRE_MV_no_tapchanger_noLoad1_LeftFeeder_With_LoadFlow_Results/Rootnet_FULL_NE_28J17h'\n",
    "filename = 'CIGRE-MV'\n",
    "download_grid_data(filename+'_EQ.xml', url+'_EQ.xml')\n",
    "download_grid_data(filename+'_TP.xml', url+'_TP.xml')\n",
    "download_grid_data(filename+'_SV.xml', url+'_SV.xml')\n",
    "\n",
    "files = glob.glob(filename+'_*.xml')\n",
    "print(files)"
   ]
  },
  {
   "cell_type": "code",
   "execution_count": null,
   "metadata": {},
   "outputs": [],
   "source": [
    "from villas.dataprocessing.readtools import *\n",
    "from villas.dataprocessing.timeseries import *\n",
    "import matplotlib.pyplot as plt\n",
    "import dpsimpy"
   ]
  },
  {
   "cell_type": "code",
   "execution_count": null,
   "metadata": {},
   "outputs": [],
   "source": [
    "time_step = 1e-3\n",
    "final_time = 1"
   ]
  },
  {
   "cell_type": "code",
   "execution_count": null,
   "metadata": {},
   "outputs": [],
   "source": [
    "sim_name = 'EMT_CIGRE_MV_withoutDG'\n",
    "sim_name_pf = sim_name + \"_Powerflow\""
   ]
  },
  {
   "attachments": {},
   "cell_type": "markdown",
   "metadata": {},
   "source": [
    "### Powerflow for Initialization"
   ]
  },
  {
   "cell_type": "code",
   "execution_count": null,
   "metadata": {},
   "outputs": [],
   "source": [
    "dpsimpy.Logger.set_log_dir('logs/' + sim_name_pf)\n",
    "reader = dpsimpy.CIMReader(sim_name_pf, dpsimpy.LogLevel.debug, dpsimpy.LogLevel.debug)\n",
    "system_pf = reader.loadCIM(50, files, dpsimpy.Domain.SP, dpsimpy.PhaseType.Single, dpsimpy.GeneratorType.PVNode)\n",
    "\n",
    "logger_pf = dpsimpy.Logger(sim_name_pf)\n",
    "for node in system_pf.nodes:\n",
    "    logger_pf.log_attribute(node.name() + '.V', 'v', node)\n",
    "\n",
    "sim_pf = dpsimpy.Simulation(sim_name_pf, dpsimpy.LogLevel.debug)\n",
    "sim_pf.set_system(system_pf)\n",
    "sim_pf.set_time_step(1.0)\n",
    "sim_pf.set_final_time(2.0)\n",
    "sim_pf.set_domain(dpsimpy.Domain.SP)\n",
    "sim_pf.set_solver(dpsimpy.Solver.NRP)\n",
    "sim_pf.set_solver_component_behaviour(dpsimpy.SolverBehaviour.Initialization)\n",
    "sim_pf.do_init_from_nodes_and_terminals(True)\n",
    "\n",
    "sim_pf.add_logger(logger_pf)\n",
    "sim_pf.run()\n"
   ]
  },
  {
   "attachments": {},
   "cell_type": "markdown",
   "metadata": {},
   "source": [
    "### Dynamic simulation"
   ]
  },
  {
   "cell_type": "code",
   "execution_count": null,
   "metadata": {},
   "outputs": [],
   "source": [
    "dpsimpy.Logger.set_log_dir('logs/' + sim_name)\n",
    "reader2 = dpsimpy.CIMReader(sim_name, dpsimpy.LogLevel.info, dpsimpy.LogLevel.debug)\n",
    "system_emt = reader2.loadCIM(50, files, dpsimpy.Domain.EMT, dpsimpy.PhaseType.ABC, dpsimpy.GeneratorType.NONE)\n",
    "\n",
    "system_emt.init_with_powerflow(system_pf, dpsimpy.Domain.EMT)\n",
    "\n",
    "# log node voltages\n",
    "logger_emt= dpsimpy.Logger(sim_name)\n",
    "for node in system_emt.nodes:\n",
    "    logger_emt.log_attribute(node.name() + '.V', 'v', node)\n",
    "\n",
    "# log line and load currents\n",
    "for comp in system_emt.components:\n",
    "    if isinstance(comp, dpsimpy.emt.ph3.PiLine):\n",
    "        logger_emt.log_attribute(comp.name() + '.I', 'i_intf', comp)\n",
    "    if isinstance(comp, dpsimpy.emt.ph3.RXLoad):\n",
    "        logger_emt.log_attribute(comp.name() + '.I', 'i_intf', comp)\n",
    "\n",
    "sim_emt = dpsimpy.Simulation(sim_name, dpsimpy.LogLevel.debug)\n",
    "sim_emt.set_system(system_emt)\n",
    "sim_emt.set_time_step(time_step)\n",
    "sim_emt.set_final_time(final_time)\n",
    "sim_emt.set_domain(dpsimpy.Domain.EMT)\n",
    "sim_emt.set_solver(dpsimpy.Solver.MNA)\n",
    "sim_emt.do_steady_state_init(False)\n",
    "sim_emt.do_init_from_nodes_and_terminals(True)\n",
    "\n",
    "sim_emt.add_logger(logger_emt)\n",
    "sim_emt.run()"
   ]
  },
  {
   "attachments": {},
   "cell_type": "markdown",
   "metadata": {},
   "source": [
    "## Powerflow"
   ]
  },
  {
   "attachments": {},
   "cell_type": "markdown",
   "metadata": {},
   "source": [
    "### Read results"
   ]
  },
  {
   "cell_type": "code",
   "execution_count": null,
   "metadata": {},
   "outputs": [],
   "source": [
    "modelName = 'EMT_CIGRE_MV_withoutDG'\n",
    "path = 'logs/' + modelName + '/'\n",
    "dpsim_result_file = path + modelName + '.csv'\n",
    "\n",
    "ts_dpsim_powerflow = read_timeseries_csv(dpsim_result_file)"
   ]
  },
  {
   "attachments": {},
   "cell_type": "markdown",
   "metadata": {},
   "source": [
    "### Plot results"
   ]
  },
  {
   "cell_type": "code",
   "execution_count": null,
   "metadata": {},
   "outputs": [],
   "source": [
    "plt.figure(figsize=(12,6))\n",
    "for ts_name, ts_obj  in ts_dpsim_powerflow.items():\n",
    "    if ts_name != 'N0.V':\n",
    "        plt.plot(ts_obj.time, ts_obj.abs().values, label=ts_name)\n",
    "plt.legend()\n",
    "plt.show()"
   ]
  },
  {
   "attachments": {},
   "cell_type": "markdown",
   "metadata": {},
   "source": [
    "## EMT"
   ]
  },
  {
   "attachments": {},
   "cell_type": "markdown",
   "metadata": {},
   "source": [
    "### Read results"
   ]
  },
  {
   "cell_type": "code",
   "execution_count": null,
   "metadata": {},
   "outputs": [],
   "source": [
    "modelName = 'EMT_CIGRE_MV_withoutDG'\n",
    "path = 'logs/' + modelName + '/'\n",
    "dpsim_result_file = path + modelName + '.csv'\n",
    "\n",
    "ts_dpsim = read_timeseries_csv(dpsim_result_file)"
   ]
  },
  {
   "attachments": {},
   "cell_type": "markdown",
   "metadata": {},
   "source": [
    "### Plot Node voltages"
   ]
  },
  {
   "cell_type": "code",
   "execution_count": null,
   "metadata": {},
   "outputs": [],
   "source": [
    "plt.figure(figsize=(12,6))\n",
    "for ts_name, ts_obj  in ts_dpsim.items():\n",
    "    if ts_name[-3:] == 'V_0' and ts_name[:-2] != 'N0.V':\n",
    "        plt.plot(ts_obj.time, ts_obj.values, label=ts_name)\n",
    "        plt.plot(ts_dpsim_powerflow[ts_name].time, np.sqrt(2/3)*ts_dpsim_powerflow[ts_name].abs().values, label=ts_name)\n",
    "plt.xlim([0,0.1])\n",
    "plt.legend()\n",
    "plt.show()"
   ]
  },
  {
   "attachments": {},
   "cell_type": "markdown",
   "metadata": {},
   "source": [
    "### At first timestep"
   ]
  },
  {
   "cell_type": "code",
   "execution_count": null,
   "metadata": {},
   "outputs": [],
   "source": [
    "for ts_name, ts_obj  in ts_dpsim.items():\n",
    "    if ts_name[-4:] == '.V_0':\n",
    "        print(ts_name + ': ' + str(ts_obj.values[0]))"
   ]
  },
  {
   "attachments": {},
   "cell_type": "markdown",
   "metadata": {},
   "source": [
    "### At last timestep"
   ]
  },
  {
   "cell_type": "code",
   "execution_count": null,
   "metadata": {},
   "outputs": [],
   "source": [
    "for ts_name, ts_obj  in ts_dpsim.items():\n",
    "    if ts_name[-4:] == '.V_0':\n",
    "        print(ts_name + ': ' + str(ts_obj.values[-1:]))"
   ]
  },
  {
   "attachments": {},
   "cell_type": "markdown",
   "metadata": {},
   "source": [
    "## Load currents"
   ]
  },
  {
   "cell_type": "code",
   "execution_count": null,
   "metadata": {},
   "outputs": [],
   "source": [
    "plt.figure(figsize=(12,6))\n",
    "for ts_name, ts_obj  in ts_dpsim.items():\n",
    "    if ts_name[-4:] == '.I_0' and ts_name[:4]=='LOAD':\n",
    "        plt.plot(ts_obj.time, ts_obj.values, label=ts_name)\n",
    "#plt.xlim([0,0.1])\n",
    "plt.legend(loc='upper right')\n",
    "plt.show()"
   ]
  },
  {
   "attachments": {},
   "cell_type": "markdown",
   "metadata": {},
   "source": [
    "### At first timestep"
   ]
  },
  {
   "cell_type": "code",
   "execution_count": null,
   "metadata": {},
   "outputs": [],
   "source": [
    "for ts_name, ts_obj  in ts_dpsim.items():\n",
    "    if ts_name[-4:] == '.I_0' and ts_name[:4]=='LOAD':\n",
    "        print(ts_name + ': ' + str(ts_obj.values[0]))"
   ]
  },
  {
   "attachments": {},
   "cell_type": "markdown",
   "metadata": {},
   "source": [
    "### At last timestep"
   ]
  },
  {
   "cell_type": "code",
   "execution_count": null,
   "metadata": {},
   "outputs": [],
   "source": [
    "for ts_name, ts_obj  in ts_dpsim.items():\n",
    "    if ts_name[-4:] == '.I_0' and ts_name[:4]=='LOAD':\n",
    "        print(ts_name + ': ' + str(ts_obj.values[-1]))"
   ]
  },
  {
   "attachments": {},
   "cell_type": "markdown",
   "metadata": {},
   "source": [
    "### Load Power Calculations"
   ]
  },
  {
   "cell_type": "code",
   "execution_count": null,
   "metadata": {},
   "outputs": [],
   "source": [
    "# load_I_3_p ref from CIM: P=225250, Q=139597\n",
    "# load_H_11_p ref from CIM: P=329800, Q=82656\n",
    "\n",
    "load_I_3_p = ts_dpsim['N3.V_0'].values*ts_dpsim['LOAD-I-3.I_0'].values+ts_dpsim['N3.V_1'].values*ts_dpsim['LOAD-I-3.I_1'].values+ts_dpsim['N3.V_2'].values*ts_dpsim['LOAD-I-3.I_2'].values\n",
    "load_H_11_p = ts_dpsim['N11.V_0'].values*ts_dpsim['LOAD-H-11.I_0'].values+ts_dpsim['N11.V_1'].values*ts_dpsim['LOAD-H-11.I_1'].values+ts_dpsim['N11.V_2'].values*ts_dpsim['LOAD-H-11.I_2'].values"
   ]
  },
  {
   "cell_type": "code",
   "execution_count": null,
   "metadata": {},
   "outputs": [],
   "source": [
    "plt.figure(figsize=(12,6))\n",
    "plt.plot(ts_dpsim['N3.V_0'].time, load_I_3_p, label='load_I_3_p')\n",
    "plt.plot(ts_dpsim['N11.V_0'].time, load_H_11_p, label='load_H_11_p')\n",
    "#plt.xlim([0,0.01])\n",
    "plt.legend(loc='upper right')\n",
    "plt.show()"
   ]
  },
  {
   "attachments": {},
   "cell_type": "markdown",
   "metadata": {},
   "source": [
    "### At first timestep"
   ]
  },
  {
   "cell_type": "code",
   "execution_count": null,
   "metadata": {},
   "outputs": [],
   "source": [
    "print('Load-I-3.p' + ': ' + str(load_I_3_p[0]))\n",
    "print('Load-H-11.p' + ': ' + str(load_H_11_p[0]))"
   ]
  },
  {
   "attachments": {},
   "cell_type": "markdown",
   "metadata": {},
   "source": [
    "### At last timestep"
   ]
  },
  {
   "cell_type": "code",
   "execution_count": null,
   "metadata": {},
   "outputs": [],
   "source": [
    "print('Load-I-3.p' + ': ' + str(load_I_3_p[-1]))\n",
    "print('Load-H-11.p' + ': ' + str(load_H_11_p[-1]))"
   ]
  },
  {
   "attachments": {},
   "cell_type": "markdown",
   "metadata": {},
   "source": [
    "## Line currents"
   ]
  },
  {
   "cell_type": "code",
   "execution_count": null,
   "metadata": {},
   "outputs": [],
   "source": [
    "plt.figure(figsize=(12,6))\n",
    "for ts_name, ts_obj  in ts_dpsim.items():\n",
    "    if ts_name[-4:] == '.I_0' and ts_name[:4]!='LOAD':\n",
    "        plt.plot(ts_obj.time, ts_obj.values, label=ts_name)\n",
    "#plt.xlim([0,0.1])\n",
    "plt.legend(loc='upper right')\n",
    "plt.show()"
   ]
  },
  {
   "attachments": {},
   "cell_type": "markdown",
   "metadata": {},
   "source": [
    "### At first timestep"
   ]
  },
  {
   "cell_type": "code",
   "execution_count": null,
   "metadata": {},
   "outputs": [],
   "source": [
    "for ts_name, ts_obj  in ts_dpsim.items():\n",
    "    if ts_name[-4:] == '.I_0' and ts_name[:4]!='LOAD':\n",
    "        print(ts_name + ': ' + str(ts_obj.values[0]))"
   ]
  },
  {
   "attachments": {},
   "cell_type": "markdown",
   "metadata": {},
   "source": [
    "### At last timestep"
   ]
  },
  {
   "cell_type": "code",
   "execution_count": null,
   "metadata": {},
   "outputs": [],
   "source": [
    "for ts_name, ts_obj  in ts_dpsim.items():\n",
    "    if ts_name[-4:] == '.I_0' and ts_name[:4]!='LOAD':\n",
    "        print(ts_name + ': ' + str(ts_obj.values[-1]))"
   ]
  }
 ],
 "metadata": {
  "kernelspec": {
   "display_name": "Python 3 (ipykernel)",
   "language": "python",
   "name": "python3"
  },
  "language_info": {
   "codemirror_mode": {
    "name": "ipython",
    "version": 3
   },
   "file_extension": ".py",
   "mimetype": "text/x-python",
   "name": "python",
   "nbconvert_exporter": "python",
   "pygments_lexer": "ipython3",
   "version": "3.9.12"
  },
  "tests": {
   "skip": false
  }
 },
 "nbformat": 4,
 "nbformat_minor": 4
}
