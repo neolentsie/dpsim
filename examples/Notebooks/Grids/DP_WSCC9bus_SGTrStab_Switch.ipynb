{
 "cells": [
  {
   "cell_type": "markdown",
   "metadata": {},
   "source": [
    "# DP Simulation of WSCC 9-bus System with Transient Stability Synchronous Generator and Switch"
   ]
  },
  {
   "cell_type": "code",
   "execution_count": null,
   "metadata": {},
   "outputs": [],
   "source": [
    "import requests\n",
    "import glob\n",
    "\n",
    "def download_grid_data(name, url):\n",
    "    with open(name, 'wb') as out_file:\n",
    "        content = requests.get(url, stream=True).content\n",
    "        out_file.write(content)\n",
    "\n",
    "url = 'https://raw.githubusercontent.com/dpsim-simulator/cim-grid-data/master/WSCC-09/WSCC-09_RX_Dyn/WSCC-09_RX'\n",
    "filename = 'WSCC-09'\n",
    "download_grid_data(filename+'_EQ.xml', url+'_EQ.xml')\n",
    "download_grid_data(filename+'_TP.xml', url+'_TP.xml')\n",
    "download_grid_data(filename+'_SV.xml', url+'_SV.xml')\n",
    "\n",
    "files = glob.glob(filename+'_*.xml')\n",
    "print(files)"
   ]
  },
  {
   "cell_type": "code",
   "execution_count": null,
   "metadata": {},
   "outputs": [],
   "source": [
    "import villas.dataprocessing.plottools as pt\n",
    "import villas.dataprocessing.readtools as rt\n",
    "from villas.dataprocessing.timeseries import TimeSeries as ts\n",
    "import matplotlib.pyplot as plt\n",
    "import dpsimpy\n",
    "import numpy as np"
   ]
  },
  {
   "cell_type": "code",
   "execution_count": null,
   "metadata": {},
   "outputs": [],
   "source": [
    "sim_name = 'WSCC-9bus_dyn_switch'"
   ]
  },
  {
   "cell_type": "markdown",
   "metadata": {},
   "source": [
    "## Simulation"
   ]
  },
  {
   "cell_type": "code",
   "execution_count": null,
   "metadata": {},
   "outputs": [],
   "source": [
    "dpsimpy.Logger.set_log_dir('logs/' + sim_name)\n",
    "reader = dpsimpy.CIMReader(sim_name, dpsimpy.LogLevel.debug, dpsimpy.LogLevel.debug)\n",
    "system = reader.loadCIM(60, files, dpsimpy.Domain.DP, dpsimpy.PhaseType.Single, dpsimpy.GeneratorType.TransientStability)\n",
    "\n",
    "# Extend topology with switch\n",
    "sw = dpsimpy.dp.ph1.Switch('Fault', dpsimpy.LogLevel.info)\n",
    "sw.set_parameters(1e9, 0.1)\n",
    "sw.connect([dpsimpy.dp.SimNode.gnd, system.node('BUS6')])\n",
    "sw.open()\n",
    "system.add(sw)\n",
    "\n",
    "# Use omegNom for torque conversion in SG models for validation with PSAT\n",
    "system.component('GEN1').set_model_flags(False)\n",
    "system.component('GEN2').set_model_flags(False)\n",
    "system.component('GEN3').set_model_flags(False)\n",
    "\n",
    "logger = dpsimpy.Logger(sim_name)\n",
    "\n",
    "for i in range(1, 10):\n",
    "    logger.log_attribute('v' + str(i), 'v', system.node('BUS' + str(i)))\n",
    "\n",
    "for i in range(1, 4):\n",
    "    logger.log_attribute('wr_' + str(i), 'w_r', system.component('GEN' + str(i)))\n",
    "    logger.log_attribute('delta_r_' + str(i), 'delta_r', system.component('GEN' + str(i)))\n",
    "    logger.log_attribute('P_elec_' + str(i), 'P_elec', system.component('GEN' + str(i)))\n",
    "    logger.log_attribute('P_mech_' + str(i), 'P_mech', system.component('GEN' + str(i)))\n",
    "\n",
    "\n",
    "sim = dpsimpy.Simulation(sim_name, dpsimpy.LogLevel.debug)\n",
    "sim.set_system(system)\n",
    "sim.set_time_step(0.0001)\n",
    "sim.set_final_time(2.0)\n",
    "sim.set_domain(dpsimpy.Domain.DP)\n",
    "sim.set_solver(dpsimpy.Solver.MNA)\n",
    "sim.do_init_from_nodes_and_terminals(True)\n",
    "\n",
    "sw_event_1 = dpsimpy.event.SwitchEvent(0.2, sw, True)\n",
    "sim.add_event(sw_event_1)\n",
    "\n",
    "sim.add_logger(logger)\n",
    "sim.run()\n"
   ]
  },
  {
   "cell_type": "markdown",
   "metadata": {},
   "source": [
    "## Read simulation results"
   ]
  },
  {
   "cell_type": "code",
   "execution_count": null,
   "metadata": {},
   "outputs": [],
   "source": [
    "path = 'logs/WSCC-9bus_dyn_switch/'\n",
    "logName = 'WSCC-9bus_dyn_switch'\n",
    "logFilename = path + logName + '.csv'\n",
    "print(logFilename)\n",
    "\n",
    "ts_dpsim = rt.read_timeseries_dpsim(logFilename)\n",
    "phasors = ts.phasors(ts_dpsim)"
   ]
  },
  {
   "cell_type": "markdown",
   "metadata": {},
   "source": [
    "### Phasors at last time step in per unit"
   ]
  },
  {
   "cell_type": "code",
   "execution_count": null,
   "metadata": {},
   "outputs": [],
   "source": [
    "nominal_voltages = {'v1': 16500, 'v2': 18000, 'v3': 13800, \n",
    "                         'v4': 230000, 'v5': 230000, 'v6': 230000, \n",
    "                         'v7': 230000, 'v8': 230000, 'v9': 230000} \n",
    "for node, nom_voltage in nominal_voltages.items():\n",
    "    print(node + ': ' + str(phasors[node]['abs'].values[0] / nom_voltage) + '<' + str(phasors[node]['phase'].values[0]))"
   ]
  },
  {
   "cell_type": "markdown",
   "metadata": {},
   "source": [
    "### Plot node voltages"
   ]
  },
  {
   "cell_type": "code",
   "execution_count": null,
   "metadata": {},
   "outputs": [],
   "source": [
    "plt.figure()\n",
    "plt.plot(phasors['v1']['abs'].time, phasors['v1']['abs'].values, label='v1.abs')\n",
    "plt.plot(phasors['v2']['abs'].time, phasors['v2']['abs'].values, label='v2.abs')\n",
    "plt.plot(phasors['v3']['abs'].time, phasors['v3']['abs'].values, label='v3.abs')\n",
    "plt.legend()\n",
    "plt.ylim([0,20000])\n",
    "\n",
    "plt.figure()\n",
    "plt.plot(phasors['v4']['abs'].time, phasors['v4']['abs'].values, label='v4.abs')\n",
    "plt.plot(phasors['v5']['abs'].time, phasors['v5']['abs'].values, label='v5.abs')\n",
    "plt.plot(phasors['v6']['abs'].time, phasors['v6']['abs'].values, label='v6.abs')\n",
    "plt.plot(phasors['v7']['abs'].time, phasors['v7']['abs'].values, label='v7.abs')\n",
    "plt.plot(phasors['v8']['abs'].time, phasors['v8']['abs'].values, label='v8.abs')\n",
    "plt.plot(phasors['v9']['abs'].time, phasors['v9']['abs'].values, label='v9.abs')\n",
    "plt.legend()\n",
    "plt.ylim([0,240000])"
   ]
  },
  {
   "cell_type": "markdown",
   "metadata": {},
   "source": [
    "### Generator Speed"
   ]
  },
  {
   "cell_type": "code",
   "execution_count": null,
   "metadata": {},
   "outputs": [],
   "source": [
    "plt.figure()\n",
    "plt.plot(ts_dpsim['wr_1'].time, ts_dpsim['wr_1'].values)\n",
    "plt.plot(ts_dpsim['wr_2'].time, ts_dpsim['wr_2'].values)\n",
    "plt.plot(ts_dpsim['wr_3'].time, ts_dpsim['wr_3'].values)\n",
    "plt.xlabel('time (s)')\n",
    "plt.ylabel('mechanical speed (rad/s)')\n",
    "#plt.savefig('wscc_9bus_fault_gen_speed.pdf')"
   ]
  },
  {
   "cell_type": "markdown",
   "metadata": {},
   "source": [
    "## Validation"
   ]
  },
  {
   "cell_type": "code",
   "execution_count": null,
   "metadata": {},
   "outputs": [],
   "source": [
    "# read Simulink log file\n",
    "import os\n",
    "import urllib.request\n",
    "\n",
    "if not os.path.exists('reference-results'):\n",
    "    os.mkdir('reference-results')\n",
    "\n",
    "url = 'https://git.rwth-aachen.de/acs/public/simulation/dpsim/dpsim-results/raw/master/WSCC-9bus/WSCC-9bus_dyn_switch_mod_inertia.csv'\n",
    "local_file = 'reference-results/WSCC-9bus_dyn_switch.csv'\n",
    "urllib.request.urlretrieve(url, local_file) \n",
    "\n",
    "ts_sl = rt.read_timeseries_simulink(local_file)\n",
    "phasors_sl = ts.phasors(ts_sl)"
   ]
  },
  {
   "cell_type": "code",
   "execution_count": null,
   "metadata": {},
   "outputs": [],
   "source": [
    "plt.figure()\n",
    "plt.plot(phasors_sl['v1']['abs'].time, phasors_sl['v1']['abs'].values, label='v1.abs')\n",
    "plt.plot(phasors_sl['v2']['abs'].time, phasors_sl['v2']['abs'].values, label='v2.abs')\n",
    "plt.plot(phasors_sl['v3']['abs'].time, phasors_sl['v3']['abs'].values, label='v3.abs')\n",
    "plt.legend()\n",
    "plt.ylim([0,20000])\n",
    "\n",
    "plt.figure()\n",
    "plt.plot(phasors_sl['v4']['abs'].time, phasors_sl['v4']['abs'].values, label='v4.abs')\n",
    "plt.plot(phasors_sl['v5']['abs'].time, phasors_sl['v5']['abs'].values, label='v5.abs')\n",
    "plt.plot(phasors_sl['v6']['abs'].time, phasors_sl['v6']['abs'].values, label='v6.abs')\n",
    "plt.plot(phasors_sl['v7']['abs'].time, phasors_sl['v7']['abs'].values, label='v7.abs')\n",
    "plt.plot(phasors_sl['v8']['abs'].time, phasors_sl['v8']['abs'].values, label='v8.abs')\n",
    "plt.plot(phasors_sl['v9']['abs'].time, phasors_sl['v9']['abs'].values, label='v9.abs')\n",
    "plt.legend()\n",
    "plt.ylim([0,240000])"
   ]
  },
  {
   "cell_type": "code",
   "execution_count": null,
   "metadata": {},
   "outputs": [],
   "source": [
    "plt.figure()\n",
    "plt.plot(ts_sl['wr_1'].time, ts_sl['wr_1'].values)\n",
    "plt.plot(ts_sl['wr_2'].time, ts_sl['wr_2'].values)\n",
    "plt.plot(ts_sl['wr_3'].time, ts_sl['wr_3'].values)\n",
    "plt.xlabel('time (s)')\n",
    "plt.ylabel('mechanical speed (rad/s)')"
   ]
  },
  {
   "cell_type": "code",
   "execution_count": null,
   "metadata": {},
   "outputs": [],
   "source": [
    "import numpy as np\n",
    "# assert np.all(ts_sl['wr_1'].values - ts_dpsim['wr_1'].values < 0.01)"
   ]
  }
 ],
 "metadata": {
  "kernelspec": {
   "display_name": "Python 3 (ipykernel)",
   "language": "python",
   "name": "python3"
  },
  "language_info": {
   "codemirror_mode": {
    "name": "ipython",
    "version": 3
   },
   "file_extension": ".py",
   "mimetype": "text/x-python",
   "name": "python",
   "nbconvert_exporter": "python",
   "pygments_lexer": "ipython3",
   "version": "3.9.13"
  },
  "vscode": {
   "interpreter": {
    "hash": "31f2aee4e71d21fbe5cf8b01ff0e069b9275f58929596ceb00d14d90e3e16cd6"
   }
  }
 },
 "nbformat": 4,
 "nbformat_minor": 4
}
