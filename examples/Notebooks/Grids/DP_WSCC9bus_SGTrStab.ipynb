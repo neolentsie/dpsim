{
 "cells": [
  {
   "cell_type": "markdown",
   "metadata": {},
   "source": [
    "# DP Simulation of WSCC 9-bus System with Transient Stability Synchronous Generator"
   ]
  },
  {
   "cell_type": "code",
   "execution_count": null,
   "metadata": {},
   "outputs": [],
   "source": [
    "import requests\n",
    "import glob\n",
    "\n",
    "def download_grid_data(name, url):\n",
    "    with open(name, 'wb') as out_file:\n",
    "        content = requests.get(url, stream=True).content\n",
    "        out_file.write(content)\n",
    "\n",
    "url = 'https://raw.githubusercontent.com/dpsim-simulator/cim-grid-data/master/WSCC-09/WSCC-09_RX_Dyn/WSCC-09_RX'\n",
    "filename = 'WSCC-09'\n",
    "download_grid_data(filename+'_EQ.xml', url+'_EQ.xml')\n",
    "download_grid_data(filename+'_TP.xml', url+'_TP.xml')\n",
    "download_grid_data(filename+'_SV.xml', url+'_SV.xml')\n",
    "\n",
    "files = glob.glob(filename+'_*.xml')\n",
    "print(files)"
   ]
  },
  {
   "cell_type": "code",
   "execution_count": null,
   "metadata": {},
   "outputs": [],
   "source": [
    "import villas.dataprocessing.plottools as pt\n",
    "import villas.dataprocessing.readtools as rt\n",
    "from villas.dataprocessing.timeseries import TimeSeries as ts\n",
    "import matplotlib.pyplot as plt\n",
    "import numpy as np\n",
    "import dpsimpy"
   ]
  },
  {
   "cell_type": "code",
   "execution_count": null,
   "metadata": {},
   "outputs": [],
   "source": [
    "sim_name = 'WSCC-9bus_dyn'"
   ]
  },
  {
   "cell_type": "markdown",
   "metadata": {},
   "source": [
    "## Simulation"
   ]
  },
  {
   "cell_type": "code",
   "execution_count": null,
   "metadata": {},
   "outputs": [],
   "source": [
    "dpsimpy.Logger.set_log_dir('logs/' + sim_name)\n",
    "reader = dpsimpy.CIMReader(sim_name, dpsimpy.LogLevel.debug, dpsimpy.LogLevel.debug)\n",
    "system = reader.loadCIM(60, files, dpsimpy.Domain.DP, dpsimpy.PhaseType.Single, dpsimpy.GeneratorType.TransientStability)\n",
    "\n",
    "logger = dpsimpy.Logger(sim_name)\n",
    "\n",
    "for i in range(1, 10):\n",
    "    logger.log_attribute('v' + str(i), 'v', system.node('BUS' + str(i)))\n",
    "\n",
    "for i in range(1, 4):\n",
    "    logger.log_attribute('wr_' + str(i), 'w_r', system.component('GEN' + str(i)))\n",
    "\n",
    "sim = dpsimpy.Simulation(sim_name, dpsimpy.LogLevel.info)\n",
    "sim.set_system(system)\n",
    "sim.set_time_step(0.0001)\n",
    "sim.set_final_time(2.0)\n",
    "sim.set_domain(dpsimpy.Domain.DP)\n",
    "sim.do_steady_state_init(True)\n",
    "\n",
    "sim.add_logger(logger)\n",
    "sim.run()\n"
   ]
  },
  {
   "cell_type": "markdown",
   "metadata": {},
   "source": [
    "## Read simulation results"
   ]
  },
  {
   "cell_type": "code",
   "execution_count": null,
   "metadata": {},
   "outputs": [],
   "source": [
    "path = 'logs/WSCC-9bus_dyn/'\n",
    "logName = 'WSCC-9bus_dyn_InitLeftVector'\n",
    "logFilename = path + logName + '.csv'\n",
    "print(logFilename)\n",
    "\n",
    "ts_dpsim_init = rt.read_timeseries_dpsim(logFilename)"
   ]
  },
  {
   "cell_type": "markdown",
   "metadata": {},
   "source": [
    "### Phasors at first time step"
   ]
  },
  {
   "cell_type": "code",
   "execution_count": null,
   "metadata": {},
   "outputs": [],
   "source": [
    "phasors_init = ts.phasors(ts_dpsim_init)\n",
    "\n",
    "for node, phasor in phasors_init.items():\n",
    "    print(node + ': ' + str(phasor['abs'].values[0]) + '<' + str(phasor['phase'].values[0]))"
   ]
  },
  {
   "cell_type": "markdown",
   "metadata": {},
   "source": [
    "### Phasors at last time step"
   ]
  },
  {
   "cell_type": "code",
   "execution_count": null,
   "metadata": {},
   "outputs": [],
   "source": [
    "for node, phasor in phasors_init.items():\n",
    "    print(node + ': ' + str(phasor['abs'].values[-1]) + '<' + str(phasor['phase'].values[-1]))"
   ]
  },
  {
   "cell_type": "markdown",
   "metadata": {},
   "source": [
    "### Difference"
   ]
  },
  {
   "cell_type": "code",
   "execution_count": null,
   "metadata": {},
   "outputs": [],
   "source": [
    "for node, phasor in phasors_init.items():\n",
    "    print(node + ': ' + str(phasor['abs'].values[-1] - phasor['abs'].values[0]) + '<' + str(phasor['phase'].values[-1] - phasor['phase'].values[0]))"
   ]
  },
  {
   "cell_type": "markdown",
   "metadata": {},
   "source": [
    "## Simulation"
   ]
  },
  {
   "cell_type": "code",
   "execution_count": null,
   "metadata": {},
   "outputs": [],
   "source": [
    "path = 'logs/WSCC-9bus_dyn/'\n",
    "logName = 'WSCC-9bus_dyn'\n",
    "logFilename = path + logName + '.csv'\n",
    "print(logFilename)\n",
    "\n",
    "ts_dpsim = rt.read_timeseries_dpsim(logFilename)\n",
    "phasors = ts.phasors(ts_dpsim)"
   ]
  },
  {
   "cell_type": "markdown",
   "metadata": {},
   "source": [
    "### Phasors at last time step in per unit"
   ]
  },
  {
   "cell_type": "code",
   "execution_count": null,
   "metadata": {},
   "outputs": [],
   "source": [
    "nominal_voltages = {'v1': 16500, 'v2': 18000, 'v3': 13800, \n",
    "                         'v4': 230000, 'v5': 230000, 'v6': 230000, \n",
    "                         'v7': 230000, 'v8': 230000, 'v9': 230000} \n",
    "for node, nom_voltage in nominal_voltages.items():\n",
    "    print(node + ': ' + str(phasors[node]['abs'].values[0] / nom_voltage) + '<' + str(phasors[node]['phase'].values[0]))"
   ]
  },
  {
   "cell_type": "markdown",
   "metadata": {},
   "source": [
    "### Plot node phase\n"
   ]
  },
  {
   "cell_type": "code",
   "execution_count": null,
   "metadata": {},
   "outputs": [],
   "source": [
    "pt.plot_timeseries(1, phasors['v9']['phase'])\n",
    "#plt.xlim(0,0.2)"
   ]
  },
  {
   "cell_type": "markdown",
   "metadata": {},
   "source": [
    "### Plot node voltages"
   ]
  },
  {
   "cell_type": "code",
   "execution_count": null,
   "metadata": {},
   "outputs": [],
   "source": [
    "for node, phasor in phasors.items():\n",
    "    print(node + ': ' + str(phasor['abs'].values[-1]) + '<' + str(phasor['phase'].values[-1]))"
   ]
  },
  {
   "cell_type": "code",
   "execution_count": null,
   "metadata": {},
   "outputs": [],
   "source": [
    "pt.plot_timeseries(1, phasors['v1']['abs'])\n",
    "pt.plot_timeseries(1, phasors['v2']['abs'])\n",
    "pt.plot_timeseries(1, phasors['v3']['abs'])\n",
    "\n",
    "pt.plot_timeseries(2, phasors['v4']['abs'])\n",
    "pt.plot_timeseries(2, phasors['v5']['abs'])\n",
    "pt.plot_timeseries(2, phasors['v6']['abs'])\n",
    "pt.plot_timeseries(2, phasors['v7']['abs'])\n",
    "pt.plot_timeseries(2, phasors['v8']['abs'])\n",
    "pt.plot_timeseries(2, phasors['v9']['abs'])\n",
    "plt.ylim([200000,240000])\n",
    "plt.xlim([0,0.1])"
   ]
  },
  {
   "cell_type": "code",
   "execution_count": null,
   "metadata": {},
   "outputs": [],
   "source": [
    "for node, phasor in phasors.items():\n",
    "    abs_diff = phasor['abs'].values[-1] - phasor['abs'].values[0]\n",
    "    assert abs_diff < 27\n",
    "    phase_diff = phasor['phase'].values[-1] - phasor['phase'].values[0]\n",
    "    assert phase_diff < 0.001\n",
    "    print(node + ': ' + str(abs_diff) + '<' + str(phase_diff))"
   ]
  },
  {
   "cell_type": "code",
   "execution_count": null,
   "metadata": {},
   "outputs": [],
   "source": [
    "pt.plot_timeseries(1, ts_dpsim['wr_1'])\n",
    "pt.plot_timeseries(1, ts_dpsim['wr_2'])\n",
    "pt.plot_timeseries(1, ts_dpsim['wr_3'])\n",
    "plt.xlabel('time (s)')\n",
    "plt.ylabel('mechanical speed (rad/s)')\n",
    "#plt.ylim([370,380])\n",
    "#plt.xlim([0,0.06])"
   ]
  }
 ],
 "metadata": {
  "kernelspec": {
   "display_name": "Python 3 (ipykernel)",
   "language": "python",
   "name": "python3"
  },
  "language_info": {
   "codemirror_mode": {
    "name": "ipython",
    "version": 3
   },
   "file_extension": ".py",
   "mimetype": "text/x-python",
   "name": "python",
   "nbconvert_exporter": "python",
   "pygments_lexer": "ipython3",
   "version": "3.9.13"
  }
 },
 "nbformat": 4,
 "nbformat_minor": 4
}
