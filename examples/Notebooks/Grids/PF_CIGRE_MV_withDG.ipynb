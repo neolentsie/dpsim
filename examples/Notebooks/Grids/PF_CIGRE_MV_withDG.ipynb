{
 "cells": [
  {
   "cell_type": "markdown",
   "metadata": {},
   "source": [
    "# CIGRE MV with PV Inverters"
   ]
  },
  {
   "cell_type": "markdown",
   "metadata": {},
   "source": [
    "## Powerflow"
   ]
  },
  {
   "cell_type": "markdown",
   "metadata": {},
   "source": [
    "### Run simulation"
   ]
  },
  {
   "cell_type": "code",
   "execution_count": null,
   "metadata": {},
   "outputs": [],
   "source": [
    "import requests\n",
    "import glob\n",
    "\n",
    "def download_grid_data(name, url):\n",
    "    with open(name, 'wb') as out_file:\n",
    "        content = requests.get(url, stream=True).content\n",
    "        out_file.write(content)\n",
    "\n",
    "url = 'https://raw.githubusercontent.com/dpsim-simulator/cim-grid-data/master/CIGRE_MV/NEPLAN/CIGRE_MV_no_tapchanger_noLoad1_LeftFeeder_With_LoadFlow_Results/Rootnet_FULL_NE_28J17h'\n",
    "filename = 'CIGRE-MV'\n",
    "download_grid_data(filename+'_EQ.xml', url+'_EQ.xml')\n",
    "download_grid_data(filename+'_TP.xml', url+'_TP.xml')\n",
    "download_grid_data(filename+'_SV.xml', url+'_SV.xml')\n",
    "\n",
    "files = glob.glob(filename+'_*.xml')\n",
    "print(files)"
   ]
  },
  {
   "cell_type": "code",
   "execution_count": null,
   "metadata": {},
   "outputs": [],
   "source": [
    "from villas.dataprocessing.readtools import *\n",
    "from villas.dataprocessing.timeseries import *\n",
    "import matplotlib.pyplot as plt\n",
    "import dpsimpy"
   ]
  },
  {
   "cell_type": "code",
   "execution_count": null,
   "metadata": {},
   "outputs": [],
   "source": [
    "sim_name = 'PF_CIGRE_MV_withDG'"
   ]
  },
  {
   "cell_type": "markdown",
   "metadata": {},
   "source": [
    "### Powerflow for Initialization"
   ]
  },
  {
   "cell_type": "code",
   "execution_count": null,
   "metadata": {},
   "outputs": [],
   "source": [
    "dpsimpy.Logger.set_log_dir('logs/' + sim_name)\n",
    "reader = dpsimpy.CIMReader(sim_name, dpsimpy.LogLevel.debug, dpsimpy.LogLevel.debug)\n",
    "system = reader.loadCIM(50, files, dpsimpy.Domain.SP, dpsimpy.PhaseType.Single, dpsimpy.GeneratorType.PVNode)\n",
    "pv_active_power = 50e3 * int(int(4319.1e3 / 50e3) / 9)\n",
    "pv_reactive_power = np.sqrt(np.power(pv_active_power / 1, 2) - np.power(pv_active_power, 2))\n",
    "\n",
    "for n in range(3, 12):\n",
    "    connection_node = system.node('N' + str(n))\n",
    "    pv = dpsimpy.sp.ph1.AvVoltageSourceInverterDQ('pv_' + connection_node.name(), 'pv_' + connection_node.name(), dpsimpy.LogLevel.debug, True)\n",
    "    pv.set_parameters(sys_omega=2 * np.pi * 50, sys_volt_nom=1500, p_ref=pv_active_power, q_ref=pv_reactive_power)\n",
    "    pv.set_controller_parameters(Kp_pll=0.25 / 10, Ki_pll=2 / 1000,\n",
    "                                Kp_power_ctrl=0.001 / 10, Ki_power_ctrl=0.08 / 1000 ,\n",
    "                                Kp_curr_ctrl=0.3 / 10, Ki_curr_ctrl=10 / 1000, omega_cutoff=2*np.pi*50)\n",
    "    pv.set_filter_parameters(Lf=0.002,Cf=789.3e-6,Rf=0.1,Rc=0.1)\n",
    "    pv.set_transformer_parameters(nom_voltage_end_1=20e3, nom_voltage_end_2=1500, rated_power = 5e6,\n",
    "                                ratio_abs=20e3 / 1500, ratio_phase=0,resistance=0, inductance=0.928e-3)\n",
    "    pv.set_initial_state_values(p_init=450000.716605, q_init=-0.577218, phi_d_init=3854.197405 * 1000, phi_q_init=-0.003737 * 1000, gamma_d_init=128.892668 * 1000, gamma_q_init=23.068682 * 1000)\n",
    "    system.add(pv)\n",
    "    system.connect_component(pv, [connection_node])\n",
    "\n",
    "\n",
    "logger = dpsimpy.Logger(sim_name)\n",
    "for node in system.nodes:\n",
    "    logger.log_attribute(node.name() + '.V', 'v', node)\n",
    "\n",
    "sim = dpsimpy.Simulation(sim_name, dpsimpy.LogLevel.debug)\n",
    "sim.set_system(system)\n",
    "sim.set_time_step(1.0)\n",
    "sim.set_final_time(2.0)\n",
    "sim.set_domain(dpsimpy.Domain.SP)\n",
    "sim.set_solver(dpsimpy.Solver.NRP)\n",
    "sim.do_init_from_nodes_and_terminals(True)\n",
    "\n",
    "sim.add_logger(logger)\n",
    "sim.run()\n"
   ]
  },
  {
   "cell_type": "markdown",
   "metadata": {},
   "source": [
    "### Read results"
   ]
  },
  {
   "cell_type": "code",
   "execution_count": null,
   "metadata": {},
   "outputs": [],
   "source": [
    "modelName = 'PF_CIGRE_MV_withDG'\n",
    "path = 'logs/' + modelName + '/'\n",
    "dpsim_result_file = path + modelName + '.csv'\n",
    "\n",
    "ts_dpsim = read_timeseries_csv(dpsim_result_file)"
   ]
  },
  {
   "cell_type": "markdown",
   "metadata": {},
   "source": [
    "### Plot results"
   ]
  },
  {
   "cell_type": "code",
   "execution_count": null,
   "metadata": {},
   "outputs": [],
   "source": [
    "plt.figure(figsize=(12,6))\n",
    "for ts_name, ts_obj  in ts_dpsim.items():\n",
    "    if ts_name != 'N0.V':\n",
    "        plt.plot(ts_obj.time, ts_obj.abs().values, label=ts_name)\n",
    "plt.legend()\n",
    "plt.show()"
   ]
  }
 ],
 "metadata": {
  "interpreter": {
   "hash": "31f2aee4e71d21fbe5cf8b01ff0e069b9275f58929596ceb00d14d90e3e16cd6"
  },
  "kernelspec": {
   "display_name": "Python 3 (ipykernel)",
   "language": "python",
   "name": "python3"
  },
  "language_info": {
   "codemirror_mode": {
    "name": "ipython",
    "version": 3
   },
   "file_extension": ".py",
   "mimetype": "text/x-python",
   "name": "python",
   "nbconvert_exporter": "python",
   "pygments_lexer": "ipython3",
   "version": "3.9.12"
  },
  "tests": {
   "skip": false
  }
 },
 "nbformat": 4,
 "nbformat_minor": 4
}
