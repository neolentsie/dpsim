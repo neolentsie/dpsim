{
 "cells": [
  {
   "attachments": {},
   "cell_type": "markdown",
   "metadata": {},
   "source": [
    "# Validation of TPM and VBR models against each other with DP SMIB Load Step"
   ]
  },
  {
   "attachments": {},
   "cell_type": "markdown",
   "metadata": {},
   "source": [
    "## Load Libraries"
   ]
  },
  {
   "cell_type": "code",
   "execution_count": null,
   "metadata": {},
   "outputs": [],
   "source": [
    "import re\n",
    "import numpy as np\n",
    "import math\n",
    "import os\n",
    "import subprocess\n",
    "import pickle\n",
    "from villas.dataprocessing.readtools import *\n",
    "from villas.dataprocessing.timeseries import *\n",
    "import matplotlib.pyplot as plt\n",
    "\n",
    "#%matplotlib widget"
   ]
  },
  {
   "attachments": {},
   "cell_type": "markdown",
   "metadata": {},
   "source": [
    "## Simulation parameters"
   ]
  },
  {
   "cell_type": "code",
   "execution_count": null,
   "metadata": {},
   "outputs": [],
   "source": [
    "root_path = subprocess.Popen(['git', 'rev-parse', '--show-toplevel'], stdout=subprocess.PIPE).communicate()[0].rstrip().decode('utf-8')\n",
    "path_exec = root_path + '/build/dpsim/examples/cxx/'\n",
    "\n",
    "name_executable_vbr = 'DP_SMIB_ReducedOrderSG_LoadStep'\n",
    "name_vbr = \"DP_SMIB_ReducedOrderSG_VBR_LoadStep\"\n",
    "\n",
    "name_executable_tpm = 'DP_SMIB_ReducedOrderSGIterative_LoadStep'\n",
    "name_tpm = \"DP_SMIB_ReducedOrderSGIterative_LoadStep\"\n",
    "\n",
    "# times in s\n",
    "timestep = 1e-3\n",
    "load_step_time = 10.0\n",
    "roi_begin = 10.0\n",
    "roi_end = 12.0\n",
    "\n",
    "# tpm config params\n",
    "max_iter_array = [0, 1, 2, 5, 10, 20]\n",
    "tolerance = 1e-10\n",
    "sg_model = '4TPM'\n",
    "\n",
    "\n",
    "roi_begin_idx = int(roi_begin/timestep)\n",
    "roi_end_idx = int(roi_end/timestep)\n",
    "\n",
    "timestep_str = '{:1.6f}'.format(timestep)\n",
    "\n",
    "logs_path = 'logs'\n",
    "if not os.path.exists(logs_path):\n",
    "    os.mkdir(logs_path)\n",
    "    \n",
    "var_name = 'SynGen.Te'\n",
    "\n",
    "te_ref = 0.5454986888690558"
   ]
  },
  {
   "attachments": {},
   "cell_type": "markdown",
   "metadata": {},
   "source": [
    "## VBR Simulations"
   ]
  },
  {
   "cell_type": "code",
   "execution_count": null,
   "metadata": {},
   "outputs": [],
   "source": [
    "options_list_vbr = []\n",
    "options_list_vbr.append('loadStepEventTime=' + str(load_step_time))\n",
    "options_list_vbr.append('TimeStep=' + timestep_str)\n",
    "options_list_vbr.append('SimName=' + name_vbr)\n",
    "\n",
    "args_options_list_vbr = []\n",
    "for option in options_list_vbr:\n",
    "    args_options_list_vbr.extend(['--option', option])\n",
    "\n",
    "simVBR = subprocess.Popen([path_exec + name_executable_vbr] + args_options_list_vbr, stdout=subprocess.PIPE, stderr=subprocess.STDOUT)\n",
    "print(simVBR.communicate()[0].decode())"
   ]
  },
  {
   "cell_type": "code",
   "execution_count": null,
   "metadata": {},
   "outputs": [],
   "source": [
    "results_path_vbr = logs_path + \"/\" + name_vbr + \"/\" + name_vbr + \".csv\"\n",
    "ts_vbr = read_timeseries_dpsim(results_path_vbr)[var_name]\n",
    "ts_vbr_roi = TimeSeries(ts_vbr.name+'roi',ts_vbr.time[roi_begin_idx:roi_end_idx],ts_vbr.values[roi_begin_idx:roi_end_idx])"
   ]
  },
  {
   "attachments": {},
   "cell_type": "markdown",
   "metadata": {},
   "source": [
    "## TPM Simulations (with different maximum iterations)"
   ]
  },
  {
   "cell_type": "code",
   "execution_count": null,
   "metadata": {},
   "outputs": [],
   "source": [
    "options_list_tpm = []\n",
    "options_list_tpm.append('loadStepEventTime=' + str(load_step_time))\n",
    "options_list_tpm.append('TimeStep=' + timestep_str)\n",
    "options_list_tpm.append('Tolerance=' + str(tolerance))\n",
    "options_list_tpm.append('SGModel=' + str(sg_model))  \n",
    "\n",
    "args_options_list_tpm = []\n",
    "for option in options_list_tpm:\n",
    "    args_options_list_tpm.extend(['--option', option])\n",
    "\n",
    "for max_iter in max_iter_array:\n",
    "    name_iter = name_tpm + '_MaxIter' + str(max_iter)\n",
    "    simTPM = subprocess.Popen([path_exec + name_executable_tpm, '--option', 'SimName=' + name_iter, '--option', 'MaxIter=' + str(max_iter)] + args_options_list_tpm, stdout=subprocess.PIPE, stderr=subprocess.STDOUT)\n",
    "    print(simTPM.communicate()[0].decode())"
   ]
  },
  {
   "cell_type": "code",
   "execution_count": null,
   "metadata": {
    "tags": []
   },
   "outputs": [],
   "source": [
    "ts_tpm = []\n",
    "ts_tpm_roi = []\n",
    "for max_iter in max_iter_array:\n",
    "    name_iter = name_tpm + '_MaxIter' + str(max_iter)\n",
    "    results_path_iter = logs_path + \"/\" + name_iter + \"/\" + name_iter + \".csv\"\n",
    "    ts_tpm.append(read_timeseries_dpsim(results_path_iter)[var_name])\n",
    "    ts_tpm_roi.append(TimeSeries(ts_tpm[-1].name+'roi',ts_tpm[-1].time[roi_begin_idx:roi_end_idx],ts_tpm[-1].values[roi_begin_idx:roi_end_idx]))"
   ]
  },
  {
   "attachments": {},
   "cell_type": "markdown",
   "metadata": {},
   "source": [
    "## Comparative Plots"
   ]
  },
  {
   "attachments": {},
   "cell_type": "markdown",
   "metadata": {},
   "source": [
    "### Complete"
   ]
  },
  {
   "cell_type": "code",
   "execution_count": null,
   "metadata": {},
   "outputs": [],
   "source": [
    "plt.figure()\n",
    "plt.plot(ts_vbr.time, ts_vbr.values, label='VBR')\n",
    "\n",
    "for max_iter in max_iter_array:\n",
    "    max_iter_idx = max_iter_array.index(max_iter)\n",
    "    plt.plot(ts_tpm[max_iter_idx].time, ts_tpm[max_iter_idx].values, linestyle='--', label='TPM - MaxIter' + str(max_iter))\n",
    "\n",
    "plt.legend()\n",
    "plt.show()"
   ]
  },
  {
   "attachments": {},
   "cell_type": "markdown",
   "metadata": {},
   "source": [
    "### ROI"
   ]
  },
  {
   "cell_type": "code",
   "execution_count": null,
   "metadata": {},
   "outputs": [],
   "source": [
    "plt.figure()\n",
    "plt.plot(ts_vbr_roi.time, ts_vbr_roi.values, label='VBR')\n",
    "\n",
    "for max_iter in max_iter_array:\n",
    "    max_iter_idx = max_iter_array.index(max_iter)\n",
    "    plt.plot(ts_tpm_roi[max_iter_idx].time, ts_tpm_roi[max_iter_idx].values, linestyle='--', label='TPM - MaxIter' + str(max_iter))\n",
    "\n",
    "plt.legend()\n",
    "plt.show()"
   ]
  },
  {
   "attachments": {},
   "cell_type": "markdown",
   "metadata": {},
   "source": [
    "## RMSE Calculation"
   ]
  },
  {
   "cell_type": "code",
   "execution_count": null,
   "metadata": {},
   "outputs": [],
   "source": [
    "rmse_list = []\n",
    "for max_iter in max_iter_array:\n",
    "    max_iter_idx = max_iter_array.index(max_iter)\n",
    "    rmse_list.append(ts_vbr_roi.rmse(ts_tpm_roi[max_iter_idx], ts_vbr_roi)/te_ref*100)\n",
    "    print('RMSE of TPM with MaxIter={}: {}%'.format(max_iter,rmse_list[-1]))"
   ]
  },
  {
   "attachments": {},
   "cell_type": "markdown",
   "metadata": {},
   "source": [
    "## Assertions"
   ]
  },
  {
   "cell_type": "code",
   "execution_count": null,
   "metadata": {},
   "outputs": [],
   "source": [
    "assert(rmse_list[0]<0.32)\n",
    "assert(rmse_list[1]<0.54)\n",
    "assert(rmse_list[2]<0.31)\n",
    "assert(rmse_list[3]<0.07)\n",
    "assert(rmse_list[4]<0.003)\n",
    "assert(rmse_list[5]<2.4e-5)"
   ]
  }
 ],
 "metadata": {
  "kernelspec": {
   "display_name": "Python 3 (ipykernel)",
   "language": "python",
   "name": "python3"
  },
  "language_info": {
   "codemirror_mode": {
    "name": "ipython",
    "version": 3
   },
   "file_extension": ".py",
   "mimetype": "text/x-python",
   "name": "python",
   "nbconvert_exporter": "python",
   "pygments_lexer": "ipython3",
   "version": "3.9.13"
  },
  "vscode": {
   "interpreter": {
    "hash": "e7370f93d1d0cde622a1f8e1c04877d8463912d04d973331ad4851f04de6915a"
   }
  }
 },
 "nbformat": 4,
 "nbformat_minor": 4
}
