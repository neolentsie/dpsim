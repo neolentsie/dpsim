{
 "cells": [
  {
   "cell_type": "markdown",
   "metadata": {},
   "source": [
    "# EMT Ph3 Linear Circuit SSN"
   ]
  },
  {
   "cell_type": "markdown",
   "metadata": {},
   "source": [
    "## Run C++ examples"
   ]
  },
  {
   "cell_type": "code",
   "execution_count": null,
   "metadata": {},
   "outputs": [],
   "source": [
    "import os\n",
    "import subprocess\n",
    "\n",
    "#%matplotlib widget\n",
    "\n",
    "name = 'EMT_Ph1_Diode_test'\n",
    "\n",
    "dpsim_path = subprocess.Popen(['git', 'rev-parse', '--show-toplevel'], stdout=subprocess.PIPE).communicate()[0].rstrip().decode('utf-8')\n",
    "\n",
    "path_exec = dpsim_path + '/build/dpsim/examples/cxx/'\n",
    "sim = subprocess.Popen([path_exec + name], stdout=subprocess.PIPE, stderr=subprocess.STDOUT)\n",
    "print(sim.communicate()[0].decode())"
   ]
  },
  {
   "cell_type": "code",
   "execution_count": null,
   "metadata": {},
   "outputs": [],
   "source": [
    "from villas.dataprocessing.readtools import *\n",
    "from villas.dataprocessing.timeseries import *\n",
    "from villas.dataprocessing.timeseries import TimeSeries as ts\n",
    "import matplotlib.pyplot as plt\n",
    "import re\n",
    "import numpy as np\n",
    "import math\n",
    "\n",
    "work_dir = os.getcwd() + \"/logs/\"\n",
    "path_logfile = work_dir + name + '/' + name + '.csv'\n",
    "ts_dpsim_EMT = read_timeseries_dpsim(path_logfile)"
   ]
  },
  {
   "cell_type": "markdown",
   "metadata": {},
   "source": [
    "### Load Results"
   ]
  },
  {
   "cell_type": "code",
   "execution_count": null,
   "metadata": {},
   "outputs": [],
   "source": [
    "plt.close('all')\n",
    "fig1 = plt.figure()\n",
    "\n",
    "plt.plot(ts_dpsim_EMT['V_Diode'].time, ts_dpsim_EMT['V_Diode'].values, \"r-\", label='V_D')\n",
    "\n",
    "plt.legend(loc = 4)\n",
    "#plt.legend(bbox_to_anchor=(1,1))\n",
    "\n",
    "plt.title('Diode Voltage')\n",
    "plt.xlabel('t [s]')\n",
    "plt.ylabel('Voltage [V]')\n",
    "\n",
    "fig2 = plt.figure()\n",
    "\n",
    "plt.plot(ts_dpsim_EMT['I_Diode'].time, ts_dpsim_EMT['I_Diode'].values, \"r-\", label='I_D')\n",
    "\n",
    "plt.legend(loc = 4)\n",
    "#plt.legend(bbox_to_anchor=(1,1))\n",
    "\n",
    "plt.title('Diode Current')\n",
    "plt.xlabel('t [s]')\n",
    "plt.ylabel('Current [A]')"
   ]
  },
  {
   "cell_type": "code",
   "execution_count": null,
   "metadata": {},
   "outputs": [],
   "source": []
  }
 ],
 "metadata": {
  "kernelspec": {
   "display_name": "Python 3 (ipykernel)",
   "language": "python",
   "name": "python3"
  },
  "language_info": {
   "codemirror_mode": {
    "name": "ipython",
    "version": 3
   },
   "file_extension": ".py",
   "mimetype": "text/x-python",
   "name": "python",
   "nbconvert_exporter": "python",
   "pygments_lexer": "ipython3",
   "version": "3.9.13"
  },
  "tests": {
   "skip": false
  }
 },
 "nbformat": 4,
 "nbformat_minor": 4
}
