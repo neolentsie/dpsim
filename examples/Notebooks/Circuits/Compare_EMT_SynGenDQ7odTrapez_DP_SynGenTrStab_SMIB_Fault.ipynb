{
 "cells": [
  {
   "attachments": {},
   "cell_type": "markdown",
   "metadata": {},
   "source": [
    "# Synchronous Generator dq 7th order model vs transient stability classical model"
   ]
  },
  {
   "cell_type": "code",
   "execution_count": null,
   "metadata": {},
   "outputs": [],
   "source": [
    "import villas.dataprocessing.readtools as rt\n",
    "from villas.dataprocessing.timeseries import TimeSeries as ts\n",
    "import matplotlib.pyplot as plt\n",
    "import re\n",
    "import numpy as np\n",
    "import math\n",
    "import dpsimpy\n",
    "\n",
    "#matplotlib widget"
   ]
  },
  {
   "attachments": {},
   "cell_type": "markdown",
   "metadata": {},
   "source": [
    "## EMT Simulation"
   ]
  },
  {
   "attachments": {},
   "cell_type": "markdown",
   "metadata": {},
   "source": [
    "### Parametrization"
   ]
  },
  {
   "cell_type": "code",
   "execution_count": null,
   "metadata": {},
   "outputs": [],
   "source": [
    "# General grid parameters\n",
    "V_nom_MV = 24e3\n",
    "V_nom_HV = 230e3\n",
    "nom_freq = 60\n",
    "ratio = V_nom_MV / V_nom_HV\n",
    "nom_omega = nom_freq * 2 * math.pi\n",
    "\n",
    "# Machine parameters synchronous generator\n",
    "H = 3.7\n",
    "Rs = 0.003\n",
    "Ld = 1.8099\n",
    "Lq = 1.7600\n",
    "Ld_t = 0.2999\n",
    "Lq_t = 0.6500\n",
    "Ld_s = 0.2299\n",
    "Lq_s = 0.2500\n",
    "Ll = 0.15\n",
    "Td0_t = 8.0669\n",
    "Tq0_t = 0.9991\n",
    "Td0_s = 0.0300\n",
    "Tq0_s = 0.0700\n",
    "\n",
    "# Operation point synchronous generator \n",
    "set_point_active_power = 300e6\n",
    "set_point_voltage = 1.05*V_nom_MV\n",
    "\n",
    "# Breaker\n",
    "breaker_open = 1e9\n",
    "breaker_closed = 0.001\n",
    "\n",
    "# Line \n",
    "line_lenght = 100\n",
    "line_resistance = 1.27e-4 * 529.0 * line_lenght * ratio**2\n",
    "line_inductance = 9.05e-4 * 529.0 * line_lenght * ratio**2 / nom_omega\n",
    "line_capacitance = (1.81e-3 / 529.0 * line_lenght / ratio**2) / nom_omega\n",
    "line_conductance = 8e-2\n",
    "\n",
    "# Simulation parameters\n",
    "sim_name = \"EMT_SynGenDQ7odTrapez_OperationalParams_SMIB_Fault\";\n",
    "final_time = 1.0\n",
    "time_step = 10e-6\n",
    "start_time_fault = 0.2"
   ]
  },
  {
   "attachments": {},
   "cell_type": "markdown",
   "metadata": {},
   "source": [
    "### Powerflow for Initialization"
   ]
  },
  {
   "cell_type": "code",
   "execution_count": null,
   "metadata": {},
   "outputs": [],
   "source": [
    "sim_name_pf = sim_name + \"_PF\"\n",
    "dpsimpy.Logger.set_log_dir(\"logs/\" + sim_name_pf)\n",
    "time_step_pf = final_time\n",
    "final_time_pf = final_time + time_step_pf\n",
    "\n",
    "# Components\n",
    "n1_pf = dpsimpy.sp.SimNode(\"n1\", dpsimpy.PhaseType.Single)\n",
    "n2_pf = dpsimpy.sp.SimNode(\"n2\", dpsimpy.PhaseType.Single)\n",
    "\n",
    "# Synchronous generator ideal model\n",
    "gen_pf = dpsimpy.sp.ph1.SynchronGenerator(\"SynGen\", dpsimpy.LogLevel.debug)\n",
    "gen_pf.set_parameters(rated_apparent_power=555e6, rated_voltage=24e3,\n",
    "                        set_point_active_power=set_point_active_power,\n",
    "                        set_point_voltage=set_point_voltage,\n",
    "                        powerflow_bus_type=dpsimpy.PowerflowBusType.PV)\n",
    "gen_pf.set_base_voltage(V_nom_MV)\n",
    "gen_pf.modify_power_flow_bus_type(dpsimpy.PowerflowBusType.PV)\n",
    "\n",
    "# Grid bus as Slack\n",
    "extnet_pf = dpsimpy.sp.ph1.NetworkInjection(\"Slack\", dpsimpy.LogLevel.debug)\n",
    "extnet_pf.set_parameters(V_nom_MV)\n",
    "extnet_pf.set_base_voltage(V_nom_MV)\n",
    "extnet_pf.modify_power_flow_bus_type(dpsimpy.PowerflowBusType.VD)\n",
    "\n",
    "# Line\n",
    "line_pf = dpsimpy.sp.ph1.PiLine(\"PiLine\", dpsimpy.LogLevel.debug)\n",
    "line_pf.set_parameters(line_resistance, line_inductance, line_capacitance, line_conductance)\n",
    "line_pf.set_base_voltage(V_nom_MV)\n",
    "\n",
    "# Topology\n",
    "gen_pf.connect([n1_pf])\n",
    "line_pf.connect([n1_pf, n2_pf])\n",
    "extnet_pf.connect([n2_pf])\n",
    "system_pf = dpsimpy.SystemTopology(nom_freq, [n1_pf, n2_pf], [gen_pf, line_pf, extnet_pf])\n",
    "\n",
    "# Logging\n",
    "logger_pf = dpsimpy.Logger(sim_name_pf)\n",
    "logger_pf.log_attribute(\"v1\", \"v\", n1_pf)\n",
    "logger_pf.log_attribute(\"v2\", \"v\", n2_pf)\n",
    "logger_pf.log_attribute(\"v_line\", \"v_intf\", line_pf)\n",
    "logger_pf.log_attribute(\"i_line\", \"i_intf\", line_pf)\n",
    "logger_pf.log_attribute(\"v_gen\", \"v_intf\", gen_pf)\n",
    "logger_pf.log_attribute(\"ig\", \"i_intf\", gen_pf)\n",
    "\n",
    "# Simulation\n",
    "sim_pf = dpsimpy.Simulation(sim_name_pf, dpsimpy.LogLevel.debug)\n",
    "sim_pf.set_system(system_pf)\n",
    "sim_pf.set_time_step(time_step_pf)\n",
    "sim_pf.set_final_time(final_time_pf)\n",
    "sim_pf.set_domain(dpsimpy.Domain.SP)\n",
    "sim_pf.set_solver(dpsimpy.Solver.NRP)\n",
    "sim_pf.do_init_from_nodes_and_terminals(False)\n",
    "sim_pf.add_logger(logger_pf)\n",
    "sim_pf.run()"
   ]
  },
  {
   "attachments": {},
   "cell_type": "markdown",
   "metadata": {},
   "source": [
    "### Dynamic Simulation"
   ]
  },
  {
   "cell_type": "code",
   "execution_count": null,
   "metadata": {},
   "outputs": [],
   "source": [
    "dpsimpy.Logger.set_log_dir(\"logs/\"+sim_name)\n",
    "\n",
    "# Extract relevant powerflow results\n",
    "init_terminal_volt = np.abs(n1_pf.single_voltage() * dpsimpy.RMS3PH_TO_PEAK1PH)\n",
    "init_volt_angle = np.angle(n1_pf.single_voltage())\n",
    "init_active_power = np.real(gen_pf.get_apparent_power())\n",
    "init_reactive_power = np.imag(gen_pf.get_apparent_power())\n",
    "init_mech_power = init_active_power\n",
    "\n",
    "# Nodes\n",
    "n1 = dpsimpy.emt.SimNode(\"n1\", dpsimpy.PhaseType.ABC)\n",
    "n2 = dpsimpy.emt.SimNode(\"n2\", dpsimpy.PhaseType.ABC)\n",
    "\n",
    "# Components\n",
    "# Synch\n",
    "gen = dpsimpy.emt.ph3.SynchronGeneratorDQTrapez(\"SynGen\", dpsimpy.LogLevel.debug)\n",
    "gen.set_parameters_operational_per_unit(\n",
    "    nom_power=555e6, nom_volt=24e3, nom_freq=60, pole_number=2, nom_field_cur=1300,\n",
    "    Rs=Rs, Ld=Ld, Lq=Lq, Ld_t=Ld_t, Lq_t=Lq_t, Ld_s=Ld_s, Lq_s=Lq_s, Ll=Ll, Td0_t=Td0_t, Tq0_t=Tq0_t,\n",
    "    Td0_s=Td0_s, Tq0_s=Tq0_s, inertia=H, init_active_power=init_active_power, init_reactive_power=init_reactive_power,\n",
    "    init_terminal_volt=init_terminal_volt, init_volt_angle=init_volt_angle, init_field_voltage=7.0821,\n",
    "    init_mech_power=init_mech_power\n",
    "    \n",
    ")\n",
    "\n",
    "# Grid bus as Slack\n",
    "extnet = dpsimpy.emt.ph3.NetworkInjection(\"Slack\", dpsimpy.LogLevel.debug)\n",
    "\n",
    "# Line\n",
    "line = dpsimpy.emt.ph3.PiLine(\"PiLine\", dpsimpy.LogLevel.debug)\n",
    "line.set_parameters(dpsimpy.Math.single_phase_parameter_to_three_phase(line_resistance),\n",
    "                       dpsimpy.Math.single_phase_parameter_to_three_phase(line_inductance),\n",
    "                       dpsimpy.Math.single_phase_parameter_to_three_phase(line_capacitance),\n",
    "                       dpsimpy.Math.single_phase_parameter_to_three_phase(line_conductance))\n",
    "\n",
    "# Breaker\n",
    "fault = dpsimpy.emt.ph3.Switch(\"Br_fault\", dpsimpy.LogLevel.debug)\n",
    "fault.set_parameters(dpsimpy.Math.single_phase_parameter_to_three_phase(breaker_open),\n",
    "                     dpsimpy.Math.single_phase_parameter_to_three_phase(breaker_closed))\n",
    "fault.open()\n",
    "\n",
    "# Topology\n",
    "gen.connect([n1])\n",
    "line.connect([n1, n2])\n",
    "extnet.connect([n2])\n",
    "fault.connect([dpsimpy.emt.SimNode.gnd, n1])\n",
    "system = dpsimpy.SystemTopology(nom_freq, [n1, n2], [gen, line, fault, extnet])\n",
    "\n",
    "\n",
    "# Initialization of dynamic topology\n",
    "system.init_with_powerflow(systemPF=system_pf, domain=dpsimpy.Domain.EMT)\n",
    "\n",
    "# Logging\n",
    "logger = dpsimpy.Logger(sim_name)\n",
    "logger.log_attribute(\"v1\", \"v\", n1)\n",
    "logger.log_attribute(\"v2\", \"v\", n2)\n",
    "logger.log_attribute(\"v_line\", \"v_intf\", line)\n",
    "logger.log_attribute(\"i_line\", \"i_intf\", line)\n",
    "logger.log_attribute(\"v_gen\", \"v_intf\", gen)\n",
    "logger.log_attribute(\"i_gen\", \"i_intf\", gen)\n",
    "logger.log_attribute(\"wr_gen\", \"w_r\", gen)\n",
    "logger.log_attribute(\"delta_r\", \"delta_r\", gen)\n",
    "\n",
    "# Events\n",
    "sw1 = dpsimpy.event.SwitchEvent3Ph(start_time_fault, fault, True)\n",
    "\n",
    "# Simulation\n",
    "sim = dpsimpy.Simulation(sim_name, dpsimpy.LogLevel.debug)\n",
    "sim.set_system(system)\n",
    "sim.set_time_step(time_step)\n",
    "sim.set_final_time(final_time)\n",
    "sim.set_domain(dpsimpy.Domain.EMT)\n",
    "sim.add_logger(logger)\n",
    "sim.add_event(sw1)\n",
    "sim.run()"
   ]
  },
  {
   "attachments": {},
   "cell_type": "markdown",
   "metadata": {},
   "source": [
    "## DP Simulation"
   ]
  },
  {
   "attachments": {},
   "cell_type": "markdown",
   "metadata": {},
   "source": [
    "### Parametrization"
   ]
  },
  {
   "cell_type": "code",
   "execution_count": null,
   "metadata": {},
   "outputs": [],
   "source": [
    "# Power System\n",
    "V_nom = 230e3\n",
    "\n",
    "# Generator\n",
    "nom_power = 500e6\n",
    "nom_ph_ph_volt_RMS = 22e3\n",
    "nom_freq = 60\n",
    "nom_omega = nom_freq * 2 * math.pi\n",
    "H = 5\n",
    "Xpd = 0.31\n",
    "Rs = 0.003 * 0\n",
    "D=1.5\n",
    "\n",
    "# Initialization parameters\n",
    "init_mech_power = 300e6\n",
    "init_active_power = 300e6\n",
    "set_point_voltage = nom_ph_ph_volt_RMS * 1.05\n",
    "\n",
    "# Transformer\n",
    "t_ratio = V_nom / nom_ph_ph_volt_RMS\n",
    "\n",
    "# PiLine parameters calculated from CIGRE Benchmark system\n",
    "line_resistance = 6.7\n",
    "line_inductance = 47.0/nom_omega\n",
    "line_capacitance = 3.42e-4/nom_omega\n",
    "line_conductance = 0\n",
    "\n",
    "# Parameters for powerflow initialization\n",
    "# Slack voltage: 1pu\n",
    "V_slack = V_nom\n",
    "\n",
    "# Switch to trigger fault at generator terminal\n",
    "switch_open = 1e6\n",
    "switch_closed = 0.1\n",
    "\n",
    "# Simulation parameters\n",
    "sim_name = \"DP_SynGenTrStab_SMIB_Fault\";\n",
    "final_time = 20\n",
    "time_step = 0.001\n",
    "start_fault_event = True\n",
    "end_fault_event = True\n",
    "start_time_fault = 10\n",
    "end_time_fault = 10.2\n",
    "cmd_Inertia = 1.0\n",
    "cmd_Damping = 1.0"
   ]
  },
  {
   "attachments": {},
   "cell_type": "markdown",
   "metadata": {},
   "source": [
    "### Powerflow for Initialization"
   ]
  },
  {
   "cell_type": "code",
   "execution_count": null,
   "metadata": {},
   "outputs": [],
   "source": [
    "sim_name_pf = sim_name + \"_PF\"\n",
    "dpsimpy.Logger.set_log_dir(\"logs/\" + sim_name_pf)\n",
    "time_step_pf = final_time\n",
    "final_time_pf = final_time + time_step_pf\n",
    "\n",
    "# Components\n",
    "n1_pf = dpsimpy.sp.SimNode(\"n1\", dpsimpy.PhaseType.Single)\n",
    "n2_pf = dpsimpy.sp.SimNode(\"n2\", dpsimpy.PhaseType.Single)\n",
    "\n",
    "# Synchronous generator ideal model\n",
    "gen_pf = dpsimpy.sp.ph1.SynchronGenerator(\"Generator\", dpsimpy.LogLevel.debug)\n",
    "gen_pf.set_parameters(rated_apparent_power=nom_power, rated_voltage=nom_ph_ph_volt_RMS,\n",
    "                        set_point_active_power=init_active_power,\n",
    "                        set_point_voltage=set_point_voltage*t_ratio,\n",
    "                        powerflow_bus_type=dpsimpy.PowerflowBusType.PV)\n",
    "gen_pf.set_base_voltage(V_nom)\n",
    "gen_pf.modify_power_flow_bus_type(dpsimpy.PowerflowBusType.PV)\n",
    "\n",
    "# Grid bus as Slack\n",
    "extnet_pf = dpsimpy.sp.ph1.NetworkInjection(\"Slack\", dpsimpy.LogLevel.debug)\n",
    "extnet_pf.set_parameters(V_slack)\n",
    "extnet_pf.set_base_voltage(V_nom)\n",
    "extnet_pf.modify_power_flow_bus_type(dpsimpy.PowerflowBusType.VD)\n",
    "\n",
    "# Line\n",
    "line_pf = dpsimpy.sp.ph1.PiLine(\"PiLine\", dpsimpy.LogLevel.debug)\n",
    "line_pf.set_parameters(line_resistance, line_inductance, line_capacitance, line_conductance)\n",
    "line_pf.set_base_voltage(V_nom)\n",
    "\n",
    "# Switch\n",
    "fault_pf = dpsimpy.sp.ph1.Switch(\"Br_fault\", dpsimpy.LogLevel.debug)\n",
    "fault_pf.set_parameters(switch_open, switch_closed)\n",
    "fault_pf.open()\n",
    "\n",
    "# Topology\n",
    "gen_pf.connect([n1_pf])\n",
    "fault_pf.connect([dpsimpy.sp.SimNode.gnd, n1_pf])\n",
    "line_pf.connect([n1_pf, n2_pf])\n",
    "extnet_pf.connect([n2_pf])\n",
    "system_pf = dpsimpy.SystemTopology(nom_freq, [n1_pf, n2_pf], [gen_pf, line_pf, extnet_pf, fault_pf])\n",
    "\n",
    "# Logging\n",
    "logger_pf = dpsimpy.Logger(sim_name_pf)\n",
    "logger_pf.log_attribute(\"v1\", \"v\", n1_pf)\n",
    "logger_pf.log_attribute(\"v2\", \"v\", n2_pf)\n",
    "\n",
    "# Simulation\n",
    "sim_pf = dpsimpy.Simulation(sim_name_pf, dpsimpy.LogLevel.debug)\n",
    "sim_pf.set_system(system_pf)\n",
    "sim_pf.set_time_step(time_step_pf)\n",
    "sim_pf.set_final_time(final_time_pf)\n",
    "sim_pf.set_domain(dpsimpy.Domain.SP)\n",
    "sim_pf.set_solver(dpsimpy.Solver.NRP)\n",
    "sim_pf.do_init_from_nodes_and_terminals(False)\n",
    "sim_pf.add_logger(logger_pf)\n",
    "sim_pf.run()"
   ]
  },
  {
   "attachments": {},
   "cell_type": "markdown",
   "metadata": {},
   "source": [
    "### Dynamic simulation"
   ]
  },
  {
   "cell_type": "code",
   "execution_count": null,
   "metadata": {},
   "outputs": [],
   "source": [
    "sim_name_dp = sim_name + \"_DP\" \n",
    "dpsimpy.Logger.set_log_dir(\"logs/\"+sim_name_dp)\n",
    "\n",
    "# Nodes\n",
    "n1_dp = dpsimpy.dp.SimNode(\"n1\", dpsimpy.PhaseType.Single)\n",
    "n2_dp = dpsimpy.dp.SimNode(\"n2\", dpsimpy.PhaseType.Single)\n",
    "\n",
    "# Components\n",
    "gen_dp = dpsimpy.dp.ph1.SynchronGeneratorTrStab(\"SynGen\", dpsimpy.LogLevel.debug)\n",
    "# Xpd is given in p.u of generator base at transfomer primary side and should be transformed to network side\n",
    "gen_dp.set_standard_parameters_PU(\n",
    "    nom_power=nom_power, nom_volt = nom_ph_ph_volt_RMS, nom_freq=nom_freq,\n",
    "    Xpd = Xpd*t_ratio**2, inertia=cmd_Inertia*H, Rs=Rs, D=cmd_Damping*D)\n",
    "\n",
    "init_apparent_power = gen_pf.get_apparent_power()\n",
    "gen_dp.set_initial_values(init_apparent_power, init_mech_power)\n",
    "\n",
    "# Grid bus as Slack\n",
    "extnet_dp = dpsimpy.dp.ph1.NetworkInjection(\"Slack\", dpsimpy.LogLevel.debug)\n",
    "\n",
    "# Line\n",
    "line_dp = dpsimpy.dp.ph1.PiLine(\"PiLine\", dpsimpy.LogLevel.debug)\n",
    "line_dp.set_parameters(line_resistance, line_inductance, line_capacitance, line_conductance)\n",
    "\n",
    "# Switch\n",
    "fault_dp = dpsimpy.dp.ph1.varResSwitch(\"Br_fault\", dpsimpy.LogLevel.debug)\n",
    "fault_dp.set_parameters(switch_open, switch_closed)\n",
    "fault_dp.set_init_parameters(time_step)\n",
    "fault_dp.open()\n",
    "\n",
    "# Topology\n",
    "gen_dp.connect([n1_dp])\n",
    "line_dp.connect([n1_dp, n2_dp])\n",
    "extnet_dp.connect([n2_dp])\n",
    "fault_dp.connect([dpsimpy.dp.SimNode.gnd, n1_dp])\n",
    "system_dp = dpsimpy.SystemTopology(nom_freq, [n1_dp, n2_dp], [gen_dp, line_dp, fault_dp, extnet_dp])\n",
    "\n",
    "\n",
    "# Initialization of dynamic topology\n",
    "system_dp.init_with_powerflow(system_pf)\n",
    "\n",
    "# Logging\n",
    "logger_dp = dpsimpy.Logger(sim_name_dp)\n",
    "logger_dp.log_attribute(\"v1\", \"v\", n1_dp)\n",
    "logger_dp.log_attribute(\"v2\", \"v\", n2_dp)\n",
    "\n",
    "logger_dp.log_attribute(\"v_line\", \"v_intf\", line_dp)\n",
    "logger_dp.log_attribute(\"i_line\", \"i_intf\", line_dp)\n",
    "\n",
    "logger_dp.log_attribute(\"v_slack\", \"v_intf\", extnet_dp)\n",
    "logger_dp.log_attribute(\"i_slack\", \"i_intf\", extnet_dp)\n",
    "\n",
    "logger_dp.log_attribute(\"i_fault\", \"i_intf\", fault_dp)\n",
    "\n",
    "logger_dp.log_attribute(\"Ep\", \"Ep\", gen_dp)\n",
    "logger_dp.log_attribute(\"v_gen\", \"v_intf\", gen_dp)\n",
    "logger_dp.log_attribute(\"i_gen\", \"i_intf\", gen_dp)\n",
    "logger_dp.log_attribute(\"wr_gen\", \"w_r\", gen_dp)\n",
    "# Name changed from CPP example to work in comparison below\n",
    "logger_dp.log_attribute(\"delta_r\", \"delta_r\", gen_dp)\n",
    "logger_dp.log_attribute(\"P_elec\", \"P_elec\", gen_dp)\n",
    "logger_dp.log_attribute(\"P_mech\", \"P_mech\", gen_dp)\n",
    "\n",
    "# Simulation\n",
    "sim_dp = dpsimpy.Simulation(sim_name, dpsimpy.LogLevel.debug)\n",
    "sim_dp.set_system(system_dp)\n",
    "sim_dp.set_time_step(time_step)\n",
    "sim_dp.set_final_time(final_time)\n",
    "sim_dp.set_domain(dpsimpy.Domain.DP)\n",
    "sim_dp.add_logger(logger_dp)\n",
    "sim_dp.do_system_matrix_recomputation(True)\n",
    "\n",
    "\n",
    "# Events\n",
    "if start_fault_event:\n",
    "    sw1 = dpsimpy.event.SwitchEvent(start_time_fault, fault_dp, True)\n",
    "    sim_dp.add_event(sw1)\n",
    "    \n",
    "if end_fault_event:\n",
    "    sw2 = dpsimpy.event.SwitchEvent(end_time_fault, fault_dp, False)\n",
    "    sim_dp.add_event(sw2)\n",
    "    \n",
    "sim_dp.run()"
   ]
  },
  {
   "attachments": {},
   "cell_type": "markdown",
   "metadata": {},
   "source": [
    "## Results 3ph EMT 7th order model with trapezoidal rule"
   ]
  },
  {
   "cell_type": "code",
   "execution_count": null,
   "metadata": {},
   "outputs": [],
   "source": [
    "work_dir = 'logs/EMT_SynGenDQ7odTrapez_OperationalParams_SMIB_Fault/'\n",
    "log_name = 'EMT_SynGenDQ7odTrapez_OperationalParams_SMIB_Fault'\n",
    "print(work_dir + log_name + '.csv')\n",
    "ts_emt3ph_DQ7odTrapez = rt.read_timeseries_dpsim(work_dir + log_name + '.csv')"
   ]
  },
  {
   "attachments": {},
   "cell_type": "markdown",
   "metadata": {},
   "source": [
    "## Results 1ph DP transient stability classical model"
   ]
  },
  {
   "cell_type": "code",
   "execution_count": null,
   "metadata": {},
   "outputs": [],
   "source": [
    "work_dir = 'logs/DP_SynGenTrStab_SMIB_Fault_DP/'\n",
    "log_name = 'DP_SynGenTrStab_SMIB_Fault_DP'\n",
    "print(work_dir + log_name + '.csv')\n",
    "ts_dp1ph_TrStab = rt.read_timeseries_dpsim(work_dir + log_name + '.csv')"
   ]
  },
  {
   "attachments": {},
   "cell_type": "markdown",
   "metadata": {},
   "source": [
    "## Generator EMF"
   ]
  },
  {
   "cell_type": "code",
   "execution_count": null,
   "metadata": {},
   "outputs": [],
   "source": [
    "plt.style.use('default')\n",
    "#plt.rcParams.update({'font.size': 22})\n",
    "\n",
    "timestep=10e-6;\n",
    "t_begin=0\n",
    "t_end=5\n",
    "\n",
    "# Fault at t=0.1 s untill t=0.15s\n",
    "begin_idx = int(t_begin/timestep)\n",
    "end_idx= int(t_end/timestep)\n",
    "\n",
    "plt.figure(figsize=(12,8))\n",
    "plt.ylabel('Generator emf (V)', fontsize=18)\n",
    "\n",
    "for name in ['Ep']:\n",
    "    #plt.plot(ts_emt3ph_DQ7odTrapez[name + '_0'].interpolate(timestep).time[begin_idx:end_idx], np.sqrt(3/2)*ts_emt3ph_DQ7odTrapez[name + '_0'].interpolate(timestep).values[begin_idx:end_idx], label=name + '  Full model (9th order)')\n",
    "    plt.plot(ts_dp1ph_TrStab[name].interpolate(timestep).time[begin_idx:end_idx], ts_dp1ph_TrStab[name].interpolate(timestep).frequency_shift(60).values[begin_idx:end_idx], label=name + '  Classical model (2nd order)', linestyle='--')\n",
    "    \n",
    "plt.legend()\n",
    "plt.show()"
   ]
  },
  {
   "attachments": {},
   "cell_type": "markdown",
   "metadata": {},
   "source": [
    "## Generator terminal voltage"
   ]
  },
  {
   "cell_type": "code",
   "execution_count": null,
   "metadata": {},
   "outputs": [],
   "source": [
    "plt.figure(figsize=(12,8))\n",
    "plt.ylabel('Generator terminal voltage (V)', fontsize=18)\n",
    "\n",
    "for name in ['v_gen']:\n",
    "    plt.plot(ts_emt3ph_DQ7odTrapez[name + '_0'].interpolate(timestep).time[begin_idx:end_idx], np.sqrt(3/2)*ts_emt3ph_DQ7odTrapez[name + '_0'].interpolate(timestep).values[begin_idx:end_idx], label=name + '  Full model (9th order)')\n",
    "    #plt.plot(ts_dp1ph_TrStab[name].interpolate(timestep).time[begin_idx:end_idx], ts_dp1ph_TrStab[name].interpolate(timestep).frequency_shift(60).values[begin_idx:end_idx], label=name + '  Classical model (2nd order)', linestyle='--')\n",
    "    \n",
    "plt.legend(fontsize=14)\n",
    "plt.show()"
   ]
  },
  {
   "attachments": {},
   "cell_type": "markdown",
   "metadata": {},
   "source": [
    "## Genrerator terminal Current"
   ]
  },
  {
   "cell_type": "code",
   "execution_count": null,
   "metadata": {},
   "outputs": [],
   "source": [
    "plt.figure(figsize=(12,8))\n",
    "plt.ylabel('Generator terminal current (V)', fontsize=18)\n",
    "\n",
    "for name in ['i_gen']:\n",
    "    plt.plot(ts_emt3ph_DQ7odTrapez[name + '_0'].interpolate(timestep).time[begin_idx:end_idx], np.sqrt(3/2)*ts_emt3ph_DQ7odTrapez[name + '_0'].interpolate(timestep).values[begin_idx:end_idx], label=name + '  Full model (9th order)')\n",
    "    plt.plot(ts_dp1ph_TrStab[name].interpolate(timestep).time[begin_idx:end_idx], ts_dp1ph_TrStab[name].interpolate(timestep).frequency_shift(60).values[begin_idx:end_idx], label=name + '  Classical model (2nd order)', linestyle='--')\n",
    "\n",
    "plt.legend()\n",
    "plt.show()"
   ]
  },
  {
   "attachments": {},
   "cell_type": "markdown",
   "metadata": {},
   "source": [
    "## Voltage across line"
   ]
  },
  {
   "cell_type": "code",
   "execution_count": null,
   "metadata": {},
   "outputs": [],
   "source": [
    "plt.figure(figsize=(12,8))\n",
    "\n",
    "for name in ['v_line']:\n",
    "    plt.plot(ts_emt3ph_DQ7odTrapez[name + '_0'].interpolate(timestep).time[begin_idx:end_idx], np.sqrt(3/2)*ts_emt3ph_DQ7odTrapez[name + '_0'].interpolate(timestep).values[begin_idx:end_idx], label=name + '  Full model (9th order)')\n",
    "    plt.plot(ts_dp1ph_TrStab[name].interpolate(timestep).time[begin_idx:end_idx], ts_dp1ph_TrStab[name].interpolate(timestep).frequency_shift(60).values[begin_idx:end_idx], label=name + '  Classical model (2nd order)', linestyle='--')\n",
    "\n",
    "plt.legend()\n",
    "plt.show()"
   ]
  },
  {
   "attachments": {},
   "cell_type": "markdown",
   "metadata": {},
   "source": [
    "## Current through line"
   ]
  },
  {
   "cell_type": "code",
   "execution_count": null,
   "metadata": {},
   "outputs": [],
   "source": [
    "plt.figure(figsize=(12,8))\n",
    "\n",
    "for name in ['i_line']:\n",
    "    plt.plot(ts_emt3ph_DQ7odTrapez[name + '_0'].interpolate(timestep).time[begin_idx:end_idx], np.sqrt(3/2)*ts_emt3ph_DQ7odTrapez[name + '_0'].interpolate(timestep).values[begin_idx:end_idx], label=name + '  Full model (9th order)')\n",
    "    plt.plot(ts_dp1ph_TrStab[name].interpolate(timestep).time[begin_idx:end_idx], ts_dp1ph_TrStab[name].interpolate(timestep).frequency_shift(60).values[begin_idx:end_idx], label=name + '  Classical model (2nd order)', linestyle='--')\n",
    "\n",
    "plt.legend()\n",
    "plt.show()"
   ]
  },
  {
   "attachments": {},
   "cell_type": "markdown",
   "metadata": {},
   "source": [
    "## Rotor frequency"
   ]
  },
  {
   "cell_type": "code",
   "execution_count": null,
   "metadata": {},
   "outputs": [],
   "source": [
    "plt.figure(figsize=(12,8))\n",
    "plt.xlabel('time (s)', fontsize=20)\n",
    "plt.ylabel('Rotor frequency (Hz)', fontsize=20)\n",
    "plt.xticks(fontsize=18)\n",
    "plt.yticks(fontsize=18)\n",
    "#plt.ylim(59,61)\n",
    "\n",
    "#if x_axis limits are changed above, change them again to consider the complete duration\n",
    "\n",
    "#ROCOF\n",
    "for name in ['wr_gen']:\n",
    "    plt.plot(ts_emt3ph_DQ7odTrapez[name].interpolate(timestep).time[begin_idx:end_idx], ts_emt3ph_DQ7odTrapez[name].interpolate(timestep).values[begin_idx:end_idx]*60, label='Full model (9th order)')\n",
    "    plt.plot(ts_dp1ph_TrStab[name].interpolate(timestep).time[begin_idx:end_idx], ts_dp1ph_TrStab[name].interpolate(timestep).values[begin_idx:end_idx]*60/377, label='Classical model (2nd order)', linestyle='--')\n",
    "\n",
    "plt.legend(fontsize=18)\n",
    "plt.show()"
   ]
  },
  {
   "attachments": {},
   "cell_type": "markdown",
   "metadata": {},
   "source": [
    "## Rotor angular velocity $\\omega _r$"
   ]
  },
  {
   "cell_type": "code",
   "execution_count": null,
   "metadata": {},
   "outputs": [],
   "source": [
    "plt.figure(figsize=(12,8))\n",
    "plt.ylabel('Rotor angular velocity (rad/s)', fontsize=18)\n",
    "\n",
    "\n",
    "for name in ['wr_gen']:\n",
    "    plt.plot(ts_emt3ph_DQ7odTrapez[name].interpolate(timestep).time[begin_idx:end_idx], 2*math.pi*60*ts_emt3ph_DQ7odTrapez[name].interpolate(timestep).values[begin_idx:end_idx], label=name +' Full model (9th order)')\n",
    "    plt.plot(ts_dp1ph_TrStab[name].interpolate(timestep).time[begin_idx:end_idx], ts_dp1ph_TrStab[name].interpolate(timestep).values[begin_idx:end_idx], label=name + ' Classical model (2nd order)' , linestyle='--')\n",
    "\n",
    "plt.legend()\n",
    "plt.show()"
   ]
  },
  {
   "attachments": {},
   "cell_type": "markdown",
   "metadata": {},
   "source": [
    "## Rotor angle $\\delta _r$"
   ]
  },
  {
   "cell_type": "code",
   "execution_count": null,
   "metadata": {},
   "outputs": [],
   "source": [
    "plt.figure(figsize=(12,8))\n",
    "for name in ['delta_r']:\n",
    "    plt.plot(ts_emt3ph_DQ7odTrapez[name].interpolate(timestep).time[begin_idx:end_idx], ts_emt3ph_DQ7odTrapez[name].interpolate(timestep).values[begin_idx:end_idx]*180/3.14, label=name + ' Full model (9th order)')\n",
    "    plt.plot(ts_dp1ph_TrStab[name].interpolate(timestep).time[begin_idx:end_idx], ts_dp1ph_TrStab[name].interpolate(timestep).values[begin_idx:end_idx]*180/3.14, label=name + ' Classical model (2nd order)', linestyle='--')\n"
   ]
  },
  {
   "cell_type": "code",
   "execution_count": null,
   "metadata": {},
   "outputs": [],
   "source": []
  }
 ],
 "metadata": {
  "kernelspec": {
   "display_name": "Python 3",
   "language": "python",
   "name": "python3"
  },
  "language_info": {
   "codemirror_mode": {
    "name": "ipython",
    "version": 3
   },
   "file_extension": ".py",
   "mimetype": "text/x-python",
   "name": "python",
   "nbconvert_exporter": "python",
   "pygments_lexer": "ipython3",
   "version": "3.8.9"
  },
  "tests": {
   "skip": true
  }
 },
 "nbformat": 4,
 "nbformat_minor": 4
}
