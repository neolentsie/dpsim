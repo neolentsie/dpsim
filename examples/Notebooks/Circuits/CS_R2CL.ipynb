{
 "cells": [
  {
   "cell_type": "markdown",
   "metadata": {},
   "source": [
    "# Circuit CS_R2CL"
   ]
  },
  {
   "cell_type": "code",
   "execution_count": null,
   "metadata": {},
   "outputs": [],
   "source": [
    "import villas.dataprocessing.readtools as rt\n",
    "import villas.dataprocessing.plottools as pt\n",
    "from villas.dataprocessing.timeseries import TimeSeries as ts\n",
    "import math \n",
    "import dpsimpy\n",
    "\n",
    "#%matplotlib widget\n"
   ]
  },
  {
   "cell_type": "markdown",
   "metadata": {},
   "source": [
    "## DPsim EMT"
   ]
  },
  {
   "cell_type": "code",
   "execution_count": null,
   "metadata": {},
   "outputs": [],
   "source": [
    "# DPsim EMT simulation\n",
    "name = 'EMT_CS_R2CL'\n",
    "\n",
    "# Nodes\n",
    "gnd = dpsimpy.emt.SimNode.gnd\n",
    "n1 = dpsimpy.emt.SimNode('n1')\n",
    "n2 = dpsimpy.emt.SimNode('n2')\n",
    "\n",
    "# initialize node voltages as in modelica\n",
    "n1.set_initial_voltage(complex(6.26676, -2.13813) * math.sqrt(2))\n",
    "n2.set_initial_voltage(complex(-0.539123, 0.42205) * math.sqrt(2))\n",
    "\n",
    "# Components\n",
    "cs = dpsimpy.emt.ph1.CurrentSource('cs')\n",
    "cs.I_ref = complex(10, 0)\n",
    "cs.f_src = 50\n",
    "r1 = dpsimpy.emt.ph1.Resistor('r_1', dpsimpy.LogLevel.off)\n",
    "r1.R = 1\n",
    "c1 = dpsimpy.emt.ph1.Capacitor('c_1', dpsimpy.LogLevel.off)\n",
    "c1.C = 0.001\n",
    "l1 = dpsimpy.emt.ph1.Inductor('l_1', dpsimpy.LogLevel.off)\n",
    "l1.L = 0.001\n",
    "r2 = dpsimpy.emt.ph1.Resistor('r_2')\n",
    "r2.R = 1\n",
    "\n",
    "# Connections\n",
    "cs.connect([gnd, n1])\n",
    "r1.connect([gnd, n1])\n",
    "c1.connect([n2, n1])\n",
    "l1.connect([gnd, n2])\n",
    "r2.connect([gnd, n2])\n",
    "\n",
    "# Define system topology\n",
    "system = dpsimpy.SystemTopology(50, [gnd, n1, n2], [cs, r1, c1, l1, r2])\n",
    "\n",
    "# Logging\n",
    "logger = dpsimpy.Logger(name)\n",
    "logger.log_attribute('n1.v', 'v', n1)\n",
    "logger.log_attribute('n2.v', 'v', n2)\n",
    "logger.log_attribute('cs.i_intf', 'i_intf', cs)\n",
    "logger.log_attribute('c_1.i_intf', 'i_intf', c1)\n",
    "logger.log_attribute('l_1.i_intf', 'i_intf', l1)\n",
    "\n",
    "sim = dpsimpy.Simulation(name)\n",
    "sim.set_domain(dpsimpy.Domain.EMT)\n",
    "sim.set_system(system)\n",
    "sim.set_time_step(0.0001)\n",
    "sim.set_final_time(0.1)"
   ]
  },
  {
   "cell_type": "code",
   "execution_count": null,
   "metadata": {},
   "outputs": [],
   "source": [
    "sim.add_logger(logger)"
   ]
  },
  {
   "cell_type": "code",
   "execution_count": null,
   "metadata": {},
   "outputs": [],
   "source": [
    "sim.run()"
   ]
  },
  {
   "cell_type": "code",
   "execution_count": null,
   "metadata": {},
   "outputs": [],
   "source": [
    "# read EMT results\n",
    "work_dir = 'logs/'\n",
    "log_name = 'EMT_CS_R2CL'\n",
    "print(work_dir + log_name + '.csv')\n",
    "\n",
    "ts_dpsim_emt = rt.read_timeseries_dpsim(work_dir + log_name + '.csv')"
   ]
  },
  {
   "cell_type": "code",
   "execution_count": null,
   "metadata": {},
   "outputs": [],
   "source": [
    "v1_emt = 'n1.v'\n",
    "v2_emt = 'n2.v'\n",
    "ic1_emt = 'c_1.i_intf'\n",
    "il1_emt = 'l_1.i_intf'\n",
    "\n",
    "ts_dpsim_emt[v1_emt].label = 'v1 EMT'\n",
    "ts_dpsim_emt[v2_emt].label = 'v2 EMT'\n",
    "ts_dpsim_emt[ic1_emt].label = 'ic1 EMT'\n",
    "ts_dpsim_emt[il1_emt].label = 'il1 EMT'\n",
    "pt.plot_timeseries(1, ts_dpsim_emt[v1_emt])\n",
    "pt.plot_timeseries(1, ts_dpsim_emt[v2_emt])\n",
    "pt.plot_timeseries(2, ts_dpsim_emt[ic1_emt])\n",
    "pt.plot_timeseries(2, ts_dpsim_emt[il1_emt])"
   ]
  },
  {
   "cell_type": "markdown",
   "metadata": {},
   "source": [
    "## DPsim DP"
   ]
  },
  {
   "cell_type": "code",
   "execution_count": null,
   "metadata": {},
   "outputs": [],
   "source": [
    "# DPsim DP simulation\n",
    "name = 'DP_CS_R2CL'\n",
    "\n",
    "# Nodes\n",
    "gnd = dpsimpy.dp.SimNode.gnd\n",
    "n1 = dpsimpy.dp.SimNode('n1')\n",
    "n2 = dpsimpy.dp.SimNode('n2')\n",
    "\n",
    "# initialize node voltages as in simulunk\n",
    "n1.set_initial_voltage(complex(6.26676, -2.13813) * math.sqrt(2))\n",
    "n2.set_initial_voltage(complex(-0.539123, 0.42205) * math.sqrt(2))\n",
    "\n",
    "# Components\n",
    "cs = dpsimpy.dp.ph1.CurrentSource('cs')\n",
    "cs.I_ref = complex(10,0)\n",
    "r1 = dpsimpy.dp.ph1.Resistor('r_1')\n",
    "r1.R = 1\n",
    "c1 = dpsimpy.dp.ph1.Capacitor('c_1')\n",
    "c1.C = 0.001\n",
    "l1 = dpsimpy.dp.ph1.Inductor('l_1')\n",
    "l1.L = 0.001\n",
    "r2 = dpsimpy.dp.ph1.Resistor('r_2')\n",
    "r2.R = 1\n",
    "\n",
    "# Connections\n",
    "cs.connect([gnd, n1])\n",
    "r1.connect([gnd, n1])\n",
    "c1.connect([n2, n1])\n",
    "l1.connect([gnd, n2])\n",
    "r2.connect([gnd, n2])\n",
    "\n",
    "# Define system topology\n",
    "system = dpsimpy.SystemTopology(50, [gnd, n1, n2], [cs, r1, c1, l1, r2])\n",
    "\n",
    "# Logging\n",
    "logger = dpsimpy.Logger(name)\n",
    "logger.log_attribute('n1.v', 'v', n1)\n",
    "logger.log_attribute('n2.v', 'v', n2)\n",
    "logger.log_attribute('cs.i_intf', 'i_intf', cs)\n",
    "logger.log_attribute('c_1.i_intf', 'i_intf', c1)\n",
    "logger.log_attribute('l_1.i_intf', 'i_intf', l1)\n",
    "\n",
    "sim = dpsimpy.Simulation(name)\n",
    "sim.set_system(system)\n",
    "sim.set_domain(dpsimpy.Domain.DP)\n",
    "sim.set_time_step(0.0001)\n",
    "sim.set_final_time(0.1)"
   ]
  },
  {
   "cell_type": "code",
   "execution_count": null,
   "metadata": {},
   "outputs": [],
   "source": [
    "sim.add_logger(logger)"
   ]
  },
  {
   "cell_type": "code",
   "execution_count": null,
   "metadata": {},
   "outputs": [],
   "source": [
    "sim.run()"
   ]
  },
  {
   "cell_type": "code",
   "execution_count": null,
   "metadata": {},
   "outputs": [],
   "source": [
    "# read DP results\n",
    "work_dir = 'logs/'\n",
    "log_name = 'DP_CS_R2CL'\n",
    "print(work_dir + log_name + '.csv')\n",
    "\n",
    "ts_dpsim_dp = rt.read_timeseries_dpsim(work_dir + log_name + '.csv')\n",
    "\n",
    "#convert to emt\n",
    "ts_dpsim_dp_emt = ts.frequency_shift_list(ts_dpsim_dp, 50)"
   ]
  },
  {
   "cell_type": "code",
   "execution_count": null,
   "metadata": {},
   "outputs": [],
   "source": [
    "v1_dp = 'n1.v_shift'\n",
    "v2_dp = 'n2.v_shift'\n",
    "ic1_dp = 'c_1.i_intf_shift'\n",
    "il1_dp = 'l_1.i_intf_shift'\n",
    "\n",
    "ts_dpsim_dp_emt[v1_dp].label = 'v1 DP'\n",
    "ts_dpsim_dp_emt[v2_dp].label = 'v2 DP'\n",
    "ts_dpsim_dp_emt[ic1_dp].label = 'ic1 DP'\n",
    "ts_dpsim_dp_emt[il1_dp].label = 'il1 DP'\n",
    "pt.plot_timeseries(1, ts_dpsim_dp_emt[v1_dp])\n",
    "pt.plot_timeseries(1, ts_dpsim_dp_emt[v2_dp])\n",
    "pt.plot_timeseries(2, ts_dpsim_dp_emt[ic1_dp])\n",
    "pt.plot_timeseries(2, ts_dpsim_dp_emt[il1_dp])"
   ]
  },
  {
   "attachments": {},
   "cell_type": "markdown",
   "metadata": {},
   "source": [
    "## Modelica reference results"
   ]
  },
  {
   "cell_type": "code",
   "execution_count": null,
   "metadata": {},
   "outputs": [],
   "source": [
    "# read Simulink log file\n",
    "import os\n",
    "import urllib.request\n",
    "\n",
    "if not os.path.exists('reference-results'):\n",
    "    os.mkdir('reference-results')\n",
    "\n",
    "url = 'https://raw.githubusercontent.com/dpsim-simulator/reference-results/62d774a31d40663368487e2751f93ed3ee53139d/Modelica/BasicGrids/CS_R2CL_Modelica.csv'\n",
    "local_file = 'reference-results/CS_R2CL_Modelica.csv'\n",
    "urllib.request.urlretrieve(url, local_file) \n",
    "\n",
    "ts_mod = rt.read_timeseries_simulink(local_file)"
   ]
  },
  {
   "cell_type": "code",
   "execution_count": null,
   "metadata": {},
   "outputs": [],
   "source": [
    "v1_mod = 'capacitor.v1'\n",
    "v2_mod = 'capacitor.v2'\n",
    "ic1_mod = 'capacitor.i'\n",
    "il1_mod = 'inductor.i'\n",
    "\n",
    "ts_mod[v1_mod].label = 'v1 Mod'\n",
    "ts_mod[v2_mod].label = 'v2 Mod'\n",
    "ts_mod[ic1_mod].label = 'ic1 Mod'\n",
    "ts_mod[il1_mod].label = 'il1 Mod'\n",
    "pt.plot_timeseries(1, ts_mod[v1_mod])\n",
    "pt.plot_timeseries(1, ts_mod[v2_mod])\n",
    "pt.plot_timeseries(2, ts_mod[ic1_mod])\n",
    "pt.plot_timeseries(2, ts_mod[il1_mod])"
   ]
  },
  {
   "cell_type": "markdown",
   "metadata": {},
   "source": [
    "## Comparison"
   ]
  },
  {
   "cell_type": "code",
   "execution_count": null,
   "metadata": {},
   "outputs": [],
   "source": [
    "v1_emt = 'n1.v'\n",
    "v2_emt = 'n2.v'\n",
    "\n",
    "# plot v1\n",
    "pt.plot_timeseries(1, ts_dpsim_emt[v1_emt])\n",
    "pt.plot_timeseries(1, ts_dpsim_dp_emt[v1_dp])\n",
    "pt.plot_timeseries(1, ts_dpsim_dp['n1.v'].abs())\n",
    "pt.plot_timeseries(1, ts_mod[v1_mod])\n",
    "# plot v2\n",
    "pt.plot_timeseries(2, ts_dpsim_emt[v2_emt])\n",
    "pt.plot_timeseries(2, ts_dpsim_dp_emt[v2_dp])\n",
    "pt.plot_timeseries(2, ts_mod[v2_mod])\n",
    "# plot ic1\n",
    "pt.plot_timeseries(5, ts_dpsim_emt[ic1_emt])\n",
    "pt.plot_timeseries(5, ts_dpsim_dp_emt[ic1_dp])\n",
    "pt.plot_timeseries(5, ts_mod[ic1_mod])\n",
    "# plot il1\n",
    "pt.plot_timeseries(6, ts_dpsim_emt[il1_emt])\n",
    "pt.plot_timeseries(6, ts_dpsim_dp_emt[il1_dp])\n",
    "pt.plot_timeseries(6, ts_mod[il1_mod])"
   ]
  },
  {
   "cell_type": "code",
   "execution_count": null,
   "metadata": {},
   "outputs": [],
   "source": [
    "# calculate the RMSE between Modelica (ts_sl) and EMT (ts_dpsim_emt)\n",
    "err_mod_emt = 0\n",
    "err_mod_emt += ts.rmse(ts_mod[v1_mod], ts_dpsim_emt[v1_emt])\n",
    "err_mod_emt += ts.rmse(ts_mod[v2_mod], ts_dpsim_emt[v2_emt])\n",
    "err_mod_emt = err_mod_emt / 2\n",
    "print(\"Total RMSE of Simulink reference and DPsim EMT: %g\" % (err_mod_emt))\n",
    "\n",
    "# calculate the RMSE between Modelica (ts_sl) and DP (ts_dpsim_dp_emt)\n",
    "err_mod_dp = 0\n",
    "err_mod_dp += ts.rmse(ts_mod[v1_mod], ts_dpsim_dp_emt[v1_dp])\n",
    "err_mod_dp += ts.rmse(ts_mod[v2_mod], ts_dpsim_dp_emt[v2_dp])\n",
    "err_mod_dp = err_mod_dp / 2\n",
    "print(\"Total RMSE of Simulink reference and DPsim DP: %g\" % (err_mod_dp))"
   ]
  },
  {
   "cell_type": "code",
   "execution_count": null,
   "metadata": {},
   "outputs": [],
   "source": [
    "assert err_mod_emt < 0.00017\n",
    "assert err_mod_dp < 2.26e-06"
   ]
  }
 ],
 "metadata": {
  "kernelspec": {
   "display_name": "Python 3",
   "language": "python",
   "name": "python3"
  },
  "language_info": {
   "codemirror_mode": {
    "name": "ipython",
    "version": 3
   },
   "file_extension": ".py",
   "mimetype": "text/x-python",
   "name": "python",
   "nbconvert_exporter": "python",
   "pygments_lexer": "ipython3",
   "version": "3.9.13"
  },
  "tests": {
   "skip": false
  }
 },
 "nbformat": 4,
 "nbformat_minor": 4
}
