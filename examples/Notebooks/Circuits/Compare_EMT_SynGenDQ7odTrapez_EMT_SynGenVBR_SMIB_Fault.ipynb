{
 "cells": [
  {
   "cell_type": "markdown",
   "metadata": {},
   "source": [
    "# Synchronous Generator DCIM vs VBR model"
   ]
  },
  {
   "cell_type": "code",
   "execution_count": null,
   "metadata": {},
   "outputs": [],
   "source": [
    "from villas.dataprocessing.readtools import *\n",
    "from villas.dataprocessing.timeseries import *\n",
    "import matplotlib.pyplot as plt\n",
    "import re\n",
    "import numpy as np\n",
    "import math\n",
    "import os\n",
    "import subprocess\n",
    "\n",
    "#%matplotlib widget\n",
    "timestep = 10e-6\n",
    "duration = 1.0\n",
    "\n",
    "dpsim_path = subprocess.Popen(['git', 'rev-parse', '--show-toplevel'], stdout=subprocess.PIPE).communicate()[0].rstrip().decode('utf-8')\n",
    "path_exec = dpsim_path + '/build/dpsim/examples/cxx/'"
   ]
  },
  {
   "cell_type": "markdown",
   "metadata": {},
   "source": [
    "## DCIM simulation"
   ]
  },
  {
   "cell_type": "code",
   "execution_count": null,
   "metadata": {},
   "outputs": [],
   "source": [
    "model_name = 'EMT_SynGenDQ7odTrapez_SMIB_Fault'\n",
    "\n",
    "sim = subprocess.Popen([path_exec+model_name, '--name', model_name, '--timestep', str(timestep), '--duration', str(duration)], stdout=subprocess.PIPE, stderr=subprocess.STDOUT)\n",
    "print(sim.communicate()[0].decode())\n",
    "\n",
    "path_res = 'logs/' + model_name + '/'\n",
    "dpsim_result_file_res = path_res  + model_name + '.csv'\n",
    "ts_dcim = read_timeseries_csv(dpsim_result_file_res)"
   ]
  },
  {
   "cell_type": "markdown",
   "metadata": {},
   "source": [
    "## VBR simulation"
   ]
  },
  {
   "cell_type": "code",
   "execution_count": null,
   "metadata": {},
   "outputs": [],
   "source": [
    "model_name = 'EMT_SynGenVBR_SMIB_Fault'\n",
    "\n",
    "sim = subprocess.Popen([path_exec+model_name, '--name', model_name, '--timestep', str(timestep), '--duration', str(duration)], stdout=subprocess.PIPE, stderr=subprocess.STDOUT)\n",
    "print(sim.communicate()[0].decode())\n",
    "\n",
    "path_res = 'logs/' + model_name + '/'\n",
    "dpsim_result_file_res = path_res  + model_name + '.csv'\n",
    "ts_vbr = read_timeseries_csv(dpsim_result_file_res)"
   ]
  },
  {
   "cell_type": "markdown",
   "metadata": {},
   "source": [
    "## Definition ROI"
   ]
  },
  {
   "cell_type": "code",
   "execution_count": null,
   "metadata": {},
   "outputs": [],
   "source": [
    "t_begin=0\n",
    "t_end=1\n",
    "\n",
    "begin_idx = int(t_begin/timestep)\n",
    "end_idx= int(t_end/timestep)"
   ]
  },
  {
   "cell_type": "markdown",
   "metadata": {},
   "source": [
    "## Network node voltages"
   ]
  },
  {
   "cell_type": "code",
   "execution_count": null,
   "metadata": {},
   "outputs": [],
   "source": [
    "plt.figure(figsize=(12,8))\n",
    "plt.ylabel('Network node voltage (V)', fontsize=18)\n",
    "\n",
    "for name in ['v1', 'v2']:\n",
    "    plt.plot(ts_dcim[name + '_0'].time[begin_idx:end_idx], np.sqrt(3/2)*ts_dcim[name + '_0'].values[begin_idx:end_idx], label=name+' (DCIM)')\n",
    "    plt.plot(ts_vbr[name + '_0'].time[begin_idx:end_idx], np.sqrt(3/2)*ts_vbr[name + '_0'].values[begin_idx:end_idx], label=name+' (VBR)', linestyle='--')\n",
    "    \n",
    "plt.legend(fontsize=14)\n",
    "plt.show()"
   ]
  },
  {
   "cell_type": "markdown",
   "metadata": {},
   "source": [
    "## Generator terminal voltage"
   ]
  },
  {
   "cell_type": "code",
   "execution_count": null,
   "metadata": {},
   "outputs": [],
   "source": [
    "plt.figure(figsize=(12,8))\n",
    "plt.ylabel('Generator terminal voltage (V)', fontsize=18)\n",
    "\n",
    "for name in ['v_gen']:\n",
    "    plt.plot(ts_dcim[name + '_0'].time[begin_idx:end_idx], np.sqrt(3/2)*ts_dcim[name + '_0'].values[begin_idx:end_idx], label=name+' (DCIM)')\n",
    "    plt.plot(ts_vbr[name + '_0'].time[begin_idx:end_idx], np.sqrt(3/2)*ts_vbr[name + '_0'].values[begin_idx:end_idx], label=name+' (VBR)', linestyle='--')\n",
    "    \n",
    "plt.legend(fontsize=14)\n",
    "plt.show()"
   ]
  },
  {
   "cell_type": "markdown",
   "metadata": {},
   "source": [
    "## Genrerator terminal Current"
   ]
  },
  {
   "cell_type": "code",
   "execution_count": null,
   "metadata": {},
   "outputs": [],
   "source": [
    "plt.figure(figsize=(12,8))\n",
    "plt.ylabel('Generator terminal current (A)', fontsize=18)\n",
    "\n",
    "for name in ['i_gen']:\n",
    "    plt.plot(ts_dcim[name + '_0'].time[begin_idx:end_idx], np.sqrt(3/2)*ts_dcim[name + '_0'].values[begin_idx:end_idx], label=name+' (DCIM)')\n",
    "    plt.plot(ts_vbr[name + '_0'].time[begin_idx:end_idx], np.sqrt(3/2)*ts_vbr[name + '_0'].values[begin_idx:end_idx], label=name+' (VBR)', linestyle='--')\n",
    "\n",
    "plt.legend()\n",
    "plt.show()"
   ]
  },
  {
   "cell_type": "markdown",
   "metadata": {},
   "source": [
    "## Voltage across line"
   ]
  },
  {
   "cell_type": "code",
   "execution_count": null,
   "metadata": {},
   "outputs": [],
   "source": [
    "plt.figure(figsize=(12,8))\n",
    "\n",
    "for name in ['v_line']:\n",
    "    plt.plot(ts_dcim[name + '_0'].time[begin_idx:end_idx], np.sqrt(3/2)*ts_dcim[name + '_0'].values[begin_idx:end_idx], label=name+' (DCIM)')\n",
    "    plt.plot(ts_vbr[name + '_0'].time[begin_idx:end_idx], np.sqrt(3/2)*ts_vbr[name + '_0'].values[begin_idx:end_idx], label=name+' (VBR)', linestyle='--')\n",
    "\n",
    "plt.legend()\n",
    "plt.show()"
   ]
  },
  {
   "cell_type": "markdown",
   "metadata": {},
   "source": [
    "## Current through line"
   ]
  },
  {
   "cell_type": "code",
   "execution_count": null,
   "metadata": {},
   "outputs": [],
   "source": [
    "plt.figure(figsize=(12,8))\n",
    "\n",
    "for name in ['i_line']:\n",
    "    plt.plot(ts_dcim[name + '_0'].time[begin_idx:end_idx], np.sqrt(3/2)*ts_dcim[name + '_0'].values[begin_idx:end_idx], label=name+' (DCIM)')\n",
    "    plt.plot(ts_vbr[name + '_0'].time[begin_idx:end_idx], np.sqrt(3/2)*ts_vbr[name + '_0'].values[begin_idx:end_idx], label=name+' (VBR)', linestyle='--')\n",
    "\n",
    "plt.legend()\n",
    "plt.show()"
   ]
  },
  {
   "cell_type": "markdown",
   "metadata": {},
   "source": [
    "## Rotor frequency  $f_r$"
   ]
  },
  {
   "cell_type": "code",
   "execution_count": null,
   "metadata": {},
   "outputs": [],
   "source": [
    "plt.figure(figsize=(12,8))\n",
    "plt.xlabel('time (s)', fontsize=20)\n",
    "plt.ylabel('Rotor frequency (Hz)', fontsize=20)\n",
    "plt.xticks(fontsize=18)\n",
    "plt.yticks(fontsize=18)\n",
    "\n",
    "for name in ['wr_gen']:\n",
    "    plt.plot(ts_dcim[name].time[begin_idx:end_idx], ts_dcim[name].values[begin_idx:end_idx]*60, label=name+' (DCIM)')\n",
    "    plt.plot(ts_vbr[name].time[begin_idx:end_idx], ts_vbr[name].values[begin_idx:end_idx]*60, label=name+' (VBR)', linestyle='--')\n",
    "\n",
    "plt.legend(fontsize=18)\n",
    "plt.show()"
   ]
  },
  {
   "cell_type": "markdown",
   "metadata": {},
   "source": [
    "## Rotor angular velocity $\\omega _r$"
   ]
  },
  {
   "cell_type": "code",
   "execution_count": null,
   "metadata": {},
   "outputs": [],
   "source": [
    "plt.figure(figsize=(12,8))\n",
    "plt.ylabel('Rotor angular velocity (rad/s)', fontsize=18)\n",
    "\n",
    "\n",
    "for name in ['wr_gen']:\n",
    "    plt.plot(ts_dcim[name].time[begin_idx:end_idx], 2*math.pi*60*ts_dcim[name].values[begin_idx:end_idx], label=name+' (DCIM)')\n",
    "    plt.plot(ts_vbr[name].time[begin_idx:end_idx], 2*math.pi*60*ts_vbr[name].values[begin_idx:end_idx], label=name+' (VBR)', linestyle='--')\n",
    "\n",
    "plt.legend()\n",
    "plt.show()"
   ]
  },
  {
   "cell_type": "markdown",
   "metadata": {},
   "source": [
    "## Rotor angle $\\delta _r$"
   ]
  },
  {
   "cell_type": "code",
   "execution_count": null,
   "metadata": {},
   "outputs": [],
   "source": [
    "plt.figure(figsize=(12,8))\n",
    "for name in ['delta_r']:\n",
    "    plt.plot(ts_dcim[name].time[begin_idx:end_idx], ts_dcim[name].values[begin_idx:end_idx]*180/3.14, label=name+' (DCIM)')\n",
    "    plt.plot(ts_vbr[name].time[begin_idx:end_idx], ts_vbr[name].values[begin_idx:end_idx]*180/3.14, label=name+' (VBR)', linestyle='--')\n",
    "plt.legend()\n",
    "plt.show()"
   ]
  },
  {
   "cell_type": "markdown",
   "metadata": {},
   "source": [
    "## Machine Torques"
   ]
  },
  {
   "cell_type": "code",
   "execution_count": null,
   "metadata": {},
   "outputs": [],
   "source": [
    "plt.figure(figsize=(12,8))\n",
    "for name in ['T_e']:\n",
    "    plt.plot(ts_dcim[name].time[begin_idx:end_idx], ts_dcim[name].values[begin_idx:end_idx], label=name+' (DCIM)')\n",
    "    plt.plot(ts_vbr[name].time[begin_idx:end_idx], -ts_vbr[name].values[begin_idx:end_idx], label=name+' (VBR)', linestyle='--')\n",
    "for name in ['T_m']:\n",
    "    plt.plot(ts_dcim[name].time[begin_idx:end_idx], ts_dcim[name].values[begin_idx:end_idx], label=name+' (DCIM)')\n",
    "    plt.plot(ts_vbr[name].time[begin_idx:end_idx], -ts_vbr[name].values[begin_idx:end_idx], label=name+' (VBR)', linestyle='--')\n",
    "plt.legend()\n",
    "plt.show()"
   ]
  },
  {
   "cell_type": "markdown",
   "metadata": {},
   "source": [
    "## Assertion"
   ]
  },
  {
   "cell_type": "code",
   "execution_count": null,
   "metadata": {},
   "outputs": [],
   "source": [
    "diff = {}\n",
    "for name in ['v_gen_0', 'v_gen_1', 'v_gen_2']:\n",
    "    diff[name] = ts_dcim[name].rmse(ts_dcim[name], ts_vbr[name])/np.max(ts_dcim[name].values)\n",
    "    print(name + ': ' + str(diff[name]))\n",
    "    assert(diff[name]) < 1.86e-6\n",
    "for name in ['i_gen_0', 'i_gen_1', 'i_gen_2']:\n",
    "    diff[name] = ts_dcim[name].rmse(ts_dcim[name], ts_vbr[name])/np.max(ts_dcim[name].values)\n",
    "    print(name + ': ' + str(diff[name]))\n",
    "    assert(diff[name]) < 5e-4"
   ]
  }
 ],
 "metadata": {
  "kernelspec": {
   "display_name": "Python 3",
   "language": "python",
   "name": "python3"
  },
  "language_info": {
   "codemirror_mode": {
    "name": "ipython",
    "version": 3
   },
   "file_extension": ".py",
   "mimetype": "text/x-python",
   "name": "python",
   "nbconvert_exporter": "python",
   "pygments_lexer": "ipython3",
   "version": "3.9.13"
  },
  "tests": {
   "skip": false
  }
 },
 "nbformat": 4,
 "nbformat_minor": 4
}
