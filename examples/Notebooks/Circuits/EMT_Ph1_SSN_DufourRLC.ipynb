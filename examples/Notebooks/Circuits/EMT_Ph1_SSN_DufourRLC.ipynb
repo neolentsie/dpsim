{
 "cells": [
  {
   "attachments": {},
   "cell_type": "markdown",
   "metadata": {},
   "source": [
    "# Resistive Companion and State Space Nodal simulation approach using DPsim"
   ]
  },
  {
   "attachments": {},
   "cell_type": "markdown",
   "metadata": {},
   "source": [
    "## General Simulation Procedure"
   ]
  },
  {
   "attachments": {},
   "cell_type": "markdown",
   "metadata": {},
   "source": [
    "Using the MNA-based C++ solver [DPsim](https://www.fein-aachen.org/en/projects/dpsim/) for power system simulation with the dpsimpy module for python, the simulation is set up and carried out through the following steps:\n",
    "\n",
    "1)  Import modules\n",
    "2)  Define simulation parameters: name of the model, simulated time passed between two simulation steps, simulated time at which the simulation stops, time at which the switch closes through an event\n",
    "\n",
    "3)  Set up circuit nodes\n",
    "4)  Define circuit components and set their characteristic values\n",
    "5)  Assemble circuit: Connect components and nodes, set system parameters: frequency, node list, component list\n",
    "                        \n",
    "6)  Set up the event which causes the switch to close. A switch event takes a value for the simulated time at which the switch state change\n",
    "    will occur, the affected switch and if it should open(False) or close(True) when the event triggers\n",
    "\n",
    "7)  Create simulation instance, set parameters and start the simulation\n",
    "8)  Plot the results"
   ]
  },
  {
   "attachments": {},
   "cell_type": "markdown",
   "metadata": {},
   "source": [
    "### Resistive Companion approach: Sample circuit and MNA equations"
   ]
  },
  {
   "attachments": {},
   "cell_type": "markdown",
   "metadata": {},
   "source": [
    "<img src=\"/EMT_Ph1_SSN_DufourRLC_RC.png\" width=\"500\" align=\"left\">"
   ]
  },
  {
   "attachments": {},
   "cell_type": "markdown",
   "metadata": {},
   "source": [
    "$V_{vs,peak} = 500kV$, \\\n",
    "$l1 = 0.09803 H$, \\\n",
    "$r1 = 26.07 \\Omega$, $l2 = 0.04886 H$, \\\n",
    "$c1 = 0.000001 F$, \\\n",
    "$l\\_rlc = 0.01 H$, $c\\_rlc = 0.000001 F$, $r\\_rlc = 50 \\Omega$"
   ]
  },
  {
   "attachments": {},
   "cell_type": "markdown",
   "metadata": {},
   "source": [
    "Discretization of the defining component equations leads to the following equations which are stamped into the system matrix and vectors:\n",
    "\n",
    "Resistor MNA (nodal) equation: $I_G(t+\\Delta t) = G \\cdot U_G(t+\\Delta t)$ \\\n",
    "Inductor MNA (nodal) equation: $I(t + \\Delta t) = I_L(t) + \\frac{\\Delta t}{2L}V_L(t) + \\frac{\\Delta t}{2L}V_L(t+\\Delta t)$ \\\n",
    "Capacitor MNA (mesh) equation: $V_C(t + \\Delta t) = V_C(t) + \\frac{\\Delta t}{2C}I_C(t) + \\frac{\\Delta t}{2C}I_C(t+\\Delta t)$"
   ]
  },
  {
   "attachments": {},
   "cell_type": "markdown",
   "metadata": {},
   "source": [
    "### State Space Nodal approach: Sample circuit and MNA equations"
   ]
  },
  {
   "attachments": {},
   "cell_type": "markdown",
   "metadata": {},
   "source": [
    "<img src=\"/EMT_Ph1_SSN_DufourRLC_SSN.png\" width=\"500\" align=\"left\">"
   ]
  },
  {
   "attachments": {},
   "cell_type": "markdown",
   "metadata": {},
   "source": [
    "Additionally to the RC equations above (which are identical to the SSN equations for the basic components R, L and C), the subsystem of a resistor, a capacitor and an inductor which are connected in series to the right of the switch can be merged into one combined component using the SSN approach. The state equations of the subcircuit are:\n",
    "\n",
    "$\\overrightarrow{\\dot x} = \\begin{bmatrix}\n",
    "\\dot V_C \\\\\n",
    "\\dot I_{RLC}\n",
    "\\end{bmatrix} =\n",
    "\\begin{bmatrix}\n",
    "0 & \\frac{1}{C} \\\\\n",
    "-\\frac{1}{L} & -\\frac{R}{L} \n",
    "\\end{bmatrix}\n",
    "\\begin{bmatrix}\n",
    "V_C \\\\\n",
    "I_{RLC}\n",
    "\\end{bmatrix} +\n",
    "\\begin{bmatrix}\n",
    "0 \\\\\n",
    "\\frac{1}{L}\n",
    "\\end{bmatrix} \\cdot\n",
    "V_{RLC}$\n",
    "\n",
    "The lower equation describes the derivative of the current through all three components. After the discretization of both state equations it can be solved for the quantities $V_C(t+\\Delta t)$ and $I_{RLC}(t+\\Delta t)$ of the current time step. Inserting $V_C(t+\\Delta t)$ into the lower equation yields a term for $I_{RLC}(t+\\Delta t)$ which is only dependent on previous, known quantities $V_C(t)$, $I_{RLC}(t)$ and the previous voltage $V_{RLC}(t)$ across all three elements as well as $V_{RLC}(t+\\Delta t)$, the current voltage across all three elements.\n",
    "\n",
    "With this, the lower equation is a nodal equation which can be stamped into the system matrix and vectors. To do so, the voltage $V_{RLC}(t+\\Delta t)$ has to be identified as node voltages, in this case $V_{RLC}(t+\\Delta t) = V_4$. After solving the system for a time step, the state $V_C(t+\\Delta t)$ gets updated via the upper state equation. This way, $V_C(t+\\Delta t)$, which will be $V_C(t)$ in the next time step, can then be used in the lower equation as a known term again."
   ]
  },
  {
   "attachments": {},
   "cell_type": "markdown",
   "metadata": {},
   "source": [
    "$V_{vs,peak} = 500kV$, \\\n",
    "$l1 = 0.09803 H$, \\\n",
    "$r1 = 26.07 \\Omega$, $l2 = 0.04886 H$, \\\n",
    "$c1 = 0.000001 F$, \\\n",
    "$l_{rlc} = 0.01 H$, $c_{rlc} = 0.000001 F$, $r_{rlc} = 50 \\Omega$"
   ]
  },
  {
   "attachments": {},
   "cell_type": "markdown",
   "metadata": {},
   "source": [
    "### Simulation: Resistive Companion approach"
   ]
  },
  {
   "cell_type": "code",
   "execution_count": 4,
   "metadata": {},
   "outputs": [
    {
     "name": "stderr",
     "output_type": "stream",
     "text": [
      "[16:42:01.768273 EMT_Ph1_DufourRLC info] Initialize simulation: EMT_Ph1_DufourRLC\n",
      "[16:42:01.768498 MnaSolverFactory info] creating SparseLUAdapter solver implementation\n",
      "[16:42:01.770242 EMT_Ph1_DufourRLC info] Scheduling tasks.\n",
      "[16:42:01.770712 EMT_Ph1_DufourRLC info] Scheduling done.\n",
      "[16:42:01.770715 EMT_Ph1_DufourRLC info] Opening interfaces.\n",
      "[16:42:01.770717 EMT_Ph1_DufourRLC info] Start synchronization with remotes on interfaces\n",
      "[16:42:01.770719 EMT_Ph1_DufourRLC info] Synchronized simulation start with remotes\n",
      "[16:42:01.770721 EMT_Ph1_DufourRLC info] Start simulation: EMT_Ph1_DufourRLC\n",
      "[16:42:01.770725 EMT_Ph1_DufourRLC info] Time step: 1.000000e-04\n",
      "[16:42:01.770727 EMT_Ph1_DufourRLC info] Final time: 1.000000e-01\n",
      "[16:42:01.849697 EMT_Ph1_DufourRLC info] Simulation calculation time: 0.078955\n",
      "[16:42:01.849745 EMT_Ph1_DufourRLC info] Simulation finished.\n"
     ]
    },
    {
     "name": "stdout",
     "output_type": "stream",
     "text": [
      "5.000000e-02: Handle event time\n"
     ]
    }
   ],
   "source": [
    "import villas.dataprocessing.readtools as rt\n",
    "import matplotlib.pyplot as plt\n",
    "import sys\n",
    "sys.path.append(\"/home/mto/dpsim/build/\")\n",
    "import dpsimpy\n",
    "#%matplotlib widget\n",
    "\n",
    "\n",
    "#Simulation parameters\n",
    "model_name = \"EMT_Ph1_DufourRLC\"\n",
    "dpsimpy.Logger.set_log_dir('logs/' + model_name)\n",
    "\n",
    "time_step = 0.0001          #Passed simulated time between two simulation steps\n",
    "final_time = 0.1            #Simulation ends when simulated time reaches this value\n",
    "switch_close_time = 0.05    #Switch closes in the simulation step reaching or exceeding this value of simulated time\n",
    "\n",
    "\n",
    "# Nodes\n",
    "gnd = dpsimpy.emt.SimNode.gnd\n",
    "n1 = dpsimpy.emt.SimNode('n1', dpsimpy.PhaseType.Single)\n",
    "n2 = dpsimpy.emt.SimNode('n2', dpsimpy.PhaseType.Single)\n",
    "n3 = dpsimpy.emt.SimNode('n3', dpsimpy.PhaseType.Single)\n",
    "n4 = dpsimpy.emt.SimNode('n4', dpsimpy.PhaseType.Single)\n",
    "n5 = dpsimpy.emt.SimNode('n5', dpsimpy.PhaseType.Single)\n",
    "n6 = dpsimpy.emt.SimNode('n6', dpsimpy.PhaseType.Single)\n",
    "\n",
    "\n",
    "# Components (RC models)\n",
    "vs = dpsimpy.emt.ph1.VoltageSource('vs')\n",
    "vs.set_parameters(V_ref=complex(500000,0), f_src=60)\n",
    "\n",
    "l1 = dpsimpy.emt.ph1.Inductor('l1')\n",
    "l1.set_parameters(L = 0.09803)\n",
    "\n",
    "l2 = dpsimpy.emt.ph1.Inductor('l2')\n",
    "l2.set_parameters(L = 0.04886)\n",
    "\n",
    "r1 = dpsimpy.emt.ph1.Resistor('r1')\n",
    "r1.set_parameters(R = 26.07)\n",
    "\n",
    "c1 = dpsimpy.emt.ph1.Capacitor('c1')\n",
    "c1.set_parameters(C=0.000001)\n",
    "\n",
    "sw = dpsimpy.emt.ph1.Switch('sw')\n",
    "sw.set_parameters(1e9, 0.00001, False)\n",
    "sw.open()\n",
    "\n",
    "\n",
    "#RLC-components: For the RC approach, the RLC-circuit simply consists of a resistor, an inductor and a capacitor. \n",
    "#These individual components are RC models.     \n",
    "\n",
    "r_rlc = dpsimpy.emt.ph1.Resistor('r_rlc')\n",
    "r_rlc.set_parameters(R=50)\n",
    "l_rlc = dpsimpy.emt.ph1.Inductor('l_rlc')\n",
    "l_rlc.set_parameters(L=0.01)\n",
    "c_rlc = dpsimpy.emt.ph1.Capacitor('c_rlc')\n",
    "c_rlc.set_parameters(C=0.000001)\n",
    "\n",
    "\n",
    "# Assemble circuit\n",
    "vs.connect([gnd, n1])\n",
    "l1.connect([n2, n1])\n",
    "l2.connect([n3, n2])\n",
    "r1.connect([n3, n2])\n",
    "c1.connect([gnd, n3])\n",
    "sw.connect([n4, n3])\n",
    "l_rlc.connect([n5, n4])\n",
    "c_rlc.connect([n6, n5])\n",
    "r_rlc.connect([gnd, n6])\n",
    "\n",
    "system = dpsimpy.SystemTopology(60, [gnd, n1, n2, n3, n4, n5, n6], [vs, l1, l2, r1, c1, sw, r_rlc, l_rlc, c_rlc]) #Parameters are: (frequency=60Hz, system nodes, system components)\n",
    "\n",
    "\n",
    "#Logging\n",
    "logger = dpsimpy.Logger(model_name)\n",
    "logger.log_attribute('v3', 'v', n3)             #log voltage at node 3\n",
    "logger.log_attribute('i_rlc', 'i_intf', l_rlc)  #log current through RLC branch, inductor current arbitrarily chosen here (equal to resistor and capacitor current) \n",
    "logger.log_attribute('i_c1', 'i_intf', c1)      #log current through capacitor c1\n",
    "\n",
    "\n",
    "#Events\n",
    "sw_event = dpsimpy.event.SwitchEvent(switch_close_time, sw, True)   #Define event which changes the switch state\n",
    "                                                                    #Parameters: \n",
    "                                                                    #(Simulated time value for which the event activates, affected switch, open[False] or close[True] the switch)\n",
    "\n",
    "\n",
    "#Simulation\n",
    "sim = dpsimpy.Simulation(model_name, dpsimpy.LogLevel.debug)\n",
    "sim.set_system(system)\n",
    "sim.set_time_step(time_step)\n",
    "sim.set_final_time(final_time)\n",
    "sim.set_domain(dpsimpy.Domain.EMT)\n",
    "sim.set_direct_solver_implementation(dpsimpy.DirectLinearSolverImpl.SparseLU)\n",
    "sim.do_init_from_nodes_and_terminals(False)\n",
    "sim.add_logger(logger)\n",
    "sim.add_event(sw_event)\n",
    "sim.run()"
   ]
  },
  {
   "attachments": {},
   "cell_type": "markdown",
   "metadata": {},
   "source": [
    "### Read and plot results of the full RC simulation approach"
   ]
  },
  {
   "cell_type": "code",
   "execution_count": 5,
   "metadata": {
    "tags": []
   },
   "outputs": [
    {
     "name": "stdout",
     "output_type": "stream",
     "text": [
      "logs/EMT_Ph1_DufourRLC/EMT_Ph1_DufourRLC.csv\n",
      "column number: 3\n",
      "results length: 1000\n",
      "real column names: ['i_c1', 'i_rlc', 'v3']\n",
      "complex column names: []\n"
     ]
    },
    {
     "data": {
      "text/plain": [
       "<matplotlib.legend.Legend at 0x7fc9d25dbe20>"
      ]
     },
     "execution_count": 5,
     "metadata": {},
     "output_type": "execute_result"
    },
    {
     "data": {
      "image/png": "[encoded data removed]",
      "text/plain": [
       "<Figure size 432x288 with 1 Axes>"
      ]
     },
     "metadata": {
      "needs_background": "light"
     },
     "output_type": "display_data"
    },
    {
     "data": {
      "image/png": "[encoded data removed]",
      "text/plain": [
       "<Figure size 432x288 with 1 Axes>"
      ]
     },
     "metadata": {
      "needs_background": "light"
     },
     "output_type": "display_data"
    },
    {
     "data": {
      "image/png": "[encoded data removed]",
      "text/plain": [
       "<Figure size 432x288 with 1 Axes>"
      ]
     },
     "metadata": {
      "needs_background": "light"
     },
     "output_type": "display_data"
    }
   ],
   "source": [
    "#Read Results\n",
    "work_dir = 'logs/EMT_Ph1_DufourRLC/'\n",
    "log_name = 'EMT_Ph1_DufourRLC'\n",
    "print(work_dir + log_name + '.csv')\n",
    "ts_emt_ph1_dufour_rlc = rt.read_timeseries_dpsim(work_dir + log_name + '.csv')\n",
    "\n",
    "#Plot Results\n",
    "plt.close('all')\n",
    "fig1 = plt.figure()\n",
    "plt.plot(ts_emt_ph1_dufour_rlc['v3'].time, ts_emt_ph1_dufour_rlc['v3'].values, \"b-\", label='V_3')\n",
    "plt.title('Voltage Node 3')\n",
    "plt.xlabel('t [s]')\n",
    "plt.ylabel('Voltage [V]')\n",
    "plt.legend(loc = 4)\n",
    "\n",
    "fig2 = plt.figure()\n",
    "plt.plot(ts_emt_ph1_dufour_rlc['i_c1'].time, ts_emt_ph1_dufour_rlc['i_c1'].values, \"g-\", label='I_C1')\n",
    "plt.title('Capacitor current')\n",
    "plt.xlabel('t [s]')\n",
    "plt.ylabel('Current [A]')\n",
    "plt.legend(loc = 4)\n",
    "\n",
    "fig3 = plt.figure()\n",
    "plt.plot(ts_emt_ph1_dufour_rlc['i_rlc'].time, ts_emt_ph1_dufour_rlc['i_rlc'].values, \"r-\", label='I_RLC')\n",
    "plt.title('RLC current')\n",
    "plt.xlabel('t [s]')\n",
    "plt.ylabel('Current [A]')\n",
    "plt.legend(loc = 4)"
   ]
  },
  {
   "attachments": {},
   "cell_type": "markdown",
   "metadata": {},
   "source": [
    "### Simulation: State Space Nodal approach"
   ]
  },
  {
   "cell_type": "code",
   "execution_count": 6,
   "metadata": {},
   "outputs": [
    {
     "ename": "AttributeError",
     "evalue": "'dpsimpy.Simulation' object has no attribute 'set_mna_solver_implementation'",
     "output_type": "error",
     "traceback": [
      "\u001b[0;31m---------------------------------------------------------------------------\u001b[0m",
      "\u001b[0;31mAttributeError\u001b[0m                            Traceback (most recent call last)",
      "Input \u001b[0;32mIn [6]\u001b[0m, in \u001b[0;36m<module>\u001b[0;34m\u001b[0m\n\u001b[1;32m     75\u001b[0m sim\u001b[38;5;241m.\u001b[39mset_final_time(final_time)\n\u001b[1;32m     76\u001b[0m sim\u001b[38;5;241m.\u001b[39mset_domain(dpsimpy\u001b[38;5;241m.\u001b[39mDomain\u001b[38;5;241m.\u001b[39mEMT)\n\u001b[0;32m---> 77\u001b[0m \u001b[43msim\u001b[49m\u001b[38;5;241;43m.\u001b[39;49m\u001b[43mset_mna_solver_implementation\u001b[49m(dpsimpy\u001b[38;5;241m.\u001b[39mMnaSolverImpl\u001b[38;5;241m.\u001b[39mEigenSparse)\n\u001b[1;32m     78\u001b[0m sim\u001b[38;5;241m.\u001b[39mdo_init_from_nodes_and_terminals(\u001b[38;5;28;01mFalse\u001b[39;00m)\n\u001b[1;32m     79\u001b[0m sim\u001b[38;5;241m.\u001b[39madd_logger(loggerSSN)\n",
      "\u001b[0;31mAttributeError\u001b[0m: 'dpsimpy.Simulation' object has no attribute 'set_mna_solver_implementation'"
     ]
    }
   ],
   "source": [
    "#Simulation parameters\n",
    "model_name_SSN = \"EMT_Ph1_DufourRLC_SSN\"\n",
    "dpsimpy.Logger.set_log_dir('logs/' + model_name_SSN)\n",
    "\n",
    "time_step = 0.0001          #Passed simulated time between two simulation steps\n",
    "final_time = 0.1            #Simulation ends when simulated time reaches this value\n",
    "switch_close_time = 0.05    #Switch closes in the simulation step reaching or exceeding this value of simulated time\n",
    "\n",
    "\n",
    "# Nodes\n",
    "gnd = dpsimpy.emt.SimNode.gnd\n",
    "n1 = dpsimpy.emt.SimNode('n1', dpsimpy.PhaseType.Single)\n",
    "n2 = dpsimpy.emt.SimNode('n2', dpsimpy.PhaseType.Single)\n",
    "n3 = dpsimpy.emt.SimNode('n3', dpsimpy.PhaseType.Single)\n",
    "n4 = dpsimpy.emt.SimNode('n4', dpsimpy.PhaseType.Single)\n",
    "\n",
    "\n",
    "# Components (RC models)\n",
    "vs = dpsimpy.emt.ph1.VoltageSource('vs')\n",
    "vs.set_parameters(V_ref=complex(500000,0), f_src=60)\n",
    "\n",
    "l1 = dpsimpy.emt.ph1.Inductor('l1')\n",
    "l1.set_parameters(L = 0.09803)\n",
    "\n",
    "l2 = dpsimpy.emt.ph1.Inductor('l2')\n",
    "l2.set_parameters(L = 0.04886)\n",
    "\n",
    "r1 = dpsimpy.emt.ph1.Resistor('r1')\n",
    "r1.set_parameters(R = 26.07)\n",
    "\n",
    "c1 = dpsimpy.emt.ph1.Capacitor('c1')\n",
    "c1.set_parameters(C=0.000001)\n",
    "\n",
    "sw = dpsimpy.emt.ph1.Switch('sw')\n",
    "sw.set_parameters(1e9, 0.001, False)\n",
    "sw.open()\n",
    "\n",
    "\n",
    "#RLC components: In the SSN approach, more complex circuits are combined into a single component. \n",
    "#Instead of a resistor, an inductor and a capacitor a single SSN RLC element is used.\n",
    "\n",
    "rlc = dpsimpy.emt.ph1.Full_Serial_RLC('rlc')\n",
    "rlc.set_parameters(R=50, L=0.01, C=0.000001)\n",
    "\n",
    "\n",
    "# Assemble circuit\n",
    "vs.connect([gnd, n1])\n",
    "l1.connect([n2, n1])\n",
    "l2.connect([n3, n2])\n",
    "r1.connect([n3, n2])\n",
    "c1.connect([gnd, n3])\n",
    "sw.connect([n4, n3])\n",
    "rlc.connect([gnd, n4])\n",
    "\n",
    "system = dpsimpy.SystemTopology(60, [gnd, n1, n2, n3, n4], [vs, l1, l2, r1, c1, sw, rlc])   #Parameters are: (frequency=60Hz, system nodes, system components)\n",
    "\n",
    "\n",
    "#Logging\n",
    "loggerSSN = dpsimpy.Logger(model_name_SSN)\n",
    "loggerSSN.log_attribute('v3', 'v', n3)          #log voltage at node 3\n",
    "loggerSSN.log_attribute('i_rlc', 'i_intf', rlc) #log current through RLC branch, inductor current arbitrarily chosen here (equal to resistor and capacitor current) \n",
    "loggerSSN.log_attribute('i_c1', 'i_intf', c1)   #log current through capacitor c1\n",
    "\n",
    "\n",
    "#Events\n",
    "sw_event = dpsimpy.event.SwitchEvent(switch_close_time, sw, True)   #Define event which changes the switch state\n",
    "                                                                    #Parameters: \n",
    "                                                                    #(Simulated time value for which the event activates, affected switch, open[False] or close[True] the switch)\n",
    "\n",
    "\n",
    "#Simulation\n",
    "sim = dpsimpy.Simulation(model_name_SSN, dpsimpy.LogLevel.debug)\n",
    "sim.set_system(system)\n",
    "sim.set_time_step(time_step)\n",
    "sim.set_final_time(final_time)\n",
    "sim.set_domain(dpsimpy.Domain.EMT)\n",
    "sim.set_direct_solver_implementation(dpsimpy.DirectLinearSolverImpl.SparseLU)\n",
    "sim.do_init_from_nodes_and_terminals(False)\n",
    "sim.add_logger(loggerSSN)\n",
    "sim.add_event(sw_event)\n",
    "sim.run()"
   ]
  },
  {
   "attachments": {},
   "cell_type": "markdown",
   "metadata": {},
   "source": [
    "### Read results and compare plots of full RC and SSN simulation approaches"
   ]
  },
  {
   "cell_type": "code",
   "execution_count": null,
   "metadata": {},
   "outputs": [],
   "source": [
    "#Read Results\n",
    "work_dir_SSN = 'logs/EMT_Ph1_DufourRLC_SSN/'\n",
    "log_name_SSN = 'EMT_Ph1_DufourRLC_SSN'\n",
    "print(work_dir_SSN + log_name_SSN + '.csv')\n",
    "ts_emt_ph1_dufour_rlc_ssn = rt.read_timeseries_dpsim(work_dir_SSN + log_name_SSN + '.csv')\n",
    "\n",
    "#Plot Results\n",
    "fig3 = plt.figure()\n",
    "plt.plot(ts_emt_ph1_dufour_rlc['v3'].time, ts_emt_ph1_dufour_rlc['v3'].values, \"b-\", label='V_3')\n",
    "plt.plot(ts_emt_ph1_dufour_rlc_ssn['v3'].time, ts_emt_ph1_dufour_rlc_ssn['v3'].values, \"c--\", label='V_3_SSN')\n",
    "plt.title('Voltages Node 3')\n",
    "plt.xlabel('t [s]')\n",
    "plt.ylabel('Voltages [V]')\n",
    "plt.legend(loc = 4)\n",
    "\n",
    "fig4 = plt.figure()\n",
    "plt.plot(ts_emt_ph1_dufour_rlc['i_c1'].time, ts_emt_ph1_dufour_rlc['i_c1'].values, \"m-\", label='I_C1')\n",
    "plt.plot(ts_emt_ph1_dufour_rlc_ssn['i_c1'].time, ts_emt_ph1_dufour_rlc_ssn['i_c1'].values, \"y--\", label='I_C1_SSN')\n",
    "plt.title('Capacitor currents')\n",
    "plt.xlabel('t [s]')\n",
    "plt.ylabel('Currents [A]')\n",
    "plt.legend(loc = 4)\n",
    "\n",
    "fig4 = plt.figure()\n",
    "plt.plot(ts_emt_ph1_dufour_rlc['i_rlc'].time, ts_emt_ph1_dufour_rlc['i_rlc'].values, \"m-\", label='I_RLC')\n",
    "plt.plot(ts_emt_ph1_dufour_rlc_ssn['i_rlc'].time, ts_emt_ph1_dufour_rlc_ssn['i_rlc'].values, \"y--\", label='I_RLC_SSN')\n",
    "plt.title('RLC currents')\n",
    "plt.xlabel('t [s]')\n",
    "plt.ylabel('Currents [A]')\n",
    "plt.legend(loc = 4)\n",
    "\n"
   ]
  },
  {
   "cell_type": "code",
   "execution_count": null,
   "metadata": {},
   "outputs": [],
   "source": []
  }
 ],
 "metadata": {
  "kernelspec": {
   "display_name": "Python 3 (ipykernel)",
   "language": "python",
   "name": "python3"
  },
  "language_info": {
   "codemirror_mode": {
    "name": "ipython",
    "version": 3
   },
   "file_extension": ".py",
   "mimetype": "text/x-python",
   "name": "python",
   "nbconvert_exporter": "python",
   "pygments_lexer": "ipython3",
   "version": "3.9.13"
  }
 },
 "nbformat": 4,
 "nbformat_minor": 4
}
