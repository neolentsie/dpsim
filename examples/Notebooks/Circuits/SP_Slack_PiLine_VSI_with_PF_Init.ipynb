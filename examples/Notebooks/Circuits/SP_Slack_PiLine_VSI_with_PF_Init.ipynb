{
 "cells": [
  {
   "cell_type": "markdown",
   "metadata": {},
   "source": [
    "# SP Simulation of topology with slack, line and VSI"
   ]
  },
  {
   "cell_type": "code",
   "execution_count": null,
   "metadata": {},
   "outputs": [],
   "source": [
    "from villas.dataprocessing.readtools import *\n",
    "from villas.dataprocessing.timeseries import *\n",
    "import matplotlib.pyplot as plt\n",
    "import re\n",
    "import dpsimpy\n",
    "\n",
    "# %matplotlib widget"
   ]
  },
  {
   "cell_type": "markdown",
   "metadata": {},
   "source": [
    "## SP Simulation"
   ]
  },
  {
   "cell_type": "markdown",
   "metadata": {},
   "source": [
    "### Parameterization"
   ]
  },
  {
   "cell_type": "code",
   "execution_count": null,
   "metadata": {},
   "outputs": [],
   "source": [
    "final_time = 4.0\n",
    "time_step = 1e-3\n",
    "sim_name = \"SP_Slack_PiLine_VSI_with_PF_Init\"\n",
    "pv_with_control = True\n",
    "cmd_scale_P = 1.0\n",
    "cmd_scale_I = 1.0\n",
    "V_nom = 20e3"
   ]
  },
  {
   "cell_type": "markdown",
   "metadata": {},
   "source": [
    "### Powerflow for Initialization"
   ]
  },
  {
   "cell_type": "code",
   "execution_count": null,
   "metadata": {},
   "outputs": [],
   "source": [
    "time_step_pf = final_time\n",
    "final_time_pf = final_time\n",
    "sim_name_pf = sim_name + \"_PF\"\n",
    "dpsimpy.Logger.set_log_dir('logs/' + sim_name_pf)\n",
    "\n",
    "# Components\n",
    "n1_pf = dpsimpy.sp.SimNode('n1', dpsimpy.PhaseType.Single)\n",
    "n2_pf = dpsimpy.sp.SimNode('n2', dpsimpy.PhaseType.Single)\n",
    "\n",
    "extnet_pf = dpsimpy.sp.ph1.NetworkInjection('Slack', dpsimpy.LogLevel.debug)\n",
    "extnet_pf.set_parameters(voltage_set_point=V_nom)\n",
    "extnet_pf.set_base_voltage(V_nom)\n",
    "extnet_pf.modify_power_flow_bus_type(dpsimpy.PowerflowBusType.VD)\n",
    "\n",
    "line_pf = dpsimpy.sp.ph1.PiLine('PiLine', dpsimpy.LogLevel.debug)\n",
    "line_pf.set_parameters(R=0.5*5, L=0.5/314*5, C=50e-6/314*5)\n",
    "line_pf.set_base_voltage(V_nom)\n",
    "\n",
    "load_pf = dpsimpy.sp.ph1.Load('Load', dpsimpy.LogLevel.debug)\n",
    "load_pf.set_parameters(active_power=-100e3, reactive_power=-50e3, nominal_voltage=20e3)\n",
    "load_pf.modify_power_flow_bus_type(dpsimpy.PowerflowBusType.PQ)\n",
    "\n",
    "# Topology\n",
    "extnet_pf.connect([n1_pf])\n",
    "line_pf.connect([n1_pf, n2_pf])\n",
    "load_pf.connect([n2_pf])\n",
    "system_pf = dpsimpy.SystemTopology(50, [n1_pf, n2_pf], [extnet_pf, line_pf, load_pf])\n",
    "\n",
    "# Logging\n",
    "logger_pf = dpsimpy.Logger(sim_name_pf)\n",
    "logger_pf.log_attribute('v1', 'v', n1_pf)\n",
    "logger_pf.log_attribute('v2', 'v', n2_pf)\n",
    "\n",
    "# Simulation\n",
    "sim_pf = dpsimpy.Simulation(sim_name_pf, dpsimpy.LogLevel.debug)\n",
    "sim_pf.set_system(system_pf)\n",
    "sim_pf.set_time_step(time_step_pf)\n",
    "sim_pf.set_final_time(final_time_pf)\n",
    "sim_pf.set_domain(dpsimpy.Domain.SP)\n",
    "sim_pf.set_solver(dpsimpy.Solver.NRP)\n",
    "sim_pf.do_init_from_nodes_and_terminals(False)\n",
    "sim_pf.add_logger(logger_pf)\n",
    "sim_pf.run()"
   ]
  },
  {
   "cell_type": "markdown",
   "metadata": {},
   "source": [
    "### Dynamic Simulation"
   ]
  },
  {
   "cell_type": "code",
   "execution_count": null,
   "metadata": {},
   "outputs": [],
   "source": [
    "time_step_sp = time_step\n",
    "final_time_sp = final_time + time_step_sp\n",
    "sim_name_sp = sim_name + \"_SP\"\n",
    "dpsimpy.Logger.set_log_dir('logs/' + sim_name_sp)\n",
    "\n",
    "# Components\n",
    "gnd = dpsimpy.sp.SimNode.gnd\n",
    "n1_sp = dpsimpy.sp.SimNode('n1', dpsimpy.PhaseType.Single)\n",
    "n2_sp = dpsimpy.sp.SimNode('n2', dpsimpy.PhaseType.Single)\n",
    "\n",
    "extnet_sp = dpsimpy.sp.ph1.NetworkInjection('Slack', dpsimpy.LogLevel.debug)\n",
    "extnet_sp.set_parameters(complex(V_nom, 0))\n",
    "\n",
    "line_sp = dpsimpy.sp.ph1.PiLine('PiLine', dpsimpy.LogLevel.debug)\n",
    "line_sp.set_parameters(R=0.5*5, L=(0.5/314)*5, C=(50e-6/314)*5)\n",
    "\n",
    "pv = dpsimpy.sp.ph1.AvVoltageSourceInverterDQ(\"pv\", \"pv\", dpsimpy.LogLevel.debug, with_trafo=True)\n",
    "pv.set_parameters(sys_omega=2 * np.pi * 50, sys_volt_nom=V_nom, p_ref=100e3, q_ref=50e3)\n",
    "pv.set_controller_parameters(Kp_pll=cmd_scale_P * 0.25, Ki_pll=cmd_scale_I * 0.2,\n",
    "                             Kp_power_ctrl=cmd_scale_P *0.001, Ki_power_ctrl=cmd_scale_I * 0.008 ,\n",
    "                             Kp_curr_ctrl=cmd_scale_P * 0.3, Ki_curr_ctrl=cmd_scale_I * 1, omega_cutoff=2*np.pi*50)\n",
    "pv.set_filter_parameters(Lf=0.002,Cf=789.3e-6,Rf=0.1,Rc=0.1)\n",
    "pv.set_transformer_parameters(nom_voltage_end_1=V_nom, nom_voltage_end_2=1500, rated_power = 5e6,\n",
    "                              ratio_abs=V_nom / 1500, ratio_phase=0,resistance=0, inductance=0.928e-3)\n",
    "pv.set_initial_state_values(p_init=100e3, q_init=50e3, phi_d_init=0, phi_q_init=0, gamma_d_init=0, gamma_q_init=0)\n",
    "pv.with_control(pv_with_control)\n",
    "\n",
    "# Topology\n",
    "extnet_sp.connect([n1_sp])\n",
    "line_sp.connect([n1_sp, n2_sp])\n",
    "pv.connect([n2_sp])\n",
    "system_sp = dpsimpy.SystemTopology(50, [n1_sp, n2_sp], [extnet_sp, line_sp, pv])\n",
    "\n",
    "# Initialization of dynamic topology\n",
    "system_sp.init_with_powerflow(system_pf)\n",
    "\n",
    "# Logging\n",
    "logger_sp = dpsimpy.Logger(sim_name_sp)\n",
    "logger_sp.log_attribute('v1', 'v', n1_sp)\n",
    "logger_sp.log_attribute('v2', 'v', n2_sp)\n",
    "logger_sp.log_attribute('i12', 'i_intf', line_sp)\n",
    "\n",
    "\n",
    "input_names = [\n",
    "    \"pv_powerctrl_input_pref\", \"pv_powerctrl_input_qref\", \"pv_powerctrl_input_vcd\",\n",
    "    \"pv_powerctrl_input_vcq\", \"pv_powerctrl_input_ircd\", \"pv_powerctrl_input_ircq\"\n",
    "]\n",
    "logger_sp.log_attribute(input_names, 'powerctrl_inputs', pv)\n",
    "\n",
    "state_names = [\n",
    "    \"pv_powerctrl_state_p\", \"pv_powerctrl_state_q\", \"pv_powerctrl_state_phid\",\n",
    "    \"pv_powerctrl_state_phiq\", \"pv_powerctrl_state_gammad\", \"pv_powerctrl_state_gammaq\"\n",
    "]\n",
    "logger_sp.log_attribute(state_names, 'powerctrl_states', pv)\n",
    "\n",
    "output_names = [\n",
    "    \"pv_powerctrl_output_vsd\", \"pv_powerctrl_output_vsq\"\n",
    "]\n",
    "\n",
    "logger_sp.log_attribute(output_names, 'powerctrl_outputs', pv)\n",
    "\n",
    "logger_sp.log_attribute('pv_v_intf', 'v_intf', pv)\n",
    "logger_sp.log_attribute('pv_i_intf', 'i_intf', pv)\n",
    "logger_sp.log_attribute('pv_pll_output', 'pll_output', pv)\n",
    "logger_sp.log_attribute('pv_vsref', 'Vsref', pv)\n",
    "logger_sp.log_attribute('pv_vs', 'Vs', pv)\n",
    "\n",
    "# load step sized in absolute terms\n",
    "load_switch = dpsimpy.sp.ph1.Switch(\"Load_Add_Switch_n2\", dpsimpy.LogLevel.debug)\n",
    "connection_node = system_sp.node('n2')\n",
    "resistance = np.abs(connection_node.initial_single_voltage())**2 / 10e6\n",
    "load_switch.set_parameters(1e9, resistance)\n",
    "load_switch.open()\n",
    "system_sp.add(load_switch)\n",
    "system_sp.connect_component(load_switch, [gnd, system_sp.node('n2')])\n",
    "logger_sp.log_attribute('switchedload_i', 'i_intf', load_switch)\n",
    "load_step_event = dpsimpy.event.SwitchEvent(np.round(5.0/time_step)*time_step, load_switch, True)\n",
    "\n",
    "# Simulation\n",
    "sim_sp = dpsimpy.Simulation(sim_name_sp, dpsimpy.LogLevel.debug)\n",
    "sim_sp.set_system(system_sp)\n",
    "sim_sp.set_time_step(time_step_sp)\n",
    "sim_sp.set_final_time(final_time_sp)\n",
    "sim_sp.set_domain(dpsimpy.Domain.SP)\n",
    "sim_sp.add_event(load_step_event)\n",
    "sim_sp.add_logger(logger_sp)\n",
    "sim_sp.run()"
   ]
  },
  {
   "cell_type": "markdown",
   "metadata": {},
   "source": [
    "## PF results"
   ]
  },
  {
   "cell_type": "code",
   "execution_count": null,
   "metadata": {},
   "outputs": [],
   "source": [
    "modelName = 'SP_Slack_PiLine_VSI_with_PF_Init_PF'\n",
    "path = 'logs/' + modelName + '/'\n",
    "dpsim_result_file = path + modelName + '.csv'\n",
    "\n",
    "ts_dpsim_pf = read_timeseries_csv(dpsim_result_file)"
   ]
  },
  {
   "cell_type": "markdown",
   "metadata": {},
   "source": [
    "## SP results"
   ]
  },
  {
   "cell_type": "code",
   "execution_count": null,
   "metadata": {},
   "outputs": [],
   "source": [
    "modelName = 'SP_Slack_PiLine_VSI_with_PF_Init_SP'\n",
    "path = 'logs/' + modelName + '/'\n",
    "dpsim_result_file = path + modelName + '.csv'\n",
    "\n",
    "ts_dpsim = read_timeseries_csv(dpsim_result_file)"
   ]
  },
  {
   "cell_type": "code",
   "execution_count": null,
   "metadata": {},
   "outputs": [],
   "source": [
    "plt.figure(figsize=(12,6))\n",
    "for ts_name, ts_obj  in ts_dpsim.items():\n",
    "    if ts_name == 'v1' or ts_name == 'v2':\n",
    "        plt.plot(ts_obj.time, ts_obj.abs().values, label=ts_name)\n",
    "for ts_name, ts_obj  in ts_dpsim_pf.items():\n",
    "    if ts_name == 'v1' or ts_name == 'v2':\n",
    "        plt.plot(ts_obj.time, ts_obj.abs().values, label=ts_name+'_pf', linestyle=':')\n",
    "plt.legend()\n",
    "plt.show()"
   ]
  }
 ],
 "metadata": {
  "kernelspec": {
   "display_name": "Python 3",
   "name": "python3"
  },
  "language_info": {
   "codemirror_mode": {
    "name": "ipython",
    "version": 3
   },
   "file_extension": ".py",
   "mimetype": "text/x-python",
   "name": "python",
   "nbconvert_exporter": "python",
   "pygments_lexer": "ipython3",
   "version": "3.9.13"
  },
  "orig_nbformat": 3
 },
 "nbformat": 4,
 "nbformat_minor": 4
}
