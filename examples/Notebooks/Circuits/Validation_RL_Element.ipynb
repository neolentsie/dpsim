{
 "cells": [
  {
   "attachments": {},
   "cell_type": "markdown",
   "metadata": {},
   "source": [
    "## Validation RL-Element"
   ]
  },
  {
   "attachments": {},
   "cell_type": "markdown",
   "metadata": {},
   "source": [
    "### Import dpsimpy "
   ]
  },
  {
   "cell_type": "code",
   "execution_count": null,
   "metadata": {},
   "outputs": [],
   "source": [
    "import dpsimpy"
   ]
  },
  {
   "attachments": {},
   "cell_type": "markdown",
   "metadata": {},
   "source": [
    "### Parameters"
   ]
  },
  {
   "cell_type": "code",
   "execution_count": null,
   "metadata": {},
   "outputs": [],
   "source": [
    "resistance = 10\n",
    "inductance = 1e-3\n",
    "capacitance = 5e-6"
   ]
  },
  {
   "attachments": {},
   "cell_type": "markdown",
   "metadata": {},
   "source": [
    "### Powerflow for Initialization"
   ]
  },
  {
   "cell_type": "code",
   "execution_count": null,
   "metadata": {},
   "outputs": [],
   "source": [
    "sim_name_pf = 'VS_RLC1_PF'\n",
    "dpsimpy.Logger.set_log_dir(\"logs/\" + sim_name_pf)\n",
    "\n",
    "# Nodes\n",
    "gnd_pf = dpsimpy.sp.SimNode.gnd\n",
    "n1_pf  = dpsimpy.sp.SimNode('n1_pf')\n",
    "n2_pf  = dpsimpy.sp.SimNode('n2_pf')\n",
    "n3_pf  = dpsimpy.sp.SimNode('n3_pf')\n",
    "\n",
    "# Components\n",
    "vs_pf = dpsimpy.sp.ph1.VoltageSource('vs_pf', dpsimpy.LogLevel.debug)\n",
    "vs_pf.set_parameters(V_ref=complex(10,0), f_src=50)\n",
    "r1_pf = dpsimpy.sp.ph1.Resistor('r1_pf', dpsimpy.LogLevel.debug)\n",
    "r1_pf.set_parameters(R=resistance)\n",
    "c1_pf = dpsimpy.sp.ph1.Capacitor('c1_pf', dpsimpy.LogLevel.debug)\n",
    "c1_pf.set_parameters(C=capacitance)\n",
    "l1_pf = dpsimpy.sp.ph1.Inductor('l1_pf', dpsimpy.LogLevel.debug)\n",
    "l1_pf.set_parameters(L=inductance)\n",
    "\n",
    "# Connections\n",
    "vs_pf.connect([gnd_pf, n1_pf])\n",
    "r1_pf.connect([n2_pf, n1_pf])\n",
    "l1_pf.connect([n3_pf, n2_pf])\n",
    "c1_pf.connect([gnd_pf, n3_pf])\n",
    "\n",
    "# Define system topology\n",
    "system_pf = dpsimpy.SystemTopology(50, [n1_pf, n2_pf, n3_pf], [vs_pf, r1_pf, l1_pf, c1_pf])\n",
    "\n",
    "# Logging\n",
    "logger_pf = dpsimpy.Logger(sim_name_pf)\n",
    "logger_pf.log_attribute('n1.v', 'v', n1_pf)\n",
    "logger_pf.log_attribute('n2.v', 'v', n2_pf)\n",
    "logger_pf.log_attribute('n3.v', 'v', n3_pf)\n",
    "logger_pf.log_attribute('r1.i_intf', 'i_intf', r1_pf)\n",
    "logger_pf.log_attribute('l1.i_intf', 'i_intf', l1_pf)\n",
    "\n",
    "sim_pf = dpsimpy.Simulation(sim_name_pf, dpsimpy.LogLevel.debug)\n",
    "sim_pf.set_system(system_pf)\n",
    "sim_pf.set_domain(dpsimpy.Domain.SP)\n",
    "sim_pf.set_time_step(0.1)\n",
    "sim_pf.set_final_time(0.5)\n",
    "sim_pf.add_logger(logger_pf)\n",
    "sim_pf.run()"
   ]
  },
  {
   "cell_type": "code",
   "execution_count": null,
   "metadata": {},
   "outputs": [],
   "source": [
    "print(sim_pf.get_idobj_attr(n1_pf.name(), 'v').get()[0])\n",
    "print(sim_pf.get_idobj_attr(n2_pf.name(), 'v').get()[0][0])\n",
    "print(sim_pf.get_idobj_attr(n3_pf.name(), 'v').get()[0][0])"
   ]
  },
  {
   "attachments": {},
   "cell_type": "markdown",
   "metadata": {},
   "source": [
    "### DPsim DP - RLC circuit"
   ]
  },
  {
   "cell_type": "code",
   "execution_count": null,
   "metadata": {},
   "outputs": [],
   "source": [
    "name = 'DP_VS_RLC'\n",
    "dpsimpy.Logger.set_log_dir(\"logs/\" + name)\n",
    "\n",
    "# Nodes\n",
    "gnd = dpsimpy.dp.SimNode.gnd\n",
    "n1 = dpsimpy.dp.SimNode('n1')\n",
    "n1.set_initial_voltage(sim_pf.get_idobj_attr(n1_pf.name(), 'v').get()[0])\n",
    "n2 = dpsimpy.dp.SimNode('n2')\n",
    "n2.set_initial_voltage(sim_pf.get_idobj_attr(n2_pf.name(), 'v').get()[0])\n",
    "n3 = dpsimpy.dp.SimNode('n3')\n",
    "n3.set_initial_voltage(sim_pf.get_idobj_attr(n3_pf.name(), 'v').get()[0])\n",
    "\n",
    "# Components\n",
    "vs = dpsimpy.dp.ph1.VoltageSource('vs')\n",
    "vs.set_parameters(V_ref=complex(10,0), f_src=50)\n",
    "r1 = dpsimpy.dp.ph1.Resistor('r_1', dpsimpy.LogLevel.debug)\n",
    "r1.R = resistance\n",
    "l1 = dpsimpy.dp.ph1.Inductor('l_1', dpsimpy.LogLevel.debug)\n",
    "l1.L = inductance\n",
    "c1 = dpsimpy.dp.ph1.Capacitor('c1', dpsimpy.LogLevel.debug)\n",
    "c1.set_parameters(C=capacitance)\n",
    "\n",
    "# Connections\n",
    "vs.connect([gnd, n1])\n",
    "r1.connect([n2, n1])\n",
    "l1.connect([n3, n2])\n",
    "c1.connect([gnd, n3])\n",
    "\n",
    "# Define system topology\n",
    "system = dpsimpy.SystemTopology(50, [gnd, n1, n2, n3], [vs, r1, l1, c1])\n",
    "\n",
    "# Logging\n",
    "logger = dpsimpy.Logger(name)\n",
    "logger.log_attribute('n1.v', 'v', n1)\n",
    "logger.log_attribute('n2.v', 'v', n2)\n",
    "logger.log_attribute('n3.v', 'v', n3)\n",
    "logger.log_attribute('l1.i_intf', 'i_intf', l1)\n",
    "\n",
    "\n",
    "sim = dpsimpy.Simulation(name)\n",
    "sim.set_system(system)\n",
    "sim.set_domain(dpsimpy.Domain.DP)\n",
    "sim.set_time_step(0.0001)\n",
    "sim.set_final_time(0.02)\n",
    "sim.add_logger(logger)\n",
    "sim.run()"
   ]
  },
  {
   "attachments": {},
   "cell_type": "markdown",
   "metadata": {},
   "source": [
    "### Read Results"
   ]
  },
  {
   "cell_type": "code",
   "execution_count": null,
   "metadata": {},
   "outputs": [],
   "source": [
    "# read Simulink log file\n",
    "\n",
    "import matplotlib.pyplot as plt\n",
    "import villas.dataprocessing.readtools as rt\n",
    "from villas.dataprocessing.timeseries import TimeSeries as ts\n",
    "import villas.dataprocessing.plottools as pt\n",
    "import os\n",
    "\n",
    "# read EMT results\n",
    "file_path = os.getcwd() + \"/logs/\" + name + \"/\" + name + \".csv\"\n",
    "ts_dpsim_dp = rt.read_timeseries_dpsim(file_path)\n",
    "\n",
    "#convert to emt\n",
    "ts_dpsim_dp_emt = ts.frequency_shift_list(ts_dpsim_dp, 50)"
   ]
  },
  {
   "attachments": {},
   "cell_type": "markdown",
   "metadata": {},
   "source": [
    "## DPsim DP - with RL element"
   ]
  },
  {
   "cell_type": "code",
   "execution_count": null,
   "metadata": {},
   "outputs": [],
   "source": [
    "name2 = 'DP_VS_RLC2'\n",
    "dpsimpy.Logger.set_log_dir(\"logs/\" + name2)\n",
    "\n",
    "# Nodes\n",
    "gnd = dpsimpy.dp.SimNode.gnd\n",
    "n1 = dpsimpy.dp.SimNode('n1')\n",
    "n1.set_initial_voltage(sim_pf.get_idobj_attr(n1_pf.name(), 'v').get()[0])\n",
    "n2 = dpsimpy.dp.SimNode('n2')\n",
    "n2.set_initial_voltage(sim_pf.get_idobj_attr(n3_pf.name(), 'v').get()[0])\n",
    "\n",
    "# Components\n",
    "vs = dpsimpy.dp.ph1.VoltageSource('vs', dpsimpy.LogLevel.debug)\n",
    "vs.set_parameters(V_ref=complex(10,0), f_src=50)\n",
    "rl = dpsimpy.dp.ph1.ResInductor('rl', dpsimpy.LogLevel.debug)\n",
    "rl.set_parameters(R=resistance, L=inductance)\n",
    "c1 = dpsimpy.dp.ph1.Capacitor('c1', dpsimpy.LogLevel.debug)\n",
    "c1.set_parameters(C=capacitance)\n",
    "\n",
    "# Connections\n",
    "vs.connect([gnd, n1])\n",
    "rl.connect([n2, n1])\n",
    "c1.connect([gnd, n2])\n",
    "\n",
    "# Define system topology\n",
    "system = dpsimpy.SystemTopology(50, [gnd, n1, n2], [vs, rl, c1])\n",
    "\n",
    "# Logging\n",
    "logger = dpsimpy.Logger(name2)\n",
    "logger.log_attribute('n1.v', 'v', n1)\n",
    "logger.log_attribute('n2.v', 'v', n2)\n",
    "logger.log_attribute('l1.i_intf', 'i_intf', rl)\n",
    "logger.log_attribute('rl.v', 'v_intf', rl)\n",
    "\n",
    "sim = dpsimpy.Simulation(name2)\n",
    "sim.set_system(system)\n",
    "sim.set_domain(dpsimpy.Domain.DP)\n",
    "sim.set_time_step(0.0001)\n",
    "sim.set_final_time(0.02)\n",
    "sim.add_logger(logger)\n",
    "sim.run()"
   ]
  },
  {
   "attachments": {},
   "cell_type": "markdown",
   "metadata": {},
   "source": [
    "### Read Results"
   ]
  },
  {
   "cell_type": "code",
   "execution_count": null,
   "metadata": {},
   "outputs": [],
   "source": [
    "# read EMT results\n",
    "file_path = os.getcwd() + \"/logs/\" + name2 + \"/\" + name2 + \".csv\"\n",
    "ts_dpsim_dp2 = rt.read_timeseries_dpsim(file_path)\n",
    "\n",
    "#convert to emt\n",
    "ts_dpsim_dp_emt2 = ts.frequency_shift_list(ts_dpsim_dp2, 50)"
   ]
  },
  {
   "attachments": {},
   "cell_type": "markdown",
   "metadata": {},
   "source": [
    "### Plot Results"
   ]
  },
  {
   "cell_type": "code",
   "execution_count": null,
   "metadata": {},
   "outputs": [],
   "source": [
    "ts_dpsim_dp_emt[\"n3.v_shift\"].label = 'vc - RLC circuit'\n",
    "ts_dpsim_dp_emt[\"l1.i_intf_shift\"].label = 'i - RLC circuit'\n",
    "\n",
    "ts_dpsim_dp_emt2[\"n2.v_shift\"].label = 'vc - RL Element'\n",
    "ts_dpsim_dp_emt2[\"l1.i_intf_shift\"].label = 'i - RL Element'\n",
    "\n",
    "pt.plot_timeseries(2, ts_dpsim_dp_emt[\"n3.v_shift\"])\n",
    "pt.plot_timeseries(2, ts_dpsim_dp_emt2[\"n2.v_shift\"])\n",
    "\n",
    "pt.plot_timeseries(3, ts_dpsim_dp_emt[\"l1.i_intf_shift\"])\n",
    "pt.plot_timeseries(3, ts_dpsim_dp_emt2[\"l1.i_intf_shift\"])"
   ]
  },
  {
   "attachments": {},
   "cell_type": "markdown",
   "metadata": {},
   "source": [
    "### Assert"
   ]
  },
  {
   "cell_type": "code",
   "execution_count": null,
   "metadata": {},
   "outputs": [],
   "source": [
    "# calculate the RMSE between both models\n",
    "err_current = ts.rmse(ts_dpsim_dp_emt[\"l1.i_intf_shift\"], ts_dpsim_dp_emt2[\"l1.i_intf_shift\"])\n",
    "err_voltage = ts.rmse(ts_dpsim_dp_emt[\"n3.v_shift\"], ts_dpsim_dp_emt2[\"n2.v_shift\"])\n",
    "\n",
    "assert err_current < 0.00001\n",
    "assert err_voltage < 0.00001"
   ]
  }
 ],
 "metadata": {
  "kernelspec": {
   "display_name": "Python 3",
   "language": "python",
   "name": "python3"
  },
  "language_info": {
   "codemirror_mode": {
    "name": "ipython",
    "version": 3
   },
   "file_extension": ".py",
   "mimetype": "text/x-python",
   "name": "python",
   "nbconvert_exporter": "python",
   "pygments_lexer": "ipython3",
   "version": "3.9.13"
  },
  "orig_nbformat": 4,
  "vscode": {
   "interpreter": {
    "hash": "e7370f93d1d0cde622a1f8e1c04877d8463912d04d973331ad4851f04de6915a"
   }
  }
 },
 "nbformat": 4,
 "nbformat_minor": 2
}
