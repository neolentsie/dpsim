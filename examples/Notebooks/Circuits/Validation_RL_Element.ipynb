{
 "cells": [
  {
   "attachments": {},
   "cell_type": "markdown",
   "metadata": {},
   "source": [
    "# Validation RL-Element"
   ]
  },
  {
   "attachments": {},
   "cell_type": "markdown",
   "metadata": {},
   "source": [
    "### Import dpsimpy "
   ]
  },
  {
   "cell_type": "code",
   "execution_count": null,
   "metadata": {},
   "outputs": [],
   "source": [
    "import dpsimpy"
   ]
  },
  {
   "attachments": {},
   "cell_type": "markdown",
   "metadata": {},
   "source": [
    "### Parameters"
   ]
  },
  {
   "cell_type": "code",
   "execution_count": null,
   "metadata": {},
   "outputs": [],
   "source": [
    "resistance = 10\n",
    "inductance = 1e-3\n",
    "capacitance = 5e-6\n",
    "frequency = 50"
   ]
  },
  {
   "attachments": {},
   "cell_type": "markdown",
   "metadata": {},
   "source": [
    "### Powerflow for Initialization"
   ]
  },
  {
   "cell_type": "code",
   "execution_count": null,
   "metadata": {},
   "outputs": [],
   "source": [
    "sim_name_pf = 'VS_RLC1_PF'\n",
    "dpsimpy.Logger.set_log_dir(\"logs/\" + sim_name_pf)\n",
    "\n",
    "# Nodes\n",
    "gnd_pf = dpsimpy.sp.SimNode.gnd\n",
    "n1_pf  = dpsimpy.sp.SimNode('n1_pf')\n",
    "n2_pf  = dpsimpy.sp.SimNode('n2_pf')\n",
    "n3_pf  = dpsimpy.sp.SimNode('n3_pf')\n",
    "\n",
    "# Components\n",
    "vs_pf = dpsimpy.sp.ph1.VoltageSource('vs_pf', dpsimpy.LogLevel.debug)\n",
    "vs_pf.set_parameters(V_ref=complex(10,0))\n",
    "r1_pf = dpsimpy.sp.ph1.Resistor('r1_pf', dpsimpy.LogLevel.debug)\n",
    "r1_pf.set_parameters(R=resistance)\n",
    "c1_pf = dpsimpy.sp.ph1.Capacitor('c1_pf', dpsimpy.LogLevel.debug)\n",
    "c1_pf.set_parameters(C=capacitance)\n",
    "l1_pf = dpsimpy.sp.ph1.Inductor('l1_pf', dpsimpy.LogLevel.debug)\n",
    "l1_pf.set_parameters(L=inductance)\n",
    "\n",
    "# Connections\n",
    "vs_pf.connect([gnd_pf, n1_pf])\n",
    "r1_pf.connect([n2_pf, n1_pf])\n",
    "l1_pf.connect([n3_pf, n2_pf])\n",
    "c1_pf.connect([gnd_pf, n3_pf])\n",
    "\n",
    "# Define system topology\n",
    "system_pf = dpsimpy.SystemTopology(frequency, [n1_pf, n2_pf, n3_pf], [vs_pf, r1_pf, l1_pf, c1_pf])\n",
    "\n",
    "# Logging\n",
    "logger_pf = dpsimpy.Logger(sim_name_pf)\n",
    "logger_pf.log_attribute('n1.v', 'v', n1_pf)\n",
    "logger_pf.log_attribute('n2.v', 'v', n2_pf)\n",
    "logger_pf.log_attribute('n3.v', 'v', n3_pf)\n",
    "logger_pf.log_attribute('r1.i_intf', 'i_intf', r1_pf)\n",
    "logger_pf.log_attribute('l1.i_intf', 'i_intf', l1_pf)\n",
    "\n",
    "sim_pf = dpsimpy.Simulation(sim_name_pf, dpsimpy.LogLevel.debug)\n",
    "sim_pf.set_system(system_pf)\n",
    "sim_pf.set_domain(dpsimpy.Domain.SP)\n",
    "sim_pf.set_time_step(0.1)\n",
    "sim_pf.set_final_time(0.5)\n",
    "sim_pf.add_logger(logger_pf)\n",
    "sim_pf.run()"
   ]
  },
  {
   "attachments": {},
   "cell_type": "markdown",
   "metadata": {},
   "source": [
    "## 1. DP Domain"
   ]
  },
  {
   "attachments": {},
   "cell_type": "markdown",
   "metadata": {},
   "source": [
    "### RLC circuit (reference)"
   ]
  },
  {
   "cell_type": "code",
   "execution_count": null,
   "metadata": {},
   "outputs": [],
   "source": [
    "name = 'DP_VS_RLC'\n",
    "dpsimpy.Logger.set_log_dir(\"logs/\" + name)\n",
    "\n",
    "# Nodes\n",
    "gnd = dpsimpy.dp.SimNode.gnd\n",
    "n1 = dpsimpy.dp.SimNode('n1')\n",
    "n1.set_initial_voltage(sim_pf.get_idobj_attr(n1_pf.name(), 'v').get()[0])\n",
    "n2 = dpsimpy.dp.SimNode('n2')\n",
    "n2.set_initial_voltage(sim_pf.get_idobj_attr(n2_pf.name(), 'v').get()[0])\n",
    "n3 = dpsimpy.dp.SimNode('n3')\n",
    "n3.set_initial_voltage(sim_pf.get_idobj_attr(n3_pf.name(), 'v').get()[0])\n",
    "\n",
    "# Components\n",
    "vs = dpsimpy.dp.ph1.VoltageSource('vs')\n",
    "vs.set_parameters(V_ref=complex(10,0))\n",
    "r1 = dpsimpy.dp.ph1.Resistor('r_1', dpsimpy.LogLevel.off)\n",
    "r1.R = resistance\n",
    "l1 = dpsimpy.dp.ph1.Inductor('l_1', dpsimpy.LogLevel.off)\n",
    "l1.L = inductance\n",
    "c1 = dpsimpy.dp.ph1.Capacitor('c1', dpsimpy.LogLevel.off)\n",
    "c1.set_parameters(C=capacitance)\n",
    "\n",
    "# Connections\n",
    "vs.connect([gnd, n1])\n",
    "r1.connect([n2, n1])\n",
    "l1.connect([n3, n2])\n",
    "c1.connect([gnd, n3])\n",
    "\n",
    "# Define system topology\n",
    "system = dpsimpy.SystemTopology(frequency, [gnd, n1, n2, n3], [vs, r1, l1, c1])\n",
    "\n",
    "# Logging\n",
    "logger = dpsimpy.Logger(name)\n",
    "logger.log_attribute('n1.v', 'v', n1)\n",
    "logger.log_attribute('n2.v', 'v', n2)\n",
    "logger.log_attribute('n3.v', 'v', n3)\n",
    "logger.log_attribute('l1.i_intf', 'i_intf', l1)\n",
    "\n",
    "\n",
    "sim = dpsimpy.Simulation(name, dpsimpy.LogLevel.off)\n",
    "sim.set_system(system)\n",
    "sim.set_domain(dpsimpy.Domain.DP)\n",
    "sim.set_time_step(0.0001)\n",
    "sim.set_final_time(0.02)\n",
    "sim.add_logger(logger)\n",
    "sim.run()"
   ]
  },
  {
   "attachments": {},
   "cell_type": "markdown",
   "metadata": {},
   "source": [
    "### Read Results"
   ]
  },
  {
   "cell_type": "code",
   "execution_count": null,
   "metadata": {},
   "outputs": [],
   "source": [
    "# read Simulink log file\n",
    "\n",
    "import matplotlib.pyplot as plt\n",
    "import villas.dataprocessing.readtools as rt\n",
    "from villas.dataprocessing.timeseries import TimeSeries as ts\n",
    "import villas.dataprocessing.plottools as pt\n",
    "import os\n",
    "\n",
    "# read EMT results\n",
    "file_path = os.getcwd() + \"/logs/\" + name + \"/\" + name + \".csv\"\n",
    "ts_dpsim_comps = rt.read_timeseries_dpsim(file_path)\n",
    "\n",
    "#convert to emt\n",
    "ts_dpsim_comps = ts.frequency_shift_list(ts_dpsim_comps, frequency)"
   ]
  },
  {
   "attachments": {},
   "cell_type": "markdown",
   "metadata": {},
   "source": [
    "### Circuit with RL-Element"
   ]
  },
  {
   "cell_type": "code",
   "execution_count": null,
   "metadata": {},
   "outputs": [],
   "source": [
    "name_dp = 'DP_RL-element'\n",
    "dpsimpy.Logger.set_log_dir(\"logs/\" + name_dp)\n",
    "\n",
    "# Nodes\n",
    "gnd = dpsimpy.dp.SimNode.gnd\n",
    "n1 = dpsimpy.dp.SimNode('n1')\n",
    "n1.set_initial_voltage(sim_pf.get_idobj_attr(n1_pf.name(), 'v').get()[0])\n",
    "n2 = dpsimpy.dp.SimNode('n2')\n",
    "n2.set_initial_voltage(sim_pf.get_idobj_attr(n3_pf.name(), 'v').get()[0])\n",
    "\n",
    "# Components\n",
    "vs = dpsimpy.dp.ph1.VoltageSource('vs', dpsimpy.LogLevel.debug)\n",
    "vs.set_parameters(V_ref=complex(10,0))\n",
    "rl = dpsimpy.dp.ph1.ResInductor('rl', dpsimpy.LogLevel.debug)\n",
    "rl.set_parameters(R=resistance, L=inductance)\n",
    "c1 = dpsimpy.dp.ph1.Capacitor('c1', dpsimpy.LogLevel.debug)\n",
    "c1.set_parameters(C=capacitance)\n",
    "\n",
    "# Connections\n",
    "vs.connect([gnd, n1])\n",
    "rl.connect([n2, n1])\n",
    "c1.connect([gnd, n2])\n",
    "\n",
    "# Define system topology\n",
    "system = dpsimpy.SystemTopology(frequency, [gnd, n1, n2], [vs, rl, c1])\n",
    "\n",
    "# Logging\n",
    "logger = dpsimpy.Logger(name_dp)\n",
    "logger.log_attribute('n1.v', 'v', n1)\n",
    "logger.log_attribute('n2.v', 'v', n2)\n",
    "logger.log_attribute('rl.i_intf', 'i_intf', rl)\n",
    "logger.log_attribute('rl.v', 'v_intf', rl)\n",
    "\n",
    "sim = dpsimpy.Simulation(name_dp)\n",
    "sim.set_system(system)\n",
    "sim.set_domain(dpsimpy.Domain.DP)\n",
    "sim.set_time_step(0.0001)\n",
    "sim.set_final_time(0.02)\n",
    "sim.add_logger(logger)\n",
    "sim.run()"
   ]
  },
  {
   "attachments": {},
   "cell_type": "markdown",
   "metadata": {},
   "source": [
    "### Read Results"
   ]
  },
  {
   "cell_type": "code",
   "execution_count": null,
   "metadata": {},
   "outputs": [],
   "source": [
    "# read DP results\n",
    "file_path = os.getcwd() + \"/logs/\" + name_dp + \"/\" + name_dp + \".csv\"\n",
    "ts_dpsim_dp = rt.read_timeseries_dpsim(file_path)\n",
    "\n",
    "#convert to emt\n",
    "ts_dpsim_dp = ts.frequency_shift_list(ts_dpsim_dp, frequency)"
   ]
  },
  {
   "attachments": {},
   "cell_type": "markdown",
   "metadata": {},
   "source": [
    "### Plot results"
   ]
  },
  {
   "cell_type": "code",
   "execution_count": null,
   "metadata": {},
   "outputs": [],
   "source": [
    "ts_dpsim_comps[\"n3.v_shift\"].label = 'vc - RLC circuit'\n",
    "ts_dpsim_comps[\"l1.i_intf_shift\"].label = 'i - RLC circuit'\n",
    "\n",
    "ts_dpsim_dp[\"n2.v_shift\"].label = 'vc RL Element - DP'\n",
    "ts_dpsim_dp[\"rl.i_intf_shift\"].label = 'i RL Element - DP'\n",
    "\n",
    "pt.plot_timeseries(1, ts_dpsim_comps[\"n3.v_shift\"])\n",
    "pt.plot_timeseries(1, ts_dpsim_dp[\"n2.v_shift\"], plt_linestyle='--')\n",
    "\n",
    "pt.plot_timeseries(2, ts_dpsim_comps[\"l1.i_intf_shift\"])\n",
    "pt.plot_timeseries(2, ts_dpsim_dp[\"rl.i_intf_shift\"], plt_linestyle='--')"
   ]
  },
  {
   "attachments": {},
   "cell_type": "markdown",
   "metadata": {},
   "source": [
    "### Assert "
   ]
  },
  {
   "cell_type": "code",
   "execution_count": 45,
   "metadata": {},
   "outputs": [],
   "source": [
    "# calculate the RMSE between both models\n",
    "err_current = ts.rmse(ts_dpsim_comps[\"l1.i_intf_shift\"], ts_dpsim_dp[\"rl.i_intf_shift\"])\n",
    "err_voltage = ts.rmse(ts_dpsim_comps[\"n3.v_shift\"], ts_dpsim_dp[\"n2.v_shift\"])\n",
    "\n",
    "assert err_current < 0.00001\n",
    "assert err_voltage < 0.00001"
   ]
  },
  {
   "attachments": {},
   "cell_type": "markdown",
   "metadata": {},
   "source": [
    "## 2. EMT"
   ]
  },
  {
   "attachments": {},
   "cell_type": "markdown",
   "metadata": {},
   "source": [
    "### RLC Circuit (reference)"
   ]
  },
  {
   "cell_type": "code",
   "execution_count": null,
   "metadata": {},
   "outputs": [],
   "source": [
    "name_emt_ref = 'EMT_RL-ref'\n",
    "dpsimpy.Logger.set_log_dir(\"logs/\" + name_emt_ref)\n",
    "\n",
    "# Nodes\n",
    "gnd = dpsimpy.emt.SimNode.gnd\n",
    "n1 = dpsimpy.emt.SimNode('n1', dpsimpy.PhaseType.ABC)\n",
    "n1.set_initial_voltage(dpsimpy.Math.single_phase_variable_to_three_phase(sim_pf.get_idobj_attr(n1_pf.name(), 'v').get()[0][0]))\n",
    "n2 = dpsimpy.emt.SimNode('n2', dpsimpy.PhaseType.ABC)\n",
    "n2.set_initial_voltage(dpsimpy.Math.single_phase_variable_to_three_phase(sim_pf.get_idobj_attr(n2_pf.name(), 'v').get()[0][0]))\n",
    "n3 = dpsimpy.emt.SimNode('n3', dpsimpy.PhaseType.ABC)\n",
    "n3.set_initial_voltage(dpsimpy.Math.single_phase_variable_to_three_phase(sim_pf.get_idobj_attr(n3_pf.name(), 'v').get()[0][0]))\n",
    "\n",
    "# Components\n",
    "vs = dpsimpy.emt.ph3.VoltageSource('vs', dpsimpy.LogLevel.off)\n",
    "vs.set_parameters(V_ref=dpsimpy.Math.single_phase_variable_to_three_phase(complex(10, 0)), f_src=frequency)\n",
    "r1 = dpsimpy.emt.ph3.Resistor('r1', dpsimpy.LogLevel.off)\n",
    "r1.set_parameters(R=dpsimpy.Math.single_phase_parameter_to_three_phase(resistance))\n",
    "l1 = dpsimpy.emt.ph3.Inductor('l1', dpsimpy.LogLevel.off)\n",
    "l1.set_parameters(L=dpsimpy.Math.single_phase_parameter_to_three_phase(inductance))\n",
    "c1 = dpsimpy.emt.ph3.Capacitor('c1', dpsimpy.LogLevel.off)\n",
    "c1.set_parameters(C=dpsimpy.Math.single_phase_parameter_to_three_phase(capacitance))\n",
    "\n",
    "# Connections\n",
    "vs.connect([gnd, n1])\n",
    "r1.connect([n2, n1])\n",
    "l1.connect([n3, n2])\n",
    "c1.connect([gnd, n3])\n",
    "\n",
    "\n",
    "# Define system topology\n",
    "system = dpsimpy.SystemTopology(frequency, [gnd, n1, n2, n3], [vs, r1, l1, c1])\n",
    "\n",
    "# Logging\n",
    "logger = dpsimpy.Logger(name_emt_ref)\n",
    "logger.log_attribute('n1.v', 'v', n1)\n",
    "logger.log_attribute('n2.v', 'v', n2)\n",
    "logger.log_attribute('n3.v', 'v', n3)\n",
    "logger.log_attribute('r1.i_intf', 'i_intf', r1)\n",
    "logger.log_attribute('r1.v', 'v_intf', r1)\n",
    "logger.log_attribute('l1.i_intf', 'i_intf', l1)\n",
    "logger.log_attribute('l1.v', 'v_intf', l1)\n",
    "\n",
    "sim = dpsimpy.Simulation(name_emt_ref, dpsimpy.LogLevel.off)\n",
    "sim.set_system(system)\n",
    "sim.set_domain(dpsimpy.Domain.EMT)\n",
    "sim.set_time_step(0.0001)\n",
    "sim.set_final_time(0.02)\n",
    "sim.add_logger(logger)\n",
    "sim.run()"
   ]
  },
  {
   "attachments": {},
   "cell_type": "markdown",
   "metadata": {},
   "source": [
    "### Read results"
   ]
  },
  {
   "cell_type": "code",
   "execution_count": null,
   "metadata": {},
   "outputs": [],
   "source": [
    "# read DP results\n",
    "file_path = os.getcwd() + \"/logs/\" + name_emt_ref + \"/\" + name_emt_ref + \".csv\"\n",
    "ts_dpsim_emt_ref = rt.read_timeseries_dpsim(file_path)"
   ]
  },
  {
   "attachments": {},
   "cell_type": "markdown",
   "metadata": {},
   "source": [
    "### Circuit with RL-Element"
   ]
  },
  {
   "cell_type": "code",
   "execution_count": null,
   "metadata": {},
   "outputs": [],
   "source": [
    "name_emt = 'EMT_RL-element'\n",
    "dpsimpy.Logger.set_log_dir(\"logs/\" + name_emt)\n",
    "\n",
    "# Nodes\n",
    "gnd = dpsimpy.emt.SimNode.gnd\n",
    "n1 = dpsimpy.emt.SimNode('n1', dpsimpy.PhaseType.ABC)\n",
    "n1.set_initial_voltage(dpsimpy.Math.single_phase_variable_to_three_phase(sim_pf.get_idobj_attr(n1_pf.name(), 'v').get()[0][0]))\n",
    "n2 = dpsimpy.emt.SimNode('n2', dpsimpy.PhaseType.ABC)\n",
    "n2.set_initial_voltage(dpsimpy.Math.single_phase_variable_to_three_phase(sim_pf.get_idobj_attr(n3_pf.name(), 'v').get()[0][0]))\n",
    "\n",
    "# Components\n",
    "vs = dpsimpy.emt.ph3.VoltageSource('vs', dpsimpy.LogLevel.off)\n",
    "vs.set_parameters(V_ref=dpsimpy.Math.single_phase_variable_to_three_phase(complex(10, 0)), f_src=frequency)\n",
    "rl = dpsimpy.emt.ph3.ResInductor('rl', dpsimpy.LogLevel.off)\n",
    "rl.set_parameters(R=dpsimpy.Math.single_phase_parameter_to_three_phase(resistance), L=dpsimpy.Math.single_phase_parameter_to_three_phase(inductance))\n",
    "c1 = dpsimpy.emt.ph3.Capacitor('c1', dpsimpy.LogLevel.off)\n",
    "c1.set_parameters(C=dpsimpy.Math.single_phase_parameter_to_three_phase(capacitance))\n",
    "\n",
    "# Connections\n",
    "vs.connect([gnd, n1])\n",
    "rl.connect([n2, n1])\n",
    "c1.connect([gnd, n2])\n",
    "\n",
    "# Define system topology\n",
    "system = dpsimpy.SystemTopology(frequency, [gnd, n1, n2], [vs, rl, c1])\n",
    "\n",
    "# Logging\n",
    "logger = dpsimpy.Logger(name_emt)\n",
    "logger.log_attribute('n1.v', 'v', n1)\n",
    "logger.log_attribute('n2.v', 'v', n2)\n",
    "logger.log_attribute('rl.i_intf', 'i_intf', rl)\n",
    "logger.log_attribute('rl.v', 'v_intf', rl)\n",
    "\n",
    "sim = dpsimpy.Simulation(name_emt, dpsimpy.LogLevel.off)\n",
    "sim.set_system(system)\n",
    "sim.set_domain(dpsimpy.Domain.EMT)\n",
    "sim.set_time_step(0.00001)\n",
    "sim.set_final_time(0.02)\n",
    "sim.add_logger(logger)\n",
    "sim.run()"
   ]
  },
  {
   "attachments": {},
   "cell_type": "markdown",
   "metadata": {},
   "source": [
    "### Read EMT results"
   ]
  },
  {
   "cell_type": "code",
   "execution_count": null,
   "metadata": {},
   "outputs": [],
   "source": [
    "# read DP results\n",
    "file_path = os.getcwd() + \"/logs/\" + name_emt + \"/\" + name_emt + \".csv\"\n",
    "ts_dpsim_emt = rt.read_timeseries_dpsim(file_path)"
   ]
  },
  {
   "attachments": {},
   "cell_type": "markdown",
   "metadata": {},
   "source": [
    "### Plot Results"
   ]
  },
  {
   "cell_type": "code",
   "execution_count": null,
   "metadata": {},
   "outputs": [],
   "source": [
    "ts_dpsim_emt_ref[\"l1.i_intf_0\"].label = 'i - REF'\n",
    "ts_dpsim_emt_ref[\"n3.v_0\"].label = 'vc - REF'\n",
    "ts_dpsim_emt[\"rl.i_intf_0\"].label = 'i RL Element'\n",
    "ts_dpsim_emt[\"n2.v_0\"].label = 'vc RL Element'\n",
    "\n",
    "pt.plot_timeseries(3, ts_dpsim_emt_ref[\"n3.v_0\"])\n",
    "pt.plot_timeseries(3, ts_dpsim_emt[\"n2.v_0\"], plt_linestyle='--')\n",
    "\n",
    "pt.plot_timeseries(4, ts_dpsim_emt_ref[\"l1.i_intf_0\"])\n",
    "pt.plot_timeseries(4, ts_dpsim_emt[\"rl.i_intf_0\"], plt_linestyle='--')"
   ]
  },
  {
   "attachments": {},
   "cell_type": "markdown",
   "metadata": {},
   "source": [
    "### Assert"
   ]
  },
  {
   "cell_type": "code",
   "execution_count": 46,
   "metadata": {},
   "outputs": [],
   "source": [
    "# calculate the RMSE between both models\n",
    "err_current = ts.rmse(ts_dpsim_emt_ref[\"l1.i_intf_0\"], ts_dpsim_emt[\"rl.i_intf_0\"])\n",
    "err_voltage = ts.rmse(ts_dpsim_emt_ref[\"n3.v_0\"], ts_dpsim_emt[\"n2.v_0\"])\n",
    "\n",
    "assert err_current < 0.001\n",
    "assert err_voltage < 0.001"
   ]
  },
  {
   "attachments": {},
   "cell_type": "markdown",
   "metadata": {},
   "source": [
    "## 3. SP"
   ]
  },
  {
   "attachments": {},
   "cell_type": "markdown",
   "metadata": {},
   "source": [
    "### RLC circuit (reference)"
   ]
  },
  {
   "cell_type": "code",
   "execution_count": null,
   "metadata": {},
   "outputs": [],
   "source": [
    "name_sp_ref = 'SP_VS_RLC'\n",
    "dpsimpy.Logger.set_log_dir(\"logs/\" + name_sp_ref)\n",
    "\n",
    "# Nodes\n",
    "gnd = dpsimpy.sp.SimNode.gnd\n",
    "n1 = dpsimpy.sp.SimNode('n1')\n",
    "n1.set_initial_voltage(sim_pf.get_idobj_attr(n1_pf.name(), 'v').get()[0])\n",
    "n2 = dpsimpy.sp.SimNode('n2')\n",
    "n2.set_initial_voltage(sim_pf.get_idobj_attr(n2_pf.name(), 'v').get()[0])\n",
    "n3 = dpsimpy.sp.SimNode('n3')\n",
    "n3.set_initial_voltage(sim_pf.get_idobj_attr(n3_pf.name(), 'v').get()[0])\n",
    "\n",
    "# Components\n",
    "vs = dpsimpy.sp.ph1.VoltageSource('vs')\n",
    "vs.set_parameters(V_ref=complex(10,0))\n",
    "r1 = dpsimpy.sp.ph1.Resistor('r_1', dpsimpy.LogLevel.info)\n",
    "r1.set_parameters(R=resistance)\n",
    "l1 = dpsimpy.sp.ph1.Inductor('l_1', dpsimpy.LogLevel.info)\n",
    "l1.set_parameters(L=inductance)\n",
    "c1 = dpsimpy.sp.ph1.Capacitor('c1', dpsimpy.LogLevel.info)\n",
    "c1.set_parameters(C=capacitance)\n",
    "\n",
    "# Connections\n",
    "vs.connect([gnd, n1])\n",
    "r1.connect([n2, n1])\n",
    "l1.connect([n3, n2])\n",
    "c1.connect([gnd, n3])\n",
    "\n",
    "# Define system topology\n",
    "system = dpsimpy.SystemTopology(frequency, [gnd, n1, n2, n3], [vs, r1, l1, c1])\n",
    "\n",
    "# Logging\n",
    "logger = dpsimpy.Logger(name_sp_ref)\n",
    "logger.log_attribute('n1.v', 'v', n1)\n",
    "logger.log_attribute('n2.v', 'v', n2)\n",
    "logger.log_attribute('n3.v', 'v', n3)\n",
    "logger.log_attribute('l1.i_intf', 'i_intf', l1)\n",
    "\n",
    "\n",
    "sim = dpsimpy.Simulation(name_sp_ref, dpsimpy.LogLevel.info)\n",
    "sim.set_system(system)\n",
    "sim.set_domain(dpsimpy.Domain.SP)\n",
    "sim.set_time_step(0.0001)\n",
    "sim.set_final_time(0.02)\n",
    "sim.add_logger(logger)\n",
    "sim.run()"
   ]
  },
  {
   "attachments": {},
   "cell_type": "markdown",
   "metadata": {},
   "source": [
    "### Read Results"
   ]
  },
  {
   "cell_type": "code",
   "execution_count": null,
   "metadata": {},
   "outputs": [],
   "source": [
    "# read Simulink log file\n",
    "\n",
    "# read EMT results\n",
    "file_path = os.getcwd() + \"/logs/\" + name_sp_ref + \"/\" + name_sp_ref + \".csv\"\n",
    "ts_dpsim_sp_ref = rt.read_timeseries_dpsim(file_path)\n",
    "\n",
    "#convert to emt\n",
    "ts_dpsim_sp_ref = ts.frequency_shift_list(ts_dpsim_sp_ref, frequency)"
   ]
  },
  {
   "attachments": {},
   "cell_type": "markdown",
   "metadata": {},
   "source": [
    "### Circuit with RL-Element"
   ]
  },
  {
   "cell_type": "code",
   "execution_count": null,
   "metadata": {},
   "outputs": [],
   "source": [
    "name_sp = 'SP_RL-element'\n",
    "dpsimpy.Logger.set_log_dir(\"logs/\" + name_sp)\n",
    "\n",
    "# Nodes\n",
    "gnd = dpsimpy.sp.SimNode.gnd\n",
    "n1 = dpsimpy.sp.SimNode('n1')\n",
    "n1.set_initial_voltage(sim_pf.get_idobj_attr(n1_pf.name(), 'v').get()[0])\n",
    "n2 = dpsimpy.sp.SimNode('n2')\n",
    "n2.set_initial_voltage(sim_pf.get_idobj_attr(n3_pf.name(), 'v').get()[0])\n",
    "\n",
    "# Components\n",
    "vs = dpsimpy.sp.ph1.VoltageSource('vs', dpsimpy.LogLevel.debug)\n",
    "vs.set_parameters(V_ref=complex(10,0))\n",
    "rl = dpsimpy.sp.ph1.ResInductor('rl', dpsimpy.LogLevel.debug)\n",
    "rl.set_parameters(R=resistance, L=inductance)\n",
    "c1 = dpsimpy.sp.ph1.Capacitor('c1', dpsimpy.LogLevel.debug)\n",
    "c1.set_parameters(C=capacitance)\n",
    "\n",
    "# Connections\n",
    "vs.connect([gnd, n1])\n",
    "rl.connect([n2, n1])\n",
    "c1.connect([gnd, n2])\n",
    "\n",
    "# Define system topology\n",
    "system = dpsimpy.SystemTopology(frequency, [gnd, n1, n2], [vs, rl, c1])\n",
    "\n",
    "# Logging\n",
    "logger = dpsimpy.Logger(name_sp)\n",
    "logger.log_attribute('n1.v', 'v', n1)\n",
    "logger.log_attribute('n2.v', 'v', n2)\n",
    "logger.log_attribute('rl.i_intf', 'i_intf', rl)\n",
    "logger.log_attribute('rl.v', 'v_intf', rl)\n",
    "\n",
    "sim = dpsimpy.Simulation(name_sp)\n",
    "sim.set_system(system)\n",
    "sim.set_domain(dpsimpy.Domain.SP)\n",
    "sim.set_time_step(0.0001)\n",
    "sim.set_final_time(0.02)\n",
    "sim.add_logger(logger)\n",
    "sim.run()"
   ]
  },
  {
   "attachments": {},
   "cell_type": "markdown",
   "metadata": {},
   "source": [
    "### Read Results"
   ]
  },
  {
   "cell_type": "code",
   "execution_count": null,
   "metadata": {},
   "outputs": [],
   "source": [
    "# read Simulink log file\n",
    "\n",
    "# read EMT results\n",
    "file_path = os.getcwd() + \"/logs/\" + name_sp + \"/\" + name_sp + \".csv\"\n",
    "ts_dpsim_sp = rt.read_timeseries_dpsim(file_path)\n",
    "\n",
    "#convert to emt\n",
    "ts_dpsim_sp = ts.frequency_shift_list(ts_dpsim_sp, frequency)"
   ]
  },
  {
   "attachments": {},
   "cell_type": "markdown",
   "metadata": {},
   "source": [
    "### Plot Results"
   ]
  },
  {
   "cell_type": "code",
   "execution_count": null,
   "metadata": {},
   "outputs": [],
   "source": [
    "ts_dpsim_sp_ref[\"l1.i_intf_shift\"].label = 'i - REF'\n",
    "ts_dpsim_sp_ref[\"n3.v_shift\"].label = 'vc - REF'\n",
    "ts_dpsim_sp[\"rl.i_intf_shift\"].label = 'i RL Element'\n",
    "ts_dpsim_sp[\"n2.v_shift\"].label = 'vc RL Element'\n",
    "\n",
    "pt.plot_timeseries(5, ts_dpsim_sp_ref[\"n3.v_shift\"])\n",
    "pt.plot_timeseries(5, ts_dpsim_sp[\"n2.v_shift\"], plt_linestyle='--')\n",
    "\n",
    "pt.plot_timeseries(6, ts_dpsim_sp_ref[\"l1.i_intf_shift\"])\n",
    "pt.plot_timeseries(6, ts_dpsim_sp[\"rl.i_intf_shift\"], plt_linestyle='--')"
   ]
  },
  {
   "attachments": {},
   "cell_type": "markdown",
   "metadata": {},
   "source": [
    "### Assert"
   ]
  },
  {
   "cell_type": "code",
   "execution_count": 44,
   "metadata": {},
   "outputs": [],
   "source": [
    "# calculate the RMSE between both models\n",
    "err_current = ts.rmse(ts_dpsim_sp_ref[\"l1.i_intf_shift\"], ts_dpsim_sp[\"rl.i_intf_shift\"])\n",
    "err_voltage = ts.rmse(ts_dpsim_sp_ref[\"n3.v_shift\"], ts_dpsim_sp[\"n2.v_shift\"])\n",
    "\n",
    "assert err_current < 0.00001\n",
    "assert err_voltage < 0.00001"
   ]
  }
 ],
 "metadata": {
  "kernelspec": {
   "display_name": "Python 3",
   "language": "python",
   "name": "python3"
  },
  "language_info": {
   "codemirror_mode": {
    "name": "ipython",
    "version": 3
   },
   "file_extension": ".py",
   "mimetype": "text/x-python",
   "name": "python",
   "nbconvert_exporter": "python",
   "pygments_lexer": "ipython3",
   "version": "3.9.13 (main, May 18 2022, 00:00:00) \n[GCC 11.3.1 20220421 (Red Hat 11.3.1-2)]"
  },
  "orig_nbformat": 4,
  "vscode": {
   "interpreter": {
    "hash": "e7370f93d1d0cde622a1f8e1c04877d8463912d04d973331ad4851f04de6915a"
   },
   "tests": {
    "skip": false
   }
  }
 },
 "nbformat": 4,
 "nbformat_minor": 2
}
