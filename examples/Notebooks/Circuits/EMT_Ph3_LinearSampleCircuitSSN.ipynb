{
 "cells": [
  {
   "attachments": {},
   "cell_type": "markdown",
   "metadata": {},
   "source": [
    "# EMT Ph3 Linear Circuit SSN"
   ]
  },
  {
   "attachments": {},
   "cell_type": "markdown",
   "metadata": {},
   "source": [
    "## Run C++ examples"
   ]
  },
  {
   "cell_type": "code",
   "execution_count": null,
   "metadata": {},
   "outputs": [],
   "source": [
    "import os\n",
    "import subprocess\n",
    "\n",
    "#%matplotlib widget\n",
    "\n",
    "name = 'EMT_Ph3_LinearSampleCircuit'\n",
    "\n",
    "dpsim_path = subprocess.Popen(['git', 'rev-parse', '--show-toplevel'], stdout=subprocess.PIPE).communicate()[0].rstrip().decode('utf-8')\n",
    "\n",
    "path_exec = dpsim_path + '/build/dpsim/examples/cxx/'\n",
    "sim = subprocess.Popen([path_exec + name], stdout=subprocess.PIPE, stderr=subprocess.STDOUT)\n",
    "print(sim.communicate()[0].decode())"
   ]
  },
  {
   "cell_type": "code",
   "execution_count": null,
   "metadata": {},
   "outputs": [],
   "source": [
    "from villas.dataprocessing.readtools import *\n",
    "from villas.dataprocessing.timeseries import *\n",
    "from villas.dataprocessing.timeseries import TimeSeries as ts\n",
    "import matplotlib.pyplot as plt\n",
    "import re\n",
    "import numpy as np\n",
    "import math\n",
    "\n",
    "work_dir = os.getcwd() + \"/logs/\"\n",
    "path_logfile = work_dir + name + '/' + name + '.csv'\n",
    "ts_dpsim_EMT = read_timeseries_dpsim(path_logfile)"
   ]
  },
  {
   "cell_type": "code",
   "execution_count": null,
   "metadata": {},
   "outputs": [],
   "source": [
    "name = 'EMT_Ph3_LinearSampleCircuitSSN'\n",
    "\n",
    "dpsim_path = subprocess.Popen(['git', 'rev-parse', '--show-toplevel'], stdout=subprocess.PIPE).communicate()[0].rstrip().decode('utf-8')\n",
    "\n",
    "path_exec = dpsim_path + '/build/dpsim/examples/cxx/'\n",
    "sim = subprocess.Popen([path_exec + name], stdout=subprocess.PIPE, stderr=subprocess.STDOUT)\n",
    "print(sim.communicate()[0].decode())"
   ]
  },
  {
   "cell_type": "code",
   "execution_count": null,
   "metadata": {},
   "outputs": [],
   "source": [
    "work_dir = os.getcwd() + \"/logs/\"\n",
    "path_logfile = work_dir + name + '/' + name + '.csv'\n",
    "ts_dpsim_SSN_EMT = read_timeseries_dpsim(path_logfile)"
   ]
  },
  {
   "attachments": {},
   "cell_type": "markdown",
   "metadata": {},
   "source": [
    "### Load Results"
   ]
  },
  {
   "cell_type": "code",
   "execution_count": null,
   "metadata": {},
   "outputs": [],
   "source": [
    "#plt.close('all')\n",
    "#fig1 = plt.figure()\n",
    "\n",
    "#plt.plot(ts_dpsim_EMT['i_L1_0'].time, ts_dpsim_EMT['i_L1_0'].values, \"r-\", label='I_L1_a')\n",
    "#plt.plot(ts_dpsim_EMT['i_L1_1'].time, ts_dpsim_EMT['i_L1_1'].values, \"g-\", label='I_L1_b')\n",
    "#plt.plot(ts_dpsim_EMT['i_L1_2'].time, ts_dpsim_EMT['i_L1_2'].values, \"b-\", label='I_L1_c')\n",
    "\n",
    "#plt.plot(ts_dpsim_SSN_EMT['i_L1_SSN_0'].time, ts_dpsim_SSN_EMT['i_L1_SSN_0'].values, \"rx\", markevery=10, label='I_L1_SSN_a')\n",
    "#plt.plot(ts_dpsim_SSN_EMT['i_L1_SSN_1'].time, ts_dpsim_SSN_EMT['i_L1_SSN_1'].values, \"gx\", markevery=10, label='I_L1_SSN_b')\n",
    "#plt.plot(ts_dpsim_SSN_EMT['i_L1_SSN_2'].time, ts_dpsim_SSN_EMT['i_L1_SSN_2'].values, \"bx\", markevery=10, label='I_L1_SSN_c')\n",
    "\n",
    "#plt.legend(loc = 4)\n",
    "##plt.legend(bbox_to_anchor=(1,1))\n",
    "\n",
    "#plt.title('Comparison of resistive companion and SSN simulation: Inductor current')\n",
    "#plt.xlabel('t [s]')\n",
    "#plt.ylabel('Phase current [A]')"
   ]
  },
  {
   "cell_type": "code",
   "execution_count": null,
   "metadata": {},
   "outputs": [],
   "source": [
    "#plt.close('all')\n",
    "#fig1 = plt.figure()\n",
    "\n",
    "#plt.plot(ts_dpsim_EMT['v_c1_0'].time, ts_dpsim_EMT['v_c1_0'].values, \"r-\", label='V_C1_a')\n",
    "#plt.plot(ts_dpsim_EMT['v_c1_1'].time, ts_dpsim_EMT['v_c1_1'].values, \"g-\", label='V_C1_b')\n",
    "#plt.plot(ts_dpsim_EMT['v_c1_2'].time, ts_dpsim_EMT['v_c1_2'].values, \"b-\", label='V_C1_c')\n",
    "\n",
    "#plt.plot(ts_dpsim_SSN_EMT['v_c1_SSN_0'].time, ts_dpsim_SSN_EMT['v_c1_SSN_0'].values, \"rx\", markevery=10, label='V_C1_SSN_a')\n",
    "#plt.plot(ts_dpsim_SSN_EMT['v_c1_SSN_1'].time, ts_dpsim_SSN_EMT['v_c1_SSN_1'].values, \"gx\", markevery=10, label='V_C1_SSN_b')\n",
    "#plt.plot(ts_dpsim_SSN_EMT['v_c1_SSN_2'].time, ts_dpsim_SSN_EMT['v_c1_SSN_2'].values, \"bx\", markevery=10, label='V_C1_SSN_c')\n",
    "\n",
    "#plt.legend(loc = 4)\n",
    "##plt.legend(bbox_to_anchor=(1,1))\n",
    "\n",
    "#plt.title('Comparison of resistive companion and SSN simulation: Capacitor voltage')\n",
    "#plt.xlabel('t [s]')\n",
    "#plt.ylabel('Phase voltage [V]')"
   ]
  },
  {
   "cell_type": "code",
   "execution_count": null,
   "metadata": {},
   "outputs": [],
   "source": [
    "plt.close('all')\n",
    "fig1 = plt.figure()\n",
    "\n",
    "plt.plot(ts_dpsim_EMT['I_R_0'].time, ts_dpsim_EMT['I_R_0'].values, \"r-\", label='I_R_a')\n",
    "plt.plot(ts_dpsim_EMT['I_R_1'].time, ts_dpsim_EMT['I_R_1'].values, \"g-\", label='I_R_b')\n",
    "plt.plot(ts_dpsim_EMT['I_R_2'].time, ts_dpsim_EMT['I_R_2'].values, \"b-\", label='I_R_c')\n",
    "\n",
    "plt.plot(ts_dpsim_SSN_EMT['I_RLC_SSN_0'].time, ts_dpsim_SSN_EMT['I_RLC_SSN_0'].values, \"rx\", markevery=10, label='I_RLC_SSN_a')\n",
    "plt.plot(ts_dpsim_SSN_EMT['I_RLC_SSN_1'].time, ts_dpsim_SSN_EMT['I_RLC_SSN_1'].values, \"gx\", markevery=10, label='I_RLC_SSN_b')\n",
    "plt.plot(ts_dpsim_SSN_EMT['I_RLC_SSN_2'].time, ts_dpsim_SSN_EMT['I_RLC_SSN_2'].values, \"bx\", markevery=10, label='I_RLC_SSN_c')\n",
    "\n",
    "plt.legend(loc = 4)\n",
    "#plt.legend(bbox_to_anchor=(1,1))\n",
    "\n",
    "plt.title('Comparison of resistive companion and SSN simulation results')\n",
    "plt.xlabel('t [s]')\n",
    "plt.ylabel('Phase currents [A]')"
   ]
  },
  {
   "cell_type": "code",
   "execution_count": null,
   "metadata": {},
   "outputs": [],
   "source": []
  }
 ],
 "metadata": {
  "kernelspec": {
   "display_name": "Python 3 (ipykernel)",
   "language": "python",
   "name": "python3"
  },
  "language_info": {
   "codemirror_mode": {
    "name": "ipython",
    "version": 3
   },
   "file_extension": ".py",
   "mimetype": "text/x-python",
   "name": "python",
   "nbconvert_exporter": "python",
   "pygments_lexer": "ipython3",
   "version": "3.9.13"
  },
  "tests": {
   "skip": false
  }
 },
 "nbformat": 4,
 "nbformat_minor": 4
}
