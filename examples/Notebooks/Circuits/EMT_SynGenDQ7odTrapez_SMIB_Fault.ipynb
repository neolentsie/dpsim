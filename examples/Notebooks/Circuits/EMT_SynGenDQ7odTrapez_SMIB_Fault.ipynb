{
 "cells": [
  {
   "attachments": {},
   "cell_type": "markdown",
   "metadata": {},
   "source": [
    "# Synchronous Generator dq 7th order model vs transient stability classical model"
   ]
  },
  {
   "attachments": {},
   "cell_type": "markdown",
   "metadata": {},
   "source": [
    "## Run C++ examples"
   ]
  },
  {
   "cell_type": "code",
   "execution_count": null,
   "metadata": {},
   "outputs": [],
   "source": [
    "import villas.dataprocessing.readtools as rt\n",
    "from villas.dataprocessing.timeseries import TimeSeries as ts\n",
    "import matplotlib.pyplot as plt\n",
    "import re\n",
    "import numpy as np\n",
    "import math\n",
    "import dpsimpy\n",
    "\n",
    "#%matplotlib widget\n",
    "\n",
    "begin_idx=0\n",
    "end_idx=-1"
   ]
  },
  {
   "attachments": {},
   "cell_type": "markdown",
   "metadata": {},
   "source": [
    "## Fundamental params simulation"
   ]
  },
  {
   "attachments": {},
   "cell_type": "markdown",
   "metadata": {},
   "source": [
    "### Parametrization"
   ]
  },
  {
   "cell_type": "code",
   "execution_count": null,
   "metadata": {},
   "outputs": [],
   "source": [
    "# General grid parameters\n",
    "V_nom_MV = 24e3\n",
    "V_nom_HV = 230e3\n",
    "nom_freq = 60\n",
    "ratio = V_nom_MV / V_nom_HV\n",
    "nom_omega = nom_freq * 2 * math.pi\n",
    "\n",
    "# Operation point synchronous generator \n",
    "set_point_active_power = 300e6\n",
    "set_point_voltage = 1.05*V_nom_MV\n",
    "\n",
    "# Breaker\n",
    "breaker_open = 1e9\n",
    "breaker_closed = 0.001\n",
    "\n",
    "# Line \n",
    "line_lenght = 100\n",
    "line_resistance = 1.27e-4 * 529.0 * line_lenght * ratio**2\n",
    "line_inductance = 9.05e-4 * 529.0 * line_lenght * ratio**2 / nom_omega\n",
    "line_capacitance = (1.81e-3 / 529.0 * line_lenght / ratio**2) / nom_omega\n",
    "line_conductance = 8e-2\n",
    "\n",
    "# Simulation parameters\n",
    "sim_name = \"EMT_SynGenDQ7odTrapez_SMIB_Fault\"\n",
    "final_time = 1.0\n",
    "time_step = 10e-6\n",
    "start_time_fault = 0.2"
   ]
  },
  {
   "attachments": {},
   "cell_type": "markdown",
   "metadata": {},
   "source": [
    "### Powerflow for Initialization"
   ]
  },
  {
   "cell_type": "code",
   "execution_count": null,
   "metadata": {},
   "outputs": [],
   "source": [
    "sim_name_pf = sim_name + \"_PF\"\n",
    "dpsimpy.Logger.set_log_dir(\"logs/\" + sim_name_pf)\n",
    "time_step_pf = final_time\n",
    "final_time_pf = final_time + time_step_pf\n",
    "\n",
    "# Components\n",
    "n1_pf = dpsimpy.sp.SimNode(\"n1\", dpsimpy.PhaseType.Single)\n",
    "n2_pf = dpsimpy.sp.SimNode(\"n2\", dpsimpy.PhaseType.Single)\n",
    "\n",
    "# Synchronous generator ideal model\n",
    "gen_pf = dpsimpy.sp.ph1.SynchronGenerator(\"SynGen\", dpsimpy.LogLevel.debug)\n",
    "gen_pf.set_parameters(rated_apparent_power=555e6, rated_voltage=24e3,\n",
    "                        set_point_active_power=set_point_active_power,\n",
    "                        set_point_voltage=set_point_voltage,\n",
    "                        powerflow_bus_type=dpsimpy.PowerflowBusType.PV)\n",
    "gen_pf.set_base_voltage(V_nom_MV)\n",
    "gen_pf.modify_power_flow_bus_type(dpsimpy.PowerflowBusType.PV)\n",
    "\n",
    "# Grid bus as Slack\n",
    "extnet_pf = dpsimpy.sp.ph1.NetworkInjection(\"Slack\", dpsimpy.LogLevel.debug)\n",
    "extnet_pf.set_parameters(V_nom_MV)\n",
    "extnet_pf.set_base_voltage(V_nom_MV)\n",
    "extnet_pf.modify_power_flow_bus_type(dpsimpy.PowerflowBusType.VD)\n",
    "\n",
    "# Line\n",
    "line_pf = dpsimpy.sp.ph1.PiLine(\"PiLine\", dpsimpy.LogLevel.debug)\n",
    "line_pf.set_parameters(line_resistance, line_inductance, line_capacitance, line_conductance)\n",
    "line_pf.set_base_voltage(V_nom_MV)\n",
    "\n",
    "# Topology\n",
    "gen_pf.connect([n1_pf])\n",
    "line_pf.connect([n1_pf, n2_pf])\n",
    "extnet_pf.connect([n2_pf])\n",
    "system_pf = dpsimpy.SystemTopology(nom_freq, [n1_pf, n2_pf], [gen_pf, line_pf, extnet_pf])\n",
    "\n",
    "# Logging\n",
    "logger_pf = dpsimpy.Logger(sim_name_pf)\n",
    "logger_pf.log_attribute(\"v1\", \"v\", n1_pf)\n",
    "logger_pf.log_attribute(\"v2\", \"v\", n2_pf)\n",
    "logger_pf.log_attribute(\"v_line\", \"v_intf\", line_pf)\n",
    "logger_pf.log_attribute(\"i_line\", \"i_intf\", line_pf)\n",
    "logger_pf.log_attribute(\"v_gen\", \"v_intf\", gen_pf)\n",
    "logger_pf.log_attribute(\"ig\", \"i_intf\", gen_pf)\n",
    "\n",
    "# Simulation\n",
    "sim_pf = dpsimpy.Simulation(sim_name_pf, dpsimpy.LogLevel.debug)\n",
    "sim_pf.set_system(system_pf)\n",
    "sim_pf.set_time_step(time_step_pf)\n",
    "sim_pf.set_final_time(final_time_pf)\n",
    "sim_pf.set_domain(dpsimpy.Domain.SP)\n",
    "sim_pf.set_solver(dpsimpy.Solver.NRP)\n",
    "sim_pf.set_solver_component_behaviour(dpsimpy.SolverBehaviour.Initialization)\n",
    "sim_pf.do_init_from_nodes_and_terminals(False)\n",
    "sim_pf.add_logger(logger_pf)\n",
    "sim_pf.run()"
   ]
  },
  {
   "attachments": {},
   "cell_type": "markdown",
   "metadata": {},
   "source": [
    "### Dynamic Simulation"
   ]
  },
  {
   "cell_type": "code",
   "execution_count": null,
   "metadata": {},
   "outputs": [],
   "source": [
    "dpsimpy.Logger.set_log_dir(\"logs/\"+sim_name)\n",
    "\n",
    "# Extract relevant powerflow results\n",
    "init_terminal_volt = np.abs(n1_pf.single_voltage() * dpsimpy.RMS3PH_TO_PEAK1PH)\n",
    "init_volt_angle = np.angle(n1_pf.single_voltage())\n",
    "init_active_power = np.real(gen_pf.get_apparent_power())\n",
    "init_reactive_power = np.imag(gen_pf.get_apparent_power())\n",
    "init_mech_power = init_active_power\n",
    "\n",
    "# Nodes\n",
    "n1 = dpsimpy.emt.SimNode(\"n1\", dpsimpy.PhaseType.ABC)\n",
    "n2 = dpsimpy.emt.SimNode(\"n2\", dpsimpy.PhaseType.ABC)\n",
    "\n",
    "# Components\n",
    "# Synch\n",
    "gen = dpsimpy.emt.ph3.SynchronGeneratorDQTrapez(\"SynGen\", dpsimpy.LogLevel.debug)\n",
    "gen.set_parameters_fundamental_per_unit(\n",
    "    nom_power=555e6, nom_volt=24e3, nom_freq=60, pole_number=2, nom_field_cur=1300,\n",
    "    Rs=0.003, Ll=0.15, Lmd=1.6599, Lmq=1.61, Rfd=0.0006, Llfd=0.1648, Rkd=0.0284, Llkd=0.1713, Rkq1=0.0062,\n",
    "    Llkq1=0.7252, Rkq2=0.0237, Llkq2=0.125, inertia=3.7, init_active_power=init_active_power, init_reactive_power=init_reactive_power,\n",
    "    init_terminal_volt=init_terminal_volt, init_volt_angle=init_volt_angle,\n",
    "    init_mech_power=init_mech_power\n",
    ")\n",
    "\n",
    "# Grid bus as Slack\n",
    "extnet = dpsimpy.emt.ph3.NetworkInjection(\"Slack\", dpsimpy.LogLevel.debug)\n",
    "\n",
    "# Line\n",
    "line = dpsimpy.emt.ph3.PiLine(\"PiLine\", dpsimpy.LogLevel.debug)\n",
    "line.set_parameters(dpsimpy.Math.single_phase_parameter_to_three_phase(line_resistance),\n",
    "                       dpsimpy.Math.single_phase_parameter_to_three_phase(line_inductance),\n",
    "                       dpsimpy.Math.single_phase_parameter_to_three_phase(line_capacitance),\n",
    "                       dpsimpy.Math.single_phase_parameter_to_three_phase(line_conductance))\n",
    "\n",
    "# Breaker\n",
    "fault = dpsimpy.emt.ph3.Switch(\"Br_fault\", dpsimpy.LogLevel.debug)\n",
    "fault.set_parameters(dpsimpy.Math.single_phase_parameter_to_three_phase(breaker_open),\n",
    "                     dpsimpy.Math.single_phase_parameter_to_three_phase(breaker_closed))\n",
    "fault.open()\n",
    "\n",
    "# Topology\n",
    "gen.connect([n1])\n",
    "line.connect([n1, n2])\n",
    "extnet.connect([n2])\n",
    "fault.connect([dpsimpy.emt.SimNode.gnd, n1])\n",
    "system = dpsimpy.SystemTopology(nom_freq, [n1, n2], [gen, line, fault, extnet])\n",
    "\n",
    "\n",
    "# Initialization of dynamic topology\n",
    "system.init_with_powerflow(system_pf, dpsimpy.Domain.EMT)\n",
    "\n",
    "# Logging\n",
    "logger = dpsimpy.Logger(sim_name)\n",
    "logger.log_attribute(\"v1\", \"v\", n1)\n",
    "logger.log_attribute(\"v2\", \"v\", n2)\n",
    "logger.log_attribute(\"v_line\", \"v_intf\", line)\n",
    "logger.log_attribute(\"i_line\", \"i_intf\", line)\n",
    "logger.log_attribute(\"v_gen\", \"v_intf\", gen)\n",
    "logger.log_attribute(\"i_gen\", \"i_intf\", gen)\n",
    "logger.log_attribute(\"wr_gen\", \"w_r\", gen)\n",
    "logger.log_attribute(\"delta_r\", \"delta_r\", gen)\n",
    "logger.log_attribute(\"T_e\", \"T_e\", gen)\n",
    "logger.log_attribute(\"T_m\", \"T_m\", gen)\n",
    "\n",
    "# Events\n",
    "sw1 = dpsimpy.event.SwitchEvent3Ph(start_time_fault, fault, True)\n",
    "\n",
    "# Simulation\n",
    "sim = dpsimpy.Simulation(sim_name, dpsimpy.LogLevel.debug)\n",
    "sim.set_system(system)\n",
    "sim.set_time_step(time_step)\n",
    "sim.set_final_time(final_time)\n",
    "sim.set_domain(dpsimpy.Domain.EMT)\n",
    "sim.add_logger(logger)\n",
    "sim.add_event(sw1)\n",
    "sim.run()"
   ]
  },
  {
   "attachments": {},
   "cell_type": "markdown",
   "metadata": {},
   "source": [
    "## Results 3ph EMT 7th order model with trapezoidal rule"
   ]
  },
  {
   "cell_type": "code",
   "execution_count": null,
   "metadata": {},
   "outputs": [],
   "source": [
    "work_dir = 'logs/EMT_SynGenDQ7odTrapez_SMIB_Fault/'\n",
    "log_name = 'EMT_SynGenDQ7odTrapez_SMIB_Fault'\n",
    "print(work_dir + log_name + '.csv')\n",
    "ts_emt3ph_DQ7odTrapez = rt.read_timeseries_dpsim(work_dir + log_name + '.csv')"
   ]
  },
  {
   "attachments": {},
   "cell_type": "markdown",
   "metadata": {},
   "source": [
    "## Network node voltages"
   ]
  },
  {
   "cell_type": "code",
   "execution_count": null,
   "metadata": {},
   "outputs": [],
   "source": [
    "plt.figure(figsize=(12,8))\n",
    "plt.ylabel('Network node voltage (V)', fontsize=18)\n",
    "\n",
    "for name in ['v1', 'v2']:\n",
    "    plt.plot(ts_emt3ph_DQ7odTrapez[name + '_0'].time[begin_idx:end_idx], np.sqrt(3/2)*ts_emt3ph_DQ7odTrapez[name + '_0'].values[begin_idx:end_idx], label=name)\n",
    "    \n",
    "plt.legend(fontsize=14)\n",
    "plt.show()"
   ]
  },
  {
   "attachments": {},
   "cell_type": "markdown",
   "metadata": {},
   "source": [
    "## Generator terminal voltage"
   ]
  },
  {
   "cell_type": "code",
   "execution_count": null,
   "metadata": {},
   "outputs": [],
   "source": [
    "plt.figure(figsize=(12,8))\n",
    "plt.ylabel('Generator terminal voltage (V)', fontsize=18)\n",
    "\n",
    "for name in ['v_gen']:\n",
    "    plt.plot(ts_emt3ph_DQ7odTrapez[name + '_0'].time[begin_idx:end_idx], np.sqrt(3/2)*ts_emt3ph_DQ7odTrapez[name + '_0'].values[begin_idx:end_idx], label=name)\n",
    "    \n",
    "plt.legend(fontsize=14)\n",
    "plt.show()"
   ]
  },
  {
   "attachments": {},
   "cell_type": "markdown",
   "metadata": {},
   "source": [
    "## Genrerator terminal Current"
   ]
  },
  {
   "cell_type": "code",
   "execution_count": null,
   "metadata": {},
   "outputs": [],
   "source": [
    "plt.figure(figsize=(12,8))\n",
    "plt.ylabel('Generator terminal current (V)', fontsize=18)\n",
    "\n",
    "for name in ['i_gen']:\n",
    "    plt.plot(ts_emt3ph_DQ7odTrapez[name + '_0'].time[begin_idx:end_idx], np.sqrt(3/2)*ts_emt3ph_DQ7odTrapez[name + '_0'].values[begin_idx:end_idx], label=name)\n",
    "\n",
    "plt.legend()\n",
    "plt.show()"
   ]
  },
  {
   "attachments": {},
   "cell_type": "markdown",
   "metadata": {},
   "source": [
    "## Voltage across line"
   ]
  },
  {
   "cell_type": "code",
   "execution_count": null,
   "metadata": {},
   "outputs": [],
   "source": [
    "plt.figure(figsize=(12,8))\n",
    "\n",
    "for name in ['v_line']:\n",
    "    plt.plot(ts_emt3ph_DQ7odTrapez[name + '_0'].time[begin_idx:end_idx], np.sqrt(3/2)*ts_emt3ph_DQ7odTrapez[name + '_0'].values[begin_idx:end_idx], label=name)\n",
    "\n",
    "plt.legend()\n",
    "plt.show()"
   ]
  },
  {
   "attachments": {},
   "cell_type": "markdown",
   "metadata": {},
   "source": [
    "## Current through line"
   ]
  },
  {
   "cell_type": "code",
   "execution_count": null,
   "metadata": {},
   "outputs": [],
   "source": [
    "plt.figure(figsize=(12,8))\n",
    "\n",
    "for name in ['i_line']:\n",
    "    plt.plot(ts_emt3ph_DQ7odTrapez[name + '_0'].time[begin_idx:end_idx], np.sqrt(3/2)*ts_emt3ph_DQ7odTrapez[name + '_0'].values[begin_idx:end_idx], label=name)\n",
    "\n",
    "plt.legend()\n",
    "plt.show()"
   ]
  },
  {
   "attachments": {},
   "cell_type": "markdown",
   "metadata": {},
   "source": [
    "## Rotor frequency  $f_r$"
   ]
  },
  {
   "cell_type": "code",
   "execution_count": null,
   "metadata": {},
   "outputs": [],
   "source": [
    "plt.figure(figsize=(12,8))\n",
    "plt.xlabel('time (s)', fontsize=20)\n",
    "plt.ylabel('Rotor frequency (Hz)', fontsize=20)\n",
    "plt.xticks(fontsize=18)\n",
    "plt.yticks(fontsize=18)\n",
    "\n",
    "for name in ['wr_gen']:\n",
    "    plt.plot(ts_emt3ph_DQ7odTrapez[name].time[begin_idx:end_idx], ts_emt3ph_DQ7odTrapez[name].values[begin_idx:end_idx]*60, label=name)\n",
    "\n",
    "plt.legend(fontsize=18)\n",
    "plt.show()"
   ]
  },
  {
   "attachments": {},
   "cell_type": "markdown",
   "metadata": {},
   "source": [
    "## Rotor angular velocity $\\omega _r$"
   ]
  },
  {
   "cell_type": "code",
   "execution_count": null,
   "metadata": {},
   "outputs": [],
   "source": [
    "plt.figure(figsize=(12,8))\n",
    "plt.ylabel('Rotor angular velocity (rad/s)', fontsize=18)\n",
    "\n",
    "\n",
    "for name in ['wr_gen']:\n",
    "    plt.plot(ts_emt3ph_DQ7odTrapez[name].time[begin_idx:end_idx], 2*math.pi*60*ts_emt3ph_DQ7odTrapez[name].values[begin_idx:end_idx], label=name +' Full model (9th order)')\n",
    "\n",
    "plt.legend()\n",
    "plt.show()"
   ]
  },
  {
   "attachments": {},
   "cell_type": "markdown",
   "metadata": {},
   "source": [
    "## Rotor angle $\\delta _r$"
   ]
  },
  {
   "cell_type": "code",
   "execution_count": null,
   "metadata": {},
   "outputs": [],
   "source": [
    "plt.figure(figsize=(12,8))\n",
    "for name in ['delta_r']:\n",
    "    plt.plot(ts_emt3ph_DQ7odTrapez[name].time[begin_idx:end_idx], ts_emt3ph_DQ7odTrapez[name].values[begin_idx:end_idx]*180/3.14, label=name + ' Full model (9th order)')\n"
   ]
  }
 ],
 "metadata": {
  "kernelspec": {
   "display_name": "Python 3 (ipykernel)",
   "language": "python",
   "name": "python3"
  },
  "language_info": {
   "codemirror_mode": {
    "name": "ipython",
    "version": 3
   },
   "file_extension": ".py",
   "mimetype": "text/x-python",
   "name": "python",
   "nbconvert_exporter": "python",
   "pygments_lexer": "ipython3",
   "version": "3.9.7"
  },
  "tests": {
   "skip": false
  }
 },
 "nbformat": 4,
 "nbformat_minor": 4
}
