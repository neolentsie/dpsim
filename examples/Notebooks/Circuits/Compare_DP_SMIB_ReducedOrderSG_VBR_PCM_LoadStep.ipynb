{
 "cells": [
  {
   "attachments": {},
   "cell_type": "markdown",
   "metadata": {},
   "source": [
    "# Validation of PCM and VBR models against each other with DP SMIB Load Step"
   ]
  },
  {
   "attachments": {},
   "cell_type": "markdown",
   "metadata": {},
   "source": [
    "## Load Libraries"
   ]
  },
  {
   "cell_type": "code",
   "execution_count": null,
   "metadata": {},
   "outputs": [],
   "source": [
    "import re\n",
    "import numpy as np\n",
    "import math\n",
    "import os\n",
    "import subprocess\n",
    "import pickle\n",
    "from villas.dataprocessing.readtools import *\n",
    "from villas.dataprocessing.timeseries import *\n",
    "import matplotlib.pyplot as plt\n",
    "import dpsimpy\n",
    "\n",
    "#%matplotlib widget"
   ]
  },
  {
   "attachments": {},
   "cell_type": "markdown",
   "metadata": {},
   "source": [
    "## Simulation parameters"
   ]
  },
  {
   "cell_type": "code",
   "execution_count": null,
   "metadata": {},
   "outputs": [],
   "source": [
    "root_path = subprocess.Popen(['git', 'rev-parse', '--show-toplevel'], stdout=subprocess.PIPE).communicate()[0].rstrip().decode('utf-8')\n",
    "path_exec = root_path + '/build/dpsim/examples/cxx/'\n",
    "\n",
    "name_executable_vbr = 'DP_SMIB_ReducedOrderSG_LoadStep'\n",
    "name_vbr = \"DP_SMIB_ReducedOrderSG_VBR_LoadStep\"\n",
    "\n",
    "name_executable_pcm = 'DP_SMIB_ReducedOrderSGIterative_LoadStep'\n",
    "name_pcm = \"DP_SMIB_ReducedOrderSGIterativePCM_LoadStep\"\n",
    "\n",
    "# times in s\n",
    "end_time = 1\n",
    "load_step_time = 0.1\n",
    "roi_begin = 0.1\n",
    "roi_end = 1\n",
    "\n",
    "# config params\n",
    "timestep_vbr = 0.1e-3\n",
    "timestep_pcm = 10e-6\n",
    "max_iter = 10\n",
    "tolerance = 1e-6\n",
    "\n",
    "roi_begin_idx = int(roi_begin/timestep_pcm)\n",
    "roi_end_idx = int(roi_end/timestep_pcm)\n",
    "\n",
    "logs_path = 'logs'\n",
    "if not os.path.exists(logs_path):\n",
    "    os.mkdir(logs_path)\n",
    "    \n",
    "var_name = 'SynGen.Te'\n",
    "\n",
    "te_ref = 0.5454986888690558"
   ]
  },
  {
   "attachments": {},
   "cell_type": "markdown",
   "metadata": {},
   "source": [
    "## Parametrization"
   ]
  },
  {
   "cell_type": "code",
   "execution_count": null,
   "metadata": {},
   "outputs": [],
   "source": [
    "from math import sqrt, pi\n",
    "\n",
    "### Power System\n",
    "nominal_voltage_hv = 230e3\n",
    "nominal_voltage_mv = 24e3\n",
    "ratio = nominal_voltage_mv/nominal_voltage_hv\n",
    "frequency = 60\n",
    "omega = 2 * pi * frequency\n",
    "\n",
    "### Generator\n",
    "nom_power = 555e6\n",
    "set_point_active_power = 300e6\n",
    "set_point_voltage = 1.05*nominal_voltage_mv\n",
    "H = 3.7\n",
    "Td0_t = 8.0669\n",
    "Td0_s = 0.0300\n",
    "Td_t = 1.3368\n",
    "Td_s = 0.0230\n",
    "Ld_t = 0.2999\n",
    "Ld_s = 0.2299\n",
    "Tq0_t = 0.9991\n",
    "Tq0_s = 0.0700\n",
    "Lq_t = 0.6500\n",
    "Lq_s = 0.2500\n",
    "Ld = 1.8099\n",
    "Lq = 1.7600\n",
    "L0 = 0.15\n",
    "Taa = 0\n",
    "      \n",
    "### PiLine parameters calculated from CIGRE Benchmark system\n",
    "line_length = 100\n",
    "line_resistance = 1.27e-4 * 529 * line_length * pow(ratio,2)\n",
    "line_inductance = 9.05e-4 * 529 / omega * line_length * pow(ratio,2)\n",
    "line_capacitance = (1.81e-3 / 529) / omega * line_length / pow(ratio,2)\n",
    "line_conductance = 0.0048\n",
    "\n",
    "### Load step\n",
    "load_step_activePower = 100e6; "
   ]
  },
  {
   "attachments": {},
   "cell_type": "markdown",
   "metadata": {},
   "source": [
    "## Run powerflow for Initialization"
   ]
  },
  {
   "cell_type": "code",
   "execution_count": null,
   "metadata": {},
   "outputs": [],
   "source": [
    "sim_name_pf = \"DP_SMIB_ReducedOrderSGIterative_LoadStep_PF\"\n",
    "dpsimpy.Logger.set_log_dir(\"logs/\" + sim_name_pf)\n",
    "\n",
    "### Nodes\n",
    "gnd_pf = dpsimpy.sp.SimNode.gnd\n",
    "n1_pf  = dpsimpy.sp.SimNode('n1', dpsimpy.PhaseType.Single)\n",
    "n2_pf  = dpsimpy.sp.SimNode('n2', dpsimpy.PhaseType.Single)\n",
    "\n",
    "### Components\n",
    "\n",
    "# syncrhon generator\n",
    "gen_pf = dpsimpy.sp.ph1.SynchronGenerator('gen', dpsimpy.LogLevel.debug)\n",
    "gen_pf.set_parameters(rated_apparent_power=nom_power, rated_voltage=nominal_voltage_mv, \n",
    "                      set_point_active_power=set_point_active_power, set_point_voltage=set_point_voltage, \n",
    "                      powerflow_bus_type=dpsimpy.PowerflowBusType.PV)\n",
    "gen_pf.set_base_voltage(nominal_voltage_mv)\n",
    "gen_pf.modify_power_flow_bus_type(dpsimpy.PowerflowBusType.PV)\n",
    "\n",
    "# Grid bus as Slack\n",
    "extnet_pf = dpsimpy.sp.ph1.NetworkInjection(\"Slack\", dpsimpy.LogLevel.debug)\n",
    "extnet_pf.set_parameters(nominal_voltage_mv)\n",
    "extnet_pf.set_base_voltage(nominal_voltage_mv)\n",
    "extnet_pf.modify_power_flow_bus_type(dpsimpy.PowerflowBusType.VD)\n",
    "\n",
    "# PiLine\n",
    "pi_line_pf = dpsimpy.sp.ph1.PiLine('Pi_Line_pf', dpsimpy.LogLevel.debug)\n",
    "pi_line_pf.set_parameters(R=line_resistance, L=line_inductance, C=line_capacitance, G=line_conductance)\n",
    "pi_line_pf.set_base_voltage(nominal_voltage_mv)\n",
    "\n",
    "### Connections\n",
    "gen_pf.connect([n1_pf])\n",
    "pi_line_pf.connect([n2_pf, n1_pf])\n",
    "extnet_pf.connect([n2_pf])\n",
    "\n",
    "### Define system topology\n",
    "system_pf = dpsimpy.SystemTopology(frequency, [n1_pf, n2_pf], [gen_pf, pi_line_pf, extnet_pf])\n",
    "\n",
    "# Logging\n",
    "logger_pf = dpsimpy.Logger(sim_name_pf)\n",
    "logger_pf.log_attribute('n1.v', 'v', n1_pf)\n",
    "logger_pf.log_attribute('n2.v', 'v', n2_pf)\n",
    "logger_pf.log_attribute('p_inj', 'p_inj', extnet_pf)\n",
    "logger_pf.log_attribute('q_inj', 'q_inj', extnet_pf)\n",
    "\n",
    "sim_pf = dpsimpy.Simulation(sim_name_pf, dpsimpy.LogLevel.debug)\n",
    "sim_pf.set_system(system_pf)\n",
    "sim_pf.set_domain(dpsimpy.Domain.SP)\n",
    "sim_pf.set_solver(dpsimpy.Solver.NRP)\n",
    "sim_pf.set_solver_component_behaviour(dpsimpy.SolverBehaviour.Initialization)\n",
    "sim_pf.set_time_step(0.1)\n",
    "sim_pf.set_final_time(0.5)\n",
    "sim_pf.add_logger(logger_pf)\n",
    "sim_pf.run()"
   ]
  },
  {
   "attachments": {},
   "cell_type": "markdown",
   "metadata": {},
   "source": [
    "## DPSim Topology for DP simulations"
   ]
  },
  {
   "cell_type": "code",
   "execution_count": null,
   "metadata": {},
   "outputs": [],
   "source": [
    "def dp_reducedOrderSG_loadStep(sim_pf, gen_pf, gen_model=\"4TPM\", event_time=0.1, final_time=0.5, time_step=10e-6, max_iter=10, tolerance=1e-6):\n",
    "    \n",
    "    ### DPsim DP simulation\n",
    "    name = \"DP_SMIB_ReducedOrderSGIterative_LoadStep_\" + gen_model\n",
    "    dpsimpy.Logger.set_log_dir(\"logs/\" + name)\n",
    "\n",
    "    ### Nodes\n",
    "    gnd = dpsimpy.dp.SimNode.gnd\n",
    "    n1 = dpsimpy.dp.SimNode('n1', dpsimpy.PhaseType.Single) \n",
    "    n2 = dpsimpy.dp.SimNode('n2', dpsimpy.PhaseType.Single)\n",
    "\n",
    "    ### Components\n",
    "\n",
    "    # syncrhon generator\n",
    "    gen = None\n",
    "    if (gen_model==\"4VBR\"):\n",
    "        gen = dpsimpy.dp.ph1.SynchronGenerator4OrderVBR('gen', dpsimpy.LogLevel.debug)\n",
    "        gen.set_operational_parameters_per_unit(nom_power=nom_power, nom_voltage=nominal_voltage_mv, nom_frequency=frequency, \n",
    "                                                H=H, Ld=Ld, Lq=Lq, L0=L0, Ld_t=Ld_t, Lq_t=Lq_t, Td0_t=Td0_t, Tq0_t=Tq0_t)\t\t\n",
    "    elif (gen_model==\"6VBR\"):\n",
    "        gen = dpsimpy.dp.ph1.SynchronGenerator6bOrderVBR('gen', dpsimpy.LogLevel.debug)\n",
    "        gen.set_operational_parameters_per_unit(nom_power=nom_power, nom_voltage=nominal_voltage_mv, nom_frequency=frequency, \n",
    "                                                H=H, Ld=Ld, Lq=Lq, L0=L0, Ld_t=Ld_t, Lq_t=Lq_t, Td0_t=Td0_t, Tq0_t=Tq0_t,\n",
    "                                                Ld_s=Ld_s, Lq_s=Lq_s, Td0_s=Td0_s, Tq0_s=Tq0_s)\n",
    "    elif (gen_model==\"4TPM\"):\n",
    "        gen = dpsimpy.dp.ph1.SynchronGenerator4OrderTPM('gen', dpsimpy.LogLevel.debug)\n",
    "        gen.set_operational_parameters_per_unit(nom_power=nom_power, nom_voltage=nominal_voltage_mv, nom_frequency=frequency, \n",
    "                                                H=H, Ld=Ld, Lq=Lq, L0=L0, Ld_t=Ld_t, Lq_t=Lq_t, Td0_t=Td0_t, Tq0_t=Tq0_t)\n",
    "        gen.set_max_iterations(max_iter=max_iter)\n",
    "        gen.set_tolerance(tolerance=tolerance)\n",
    "    elif (gen_model==\"4PCM\"):\n",
    "        gen = dpsimpy.dp.ph1.SynchronGenerator4OrderPCM('gen', dpsimpy.LogLevel.debug)\n",
    "        gen.set_operational_parameters_per_unit(nom_power=nom_power, nom_voltage=nominal_voltage_mv, nom_frequency=frequency, \n",
    "                                                H=H, Ld=Ld, Lq=Lq, L0=L0, Ld_t=Ld_t, Lq_t=Lq_t, Td0_t=Td0_t, Tq0_t=Tq0_t)\n",
    "        gen.set_max_iterations(max_iter=max_iter)\n",
    "        gen.set_tolerance(tolerance=tolerance)\t\t\n",
    "    elif (gen_model==\"6PCM\"):\n",
    "        gen = dpsimpy.dp.ph1.SynchronGenerator6OrderPCM('gen', dpsimpy.LogLevel.debug)\n",
    "        gen.set_operational_parameters_per_unit(nom_power=nom_power, nom_voltage=nominal_voltage_mv, nom_frequency=frequency, \n",
    "                                                H=H, Ld=Ld, Lq=Lq, L0=L0, Ld_t=Ld_t, Lq_t=Lq_t, Td0_t=Td0_t, Tq0_t=Tq0_t,\n",
    "                                                Ld_s=Ld_s, Lq_s=Lq_s, Td0_s=Td0_s, Tq0_s=Tq0_s)\n",
    "        gen.set_max_iterations(max_iter=max_iter)\n",
    "        gen.set_tolerance(tolerance=tolerance)\n",
    "\n",
    "    # Switch\n",
    "    switch = dpsimpy.dp.ph1.Switch('Load_Add_Switch_', dpsimpy.LogLevel.debug)\n",
    "    resistance = abs(sim_pf.get_idobj_attr(n1_pf.name(), 'v').get()[0][0])**2 / load_step_activePower\n",
    "    switch.set_parameters(1e9, resistance)\n",
    "    switch.open()\n",
    "\n",
    "    # pi line\n",
    "    pi_line = dpsimpy.dp.ph1.PiLine('PiLine', dpsimpy.LogLevel.debug)\n",
    "    pi_line.set_parameters(series_resistance=line_resistance,\n",
    "                           series_inductance=line_inductance,\n",
    "                           parallel_capacitance=line_capacitance,\n",
    "                           parallel_conductance=line_conductance)\n",
    "\n",
    "    # Slack\n",
    "    slack = dpsimpy.dp.ph1.NetworkInjection('slack', dpsimpy.LogLevel.debug)\n",
    "    slack.set_parameters(V_ref=nominal_voltage_mv)\n",
    "    \n",
    "    ### Connections\n",
    "    gen.connect([n1])\n",
    "    switch.connect([gnd, n1])\n",
    "    pi_line.connect([n1, n2])\n",
    "    slack.connect([n2])\n",
    "    \n",
    "    ### Define system topology\n",
    "    system = dpsimpy.SystemTopology(frequency, [n1, n2], [gen, pi_line, slack, switch])\n",
    "\n",
    "    ### Logging\n",
    "    logger = dpsimpy.Logger(name)\n",
    "    logger.log_attribute('Te', 'Te', gen)\n",
    "\n",
    "    # init node voltages and SG power with power flow\n",
    "    system.init_with_powerflow(systemPF=system_pf)\n",
    "    \n",
    "    ### Simulation\n",
    "    sim = dpsimpy.Simulation(name, dpsimpy.LogLevel.debug)\n",
    "    sim.set_system(system)\n",
    "    sim.do_init_from_nodes_and_terminals(True)\n",
    "    sim.set_domain(dpsimpy.Domain.DP)\n",
    "    sim.set_time_step(time_step)\n",
    "    sim.set_final_time(final_time)\n",
    "    if (gen_model==\"4VBR\" or gen_model==\"6VBR\"):\n",
    "        sim.do_system_matrix_recomputation(True)\n",
    "    \n",
    "    sw_event_1 = dpsimpy.event.SwitchEvent(event_time, switch, True)\n",
    "    sim.add_event(sw_event_1)\n",
    "    \n",
    "    sim.add_logger(logger)\n",
    "    sim.run()\n",
    "    \n",
    "    return name"
   ]
  },
  {
   "attachments": {},
   "cell_type": "markdown",
   "metadata": {},
   "source": [
    "## Run DPSim simulations (DP Domain)"
   ]
  },
  {
   "attachments": {},
   "cell_type": "markdown",
   "metadata": {},
   "source": [
    "### 4th Order VBR"
   ]
  },
  {
   "cell_type": "code",
   "execution_count": null,
   "metadata": {},
   "outputs": [],
   "source": [
    "log_name = dp_reducedOrderSG_loadStep(sim_pf, gen_pf, gen_model=\"4VBR\", event_time=load_step_time, final_time=end_time, time_step=timestep_vbr)"
   ]
  },
  {
   "cell_type": "code",
   "execution_count": null,
   "metadata": {},
   "outputs": [],
   "source": [
    "# read Simulink log file\n",
    "\n",
    "file_path = os.getcwd() + \"/logs/\" + log_name + \"/\" + log_name + \".csv\"\n",
    "ts_dpsim_4VBR = read_timeseries_dpsim(file_path)\n",
    "ts_dpsim_4VBR['Te'] = TimeSeries('Te', ts_dpsim_4VBR['Te'].interpolate(timestep_pcm).time, ts_dpsim_4VBR['Te'].interpolate(timestep_pcm).values)\n",
    "ts_dpsim_4VBR_roi={}\n",
    "ts_dpsim_4VBR_roi['Te'] = TimeSeries('Te', ts_dpsim_4VBR['Te'].time[roi_begin_idx:roi_end_idx], ts_dpsim_4VBR['Te'].values[roi_begin_idx:roi_end_idx])"
   ]
  },
  {
   "attachments": {},
   "cell_type": "markdown",
   "metadata": {},
   "source": [
    "### 6th Order VBR"
   ]
  },
  {
   "cell_type": "code",
   "execution_count": null,
   "metadata": {},
   "outputs": [],
   "source": [
    "log_name = dp_reducedOrderSG_loadStep(sim_pf, gen_pf, gen_model=\"6VBR\", event_time=load_step_time, final_time=end_time, time_step=timestep_vbr)"
   ]
  },
  {
   "cell_type": "code",
   "execution_count": null,
   "metadata": {},
   "outputs": [],
   "source": [
    "# read Simulink log file\n",
    "\n",
    "file_path = os.getcwd() + \"/logs/\" + log_name + \"/\" + log_name + \".csv\"\n",
    "ts_dpsim_6VBR = read_timeseries_dpsim(file_path)\n",
    "ts_dpsim_6VBR['Te'] = TimeSeries('Te', ts_dpsim_6VBR['Te'].interpolate(timestep_pcm).time, ts_dpsim_6VBR['Te'].interpolate(timestep_pcm).values)\n",
    "ts_dpsim_6VBR_roi={}\n",
    "ts_dpsim_6VBR_roi['Te'] = TimeSeries('Te', ts_dpsim_6VBR['Te'].time[roi_begin_idx:roi_end_idx], ts_dpsim_6VBR['Te'].values[roi_begin_idx:roi_end_idx])"
   ]
  },
  {
   "attachments": {},
   "cell_type": "markdown",
   "metadata": {},
   "source": [
    "### 4th Order PCM"
   ]
  },
  {
   "cell_type": "code",
   "execution_count": null,
   "metadata": {},
   "outputs": [],
   "source": [
    "log_name = dp_reducedOrderSG_loadStep(sim_pf, gen_pf, gen_model=\"4PCM\", event_time=load_step_time, final_time=end_time, time_step=timestep_pcm, max_iter=max_iter, tolerance=tolerance)"
   ]
  },
  {
   "cell_type": "code",
   "execution_count": null,
   "metadata": {},
   "outputs": [],
   "source": [
    "# read Simulink log file\n",
    "\n",
    "file_path = os.getcwd() + \"/logs/\" + log_name + \"/\" + log_name + \".csv\"\n",
    "ts_dpsim_4PCM = read_timeseries_dpsim(file_path)\n",
    "ts_dpsim_4PCM_roi={}\n",
    "ts_dpsim_4PCM_roi['Te'] = TimeSeries('Te', ts_dpsim_4PCM['Te'].time[roi_begin_idx:roi_end_idx], ts_dpsim_4PCM['Te'].values[roi_begin_idx:roi_end_idx])"
   ]
  },
  {
   "attachments": {},
   "cell_type": "markdown",
   "metadata": {},
   "source": [
    "### 6th Order PCM"
   ]
  },
  {
   "cell_type": "code",
   "execution_count": null,
   "metadata": {},
   "outputs": [],
   "source": [
    "log_name = dp_reducedOrderSG_loadStep(sim_pf, gen_pf, gen_model=\"6PCM\", event_time=load_step_time, final_time=end_time, time_step=timestep_pcm, max_iter=max_iter, tolerance=tolerance)"
   ]
  },
  {
   "cell_type": "code",
   "execution_count": null,
   "metadata": {},
   "outputs": [],
   "source": [
    "# read Simulink log file\n",
    "file_path = os.getcwd() + \"/logs/\" + log_name + \"/\" + log_name + \".csv\"\n",
    "ts_dpsim_6PCM = read_timeseries_dpsim(file_path)\n",
    "ts_dpsim_6PCM_roi={}\n",
    "ts_dpsim_6PCM_roi['Te'] = TimeSeries('Te', ts_dpsim_6PCM['Te'].time[roi_begin_idx:roi_end_idx], ts_dpsim_6PCM['Te'].values[roi_begin_idx:roi_end_idx])"
   ]
  },
  {
   "attachments": {},
   "cell_type": "markdown",
   "metadata": {},
   "source": [
    "## Compare Results"
   ]
  },
  {
   "attachments": {},
   "cell_type": "markdown",
   "metadata": {},
   "source": [
    "### 4 Order"
   ]
  },
  {
   "cell_type": "code",
   "execution_count": null,
   "metadata": {},
   "outputs": [],
   "source": [
    "plt.figure()\n",
    "plt.plot(ts_dpsim_4VBR['Te'].time, ts_dpsim_4VBR['Te'].values, label='VBR')\n",
    "plt.plot(ts_dpsim_4PCM['Te'].time, ts_dpsim_4PCM['Te'].values, linestyle='--', label='4 Order PCM - MaxIter 10')\n",
    "plt.legend()\n",
    "plt.show()"
   ]
  },
  {
   "cell_type": "code",
   "execution_count": null,
   "metadata": {},
   "outputs": [],
   "source": [
    "rmse = ts_dpsim_4VBR_roi['Te'].rmse(ts_dpsim_4PCM_roi['Te'], ts_dpsim_4VBR_roi['Te'])/te_ref*100\n",
    "print('RMSE of PCM 4 Order = {}%'.format(rmse))\n",
    "assert(rmse<0.449)"
   ]
  },
  {
   "attachments": {},
   "cell_type": "markdown",
   "metadata": {},
   "source": [
    "### 6 Order"
   ]
  },
  {
   "cell_type": "code",
   "execution_count": null,
   "metadata": {},
   "outputs": [],
   "source": [
    "plt.figure()\n",
    "plt.plot(ts_dpsim_6VBR['Te'].time, ts_dpsim_6VBR['Te'].values, label='6 Order VBR')\n",
    "plt.plot(ts_dpsim_6PCM['Te'].time, ts_dpsim_6PCM['Te'].values, linestyle='--', label='6 Order PCM - MaxIter 10')\n",
    "plt.legend()\n",
    "plt.show()"
   ]
  },
  {
   "cell_type": "code",
   "execution_count": null,
   "metadata": {},
   "outputs": [],
   "source": [
    "rmse = ts_dpsim_6VBR_roi['Te'].rmse(ts_dpsim_6PCM_roi['Te'], ts_dpsim_6VBR_roi['Te'])/te_ref*100\n",
    "print('RMSE of PCM 6 Order = {}%'.format(rmse))\n",
    "assert(rmse<0.381)"
   ]
  },
  {
   "cell_type": "code",
   "execution_count": null,
   "metadata": {},
   "outputs": [],
   "source": []
  }
 ],
 "metadata": {
  "kernelspec": {
   "display_name": "Python 3 (ipykernel)",
   "language": "python",
   "name": "python3"
  },
  "language_info": {
   "codemirror_mode": {
    "name": "ipython",
    "version": 3
   },
   "file_extension": ".py",
   "mimetype": "text/x-python",
   "name": "python",
   "nbconvert_exporter": "python",
   "pygments_lexer": "ipython3",
   "version": "3.9.13"
  },
  "tests": {
   "skip": true
  },
  "vscode": {
   "interpreter": {
    "hash": "e7370f93d1d0cde622a1f8e1c04877d8463912d04d973331ad4851f04de6915a"
   }
  }
 },
 "nbformat": 4,
 "nbformat_minor": 4
}
